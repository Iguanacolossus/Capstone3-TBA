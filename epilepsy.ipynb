{
 "cells": [
  {
   "cell_type": "code",
   "execution_count": 2,
   "metadata": {},
   "outputs": [
    {
     "name": "stdout",
     "output_type": "stream",
     "text": [
      "/home/rachel/Galvanize/capstone3/Capstone3-repo/data\n"
     ]
    }
   ],
   "source": [
    "cd data\n"
   ]
  },
  {
   "cell_type": "code",
   "execution_count": 3,
   "metadata": {},
   "outputs": [
    {
     "name": "stdout",
     "output_type": "stream",
     "text": [
      "EpilepsyDimension1_TEST.arff   \u001b[0m\u001b[01;35mEpilepsy.jpg\u001b[0m\r\n",
      "EpilepsyDimension1_TRAIN.arff  Epilepsy_TEST.arff\r\n",
      "EpilepsyDimension2_TEST.arff   Epilepsy_TEST.ts\r\n",
      "EpilepsyDimension2_TRAIN.arff  Epilepsy_TRAIN.arff\r\n",
      "EpilepsyDimension3_TEST.arff   Epilepsy_TRAIN.ts\r\n",
      "EpilepsyDimension3_TRAIN.arff  Epilepsy.txt\r\n"
     ]
    }
   ],
   "source": [
    "ls"
   ]
  },
  {
   "cell_type": "code",
   "execution_count": 5,
   "metadata": {},
   "outputs": [
    {
     "data": {
      "text/plain": [
       "'/home/rachel/Galvanize/capstone3/Capstone3-repo'"
      ]
     },
     "execution_count": 5,
     "metadata": {},
     "output_type": "execute_result"
    }
   ],
   "source": [
    "pwd"
   ]
  },
  {
   "cell_type": "code",
   "execution_count": 6,
   "metadata": {},
   "outputs": [],
   "source": [
    "from scipy.io import arff\n",
    "import pandas as pd"
   ]
  },
  {
   "cell_type": "code",
   "execution_count": 21,
   "metadata": {},
   "outputs": [],
   "source": [
    "train1,train2 = arff.loadarff('data/Epilepsy_TRAIN.arff')"
   ]
  },
  {
   "cell_type": "code",
   "execution_count": 31,
   "metadata": {},
   "outputs": [],
   "source": [
    "train_df = pd.DataFrame(train1)"
   ]
  },
  {
   "cell_type": "code",
   "execution_count": 24,
   "metadata": {},
   "outputs": [
    {
     "data": {
      "text/plain": [
       "Dataset: 'Epilepsy'\n",
       "\trelationalAtt's type is relational\n",
       "\tactivity's type is nominal, range is ('EPILEPSY', 'WALKING', 'RUNNING', 'SAWING')"
      ]
     },
     "execution_count": 24,
     "metadata": {},
     "output_type": "execute_result"
    }
   ],
   "source": [
    "train2"
   ]
  },
  {
   "cell_type": "code",
   "execution_count": 43,
   "metadata": {},
   "outputs": [
    {
     "data": {
      "text/plain": [
       "0      [[0.35, 0.4, 0.44, 0.47, 0.48, 0.47, 0.44, 0.4...\n",
       "1      [[-0.91, -0.92, -0.95, -0.95, -0.95, -0.94, -0...\n",
       "2      [[0.32, 0.71, 0.7, 0.75, 0.88, 0.58, 1.34, 0.6...\n",
       "3      [[-0.68, -0.36, -0.13, -0.38, -0.49, -0.48, -0...\n",
       "4      [[0.34, 0.53, 0.58, 0.61, 0.64, 0.63, 0.44, 0....\n",
       "                             ...                        \n",
       "132    [[0.45, -0.28, 0.28, 1.33, 1.01, 0.06, -0.11, ...\n",
       "133    [[0.24, -0.79, -0.65, 0.07, 1.5, 1.55, 0.94, 0...\n",
       "134    [[1.16, -0.02, -1.04, -0.81, 0.36, 1.69, 0.93,...\n",
       "135    [[-0.74, -0.14, 0.12, -0.08, -0.78, -1.42, -1....\n",
       "136    [[1.06, 1.14, 0.37, -0.22, 0.14, 1.09, 1.13, 0...\n",
       "Name: relationalAtt, Length: 137, dtype: object"
      ]
     },
     "execution_count": 43,
     "metadata": {},
     "output_type": "execute_result"
    }
   ],
   "source": [
    "train_df.iloc[:,0]"
   ]
  },
  {
   "cell_type": "code",
   "execution_count": 33,
   "metadata": {},
   "outputs": [],
   "source": [
    "traind1,metad1 = arff.loadarff('data/EpilepsyDimension1_TRAIN.arff')"
   ]
  },
  {
   "cell_type": "code",
   "execution_count": 34,
   "metadata": {},
   "outputs": [],
   "source": [
    "traind1_df = pd.DataFrame(traind1)"
   ]
  },
  {
   "cell_type": "code",
   "execution_count": 36,
   "metadata": {},
   "outputs": [
    {
     "data": {
      "text/html": [
       "<div>\n",
       "<style scoped>\n",
       "    .dataframe tbody tr th:only-of-type {\n",
       "        vertical-align: middle;\n",
       "    }\n",
       "\n",
       "    .dataframe tbody tr th {\n",
       "        vertical-align: top;\n",
       "    }\n",
       "\n",
       "    .dataframe thead th {\n",
       "        text-align: right;\n",
       "    }\n",
       "</style>\n",
       "<table border=\"1\" class=\"dataframe\">\n",
       "  <thead>\n",
       "    <tr style=\"text-align: right;\">\n",
       "      <th></th>\n",
       "      <th>channel_0_0</th>\n",
       "      <th>channel_0_1</th>\n",
       "      <th>channel_0_2</th>\n",
       "      <th>channel_0_3</th>\n",
       "      <th>channel_0_4</th>\n",
       "      <th>channel_0_5</th>\n",
       "      <th>channel_0_6</th>\n",
       "      <th>channel_0_7</th>\n",
       "      <th>channel_0_8</th>\n",
       "      <th>channel_0_9</th>\n",
       "      <th>...</th>\n",
       "      <th>channel_0_197</th>\n",
       "      <th>channel_0_198</th>\n",
       "      <th>channel_0_199</th>\n",
       "      <th>channel_0_200</th>\n",
       "      <th>channel_0_201</th>\n",
       "      <th>channel_0_202</th>\n",
       "      <th>channel_0_203</th>\n",
       "      <th>channel_0_204</th>\n",
       "      <th>channel_0_205</th>\n",
       "      <th>activity</th>\n",
       "    </tr>\n",
       "  </thead>\n",
       "  <tbody>\n",
       "    <tr>\n",
       "      <th>0</th>\n",
       "      <td>0.35</td>\n",
       "      <td>0.40</td>\n",
       "      <td>0.44</td>\n",
       "      <td>0.47</td>\n",
       "      <td>0.48</td>\n",
       "      <td>0.47</td>\n",
       "      <td>0.44</td>\n",
       "      <td>0.42</td>\n",
       "      <td>0.43</td>\n",
       "      <td>0.37</td>\n",
       "      <td>...</td>\n",
       "      <td>0.51</td>\n",
       "      <td>0.50</td>\n",
       "      <td>0.55</td>\n",
       "      <td>0.54</td>\n",
       "      <td>0.58</td>\n",
       "      <td>0.61</td>\n",
       "      <td>0.62</td>\n",
       "      <td>0.65</td>\n",
       "      <td>0.69</td>\n",
       "      <td>b'EPILEPSY'</td>\n",
       "    </tr>\n",
       "    <tr>\n",
       "      <th>1</th>\n",
       "      <td>-0.91</td>\n",
       "      <td>-0.92</td>\n",
       "      <td>-0.95</td>\n",
       "      <td>-0.95</td>\n",
       "      <td>-0.95</td>\n",
       "      <td>-0.94</td>\n",
       "      <td>-0.96</td>\n",
       "      <td>-0.96</td>\n",
       "      <td>-0.95</td>\n",
       "      <td>-0.95</td>\n",
       "      <td>...</td>\n",
       "      <td>-0.51</td>\n",
       "      <td>-0.56</td>\n",
       "      <td>-0.58</td>\n",
       "      <td>-0.61</td>\n",
       "      <td>-0.56</td>\n",
       "      <td>-0.56</td>\n",
       "      <td>-0.47</td>\n",
       "      <td>-0.45</td>\n",
       "      <td>-0.45</td>\n",
       "      <td>b'EPILEPSY'</td>\n",
       "    </tr>\n",
       "    <tr>\n",
       "      <th>2</th>\n",
       "      <td>0.32</td>\n",
       "      <td>0.71</td>\n",
       "      <td>0.70</td>\n",
       "      <td>0.75</td>\n",
       "      <td>0.88</td>\n",
       "      <td>0.58</td>\n",
       "      <td>1.34</td>\n",
       "      <td>0.66</td>\n",
       "      <td>0.71</td>\n",
       "      <td>0.23</td>\n",
       "      <td>...</td>\n",
       "      <td>0.63</td>\n",
       "      <td>0.60</td>\n",
       "      <td>0.60</td>\n",
       "      <td>0.59</td>\n",
       "      <td>0.59</td>\n",
       "      <td>0.58</td>\n",
       "      <td>0.59</td>\n",
       "      <td>0.59</td>\n",
       "      <td>0.59</td>\n",
       "      <td>b'EPILEPSY'</td>\n",
       "    </tr>\n",
       "    <tr>\n",
       "      <th>3</th>\n",
       "      <td>-0.68</td>\n",
       "      <td>-0.36</td>\n",
       "      <td>-0.13</td>\n",
       "      <td>-0.38</td>\n",
       "      <td>-0.49</td>\n",
       "      <td>-0.48</td>\n",
       "      <td>-0.27</td>\n",
       "      <td>-0.26</td>\n",
       "      <td>-0.48</td>\n",
       "      <td>-0.44</td>\n",
       "      <td>...</td>\n",
       "      <td>-0.51</td>\n",
       "      <td>-0.38</td>\n",
       "      <td>-0.26</td>\n",
       "      <td>-0.25</td>\n",
       "      <td>-0.32</td>\n",
       "      <td>-0.32</td>\n",
       "      <td>-0.40</td>\n",
       "      <td>-0.23</td>\n",
       "      <td>-0.25</td>\n",
       "      <td>b'EPILEPSY'</td>\n",
       "    </tr>\n",
       "    <tr>\n",
       "      <th>4</th>\n",
       "      <td>0.34</td>\n",
       "      <td>0.53</td>\n",
       "      <td>0.58</td>\n",
       "      <td>0.61</td>\n",
       "      <td>0.64</td>\n",
       "      <td>0.63</td>\n",
       "      <td>0.44</td>\n",
       "      <td>0.58</td>\n",
       "      <td>0.61</td>\n",
       "      <td>0.60</td>\n",
       "      <td>...</td>\n",
       "      <td>0.72</td>\n",
       "      <td>0.69</td>\n",
       "      <td>0.66</td>\n",
       "      <td>0.58</td>\n",
       "      <td>0.51</td>\n",
       "      <td>0.49</td>\n",
       "      <td>0.40</td>\n",
       "      <td>0.26</td>\n",
       "      <td>0.12</td>\n",
       "      <td>b'EPILEPSY'</td>\n",
       "    </tr>\n",
       "    <tr>\n",
       "      <th>...</th>\n",
       "      <td>...</td>\n",
       "      <td>...</td>\n",
       "      <td>...</td>\n",
       "      <td>...</td>\n",
       "      <td>...</td>\n",
       "      <td>...</td>\n",
       "      <td>...</td>\n",
       "      <td>...</td>\n",
       "      <td>...</td>\n",
       "      <td>...</td>\n",
       "      <td>...</td>\n",
       "      <td>...</td>\n",
       "      <td>...</td>\n",
       "      <td>...</td>\n",
       "      <td>...</td>\n",
       "      <td>...</td>\n",
       "      <td>...</td>\n",
       "      <td>...</td>\n",
       "      <td>...</td>\n",
       "      <td>...</td>\n",
       "      <td>...</td>\n",
       "    </tr>\n",
       "    <tr>\n",
       "      <th>132</th>\n",
       "      <td>0.45</td>\n",
       "      <td>-0.28</td>\n",
       "      <td>0.28</td>\n",
       "      <td>1.33</td>\n",
       "      <td>1.01</td>\n",
       "      <td>0.06</td>\n",
       "      <td>-0.11</td>\n",
       "      <td>0.72</td>\n",
       "      <td>1.30</td>\n",
       "      <td>0.75</td>\n",
       "      <td>...</td>\n",
       "      <td>-0.20</td>\n",
       "      <td>0.37</td>\n",
       "      <td>1.41</td>\n",
       "      <td>0.96</td>\n",
       "      <td>-0.01</td>\n",
       "      <td>-0.03</td>\n",
       "      <td>0.83</td>\n",
       "      <td>1.21</td>\n",
       "      <td>0.62</td>\n",
       "      <td>b'SAWING'</td>\n",
       "    </tr>\n",
       "    <tr>\n",
       "      <th>133</th>\n",
       "      <td>0.24</td>\n",
       "      <td>-0.79</td>\n",
       "      <td>-0.65</td>\n",
       "      <td>0.07</td>\n",
       "      <td>1.50</td>\n",
       "      <td>1.55</td>\n",
       "      <td>0.94</td>\n",
       "      <td>0.44</td>\n",
       "      <td>-0.39</td>\n",
       "      <td>-0.70</td>\n",
       "      <td>...</td>\n",
       "      <td>0.96</td>\n",
       "      <td>0.95</td>\n",
       "      <td>0.95</td>\n",
       "      <td>0.95</td>\n",
       "      <td>0.95</td>\n",
       "      <td>0.95</td>\n",
       "      <td>0.95</td>\n",
       "      <td>0.95</td>\n",
       "      <td>0.95</td>\n",
       "      <td>b'SAWING'</td>\n",
       "    </tr>\n",
       "    <tr>\n",
       "      <th>134</th>\n",
       "      <td>1.16</td>\n",
       "      <td>-0.02</td>\n",
       "      <td>-1.04</td>\n",
       "      <td>-0.81</td>\n",
       "      <td>0.36</td>\n",
       "      <td>1.69</td>\n",
       "      <td>0.93</td>\n",
       "      <td>-0.38</td>\n",
       "      <td>-0.97</td>\n",
       "      <td>-0.52</td>\n",
       "      <td>...</td>\n",
       "      <td>-0.37</td>\n",
       "      <td>-0.97</td>\n",
       "      <td>-0.39</td>\n",
       "      <td>1.11</td>\n",
       "      <td>1.36</td>\n",
       "      <td>0.70</td>\n",
       "      <td>-0.51</td>\n",
       "      <td>-0.94</td>\n",
       "      <td>-0.48</td>\n",
       "      <td>b'SAWING'</td>\n",
       "    </tr>\n",
       "    <tr>\n",
       "      <th>135</th>\n",
       "      <td>-0.74</td>\n",
       "      <td>-0.14</td>\n",
       "      <td>0.12</td>\n",
       "      <td>-0.08</td>\n",
       "      <td>-0.78</td>\n",
       "      <td>-1.42</td>\n",
       "      <td>-1.22</td>\n",
       "      <td>-0.77</td>\n",
       "      <td>-0.19</td>\n",
       "      <td>0.19</td>\n",
       "      <td>...</td>\n",
       "      <td>-0.66</td>\n",
       "      <td>-0.46</td>\n",
       "      <td>-0.49</td>\n",
       "      <td>-0.67</td>\n",
       "      <td>-0.88</td>\n",
       "      <td>-0.69</td>\n",
       "      <td>-0.40</td>\n",
       "      <td>-0.23</td>\n",
       "      <td>-0.27</td>\n",
       "      <td>b'SAWING'</td>\n",
       "    </tr>\n",
       "    <tr>\n",
       "      <th>136</th>\n",
       "      <td>1.06</td>\n",
       "      <td>1.14</td>\n",
       "      <td>0.37</td>\n",
       "      <td>-0.22</td>\n",
       "      <td>0.14</td>\n",
       "      <td>1.09</td>\n",
       "      <td>1.13</td>\n",
       "      <td>0.39</td>\n",
       "      <td>-0.20</td>\n",
       "      <td>0.26</td>\n",
       "      <td>...</td>\n",
       "      <td>-0.23</td>\n",
       "      <td>0.40</td>\n",
       "      <td>1.22</td>\n",
       "      <td>0.85</td>\n",
       "      <td>-0.08</td>\n",
       "      <td>-0.11</td>\n",
       "      <td>0.73</td>\n",
       "      <td>1.26</td>\n",
       "      <td>0.59</td>\n",
       "      <td>b'SAWING'</td>\n",
       "    </tr>\n",
       "  </tbody>\n",
       "</table>\n",
       "<p>137 rows × 207 columns</p>\n",
       "</div>"
      ],
      "text/plain": [
       "     channel_0_0  channel_0_1  channel_0_2  channel_0_3  channel_0_4  \\\n",
       "0           0.35         0.40         0.44         0.47         0.48   \n",
       "1          -0.91        -0.92        -0.95        -0.95        -0.95   \n",
       "2           0.32         0.71         0.70         0.75         0.88   \n",
       "3          -0.68        -0.36        -0.13        -0.38        -0.49   \n",
       "4           0.34         0.53         0.58         0.61         0.64   \n",
       "..           ...          ...          ...          ...          ...   \n",
       "132         0.45        -0.28         0.28         1.33         1.01   \n",
       "133         0.24        -0.79        -0.65         0.07         1.50   \n",
       "134         1.16        -0.02        -1.04        -0.81         0.36   \n",
       "135        -0.74        -0.14         0.12        -0.08        -0.78   \n",
       "136         1.06         1.14         0.37        -0.22         0.14   \n",
       "\n",
       "     channel_0_5  channel_0_6  channel_0_7  channel_0_8  channel_0_9  ...  \\\n",
       "0           0.47         0.44         0.42         0.43         0.37  ...   \n",
       "1          -0.94        -0.96        -0.96        -0.95        -0.95  ...   \n",
       "2           0.58         1.34         0.66         0.71         0.23  ...   \n",
       "3          -0.48        -0.27        -0.26        -0.48        -0.44  ...   \n",
       "4           0.63         0.44         0.58         0.61         0.60  ...   \n",
       "..           ...          ...          ...          ...          ...  ...   \n",
       "132         0.06        -0.11         0.72         1.30         0.75  ...   \n",
       "133         1.55         0.94         0.44        -0.39        -0.70  ...   \n",
       "134         1.69         0.93        -0.38        -0.97        -0.52  ...   \n",
       "135        -1.42        -1.22        -0.77        -0.19         0.19  ...   \n",
       "136         1.09         1.13         0.39        -0.20         0.26  ...   \n",
       "\n",
       "     channel_0_197  channel_0_198  channel_0_199  channel_0_200  \\\n",
       "0             0.51           0.50           0.55           0.54   \n",
       "1            -0.51          -0.56          -0.58          -0.61   \n",
       "2             0.63           0.60           0.60           0.59   \n",
       "3            -0.51          -0.38          -0.26          -0.25   \n",
       "4             0.72           0.69           0.66           0.58   \n",
       "..             ...            ...            ...            ...   \n",
       "132          -0.20           0.37           1.41           0.96   \n",
       "133           0.96           0.95           0.95           0.95   \n",
       "134          -0.37          -0.97          -0.39           1.11   \n",
       "135          -0.66          -0.46          -0.49          -0.67   \n",
       "136          -0.23           0.40           1.22           0.85   \n",
       "\n",
       "     channel_0_201  channel_0_202  channel_0_203  channel_0_204  \\\n",
       "0             0.58           0.61           0.62           0.65   \n",
       "1            -0.56          -0.56          -0.47          -0.45   \n",
       "2             0.59           0.58           0.59           0.59   \n",
       "3            -0.32          -0.32          -0.40          -0.23   \n",
       "4             0.51           0.49           0.40           0.26   \n",
       "..             ...            ...            ...            ...   \n",
       "132          -0.01          -0.03           0.83           1.21   \n",
       "133           0.95           0.95           0.95           0.95   \n",
       "134           1.36           0.70          -0.51          -0.94   \n",
       "135          -0.88          -0.69          -0.40          -0.23   \n",
       "136          -0.08          -0.11           0.73           1.26   \n",
       "\n",
       "     channel_0_205     activity  \n",
       "0             0.69  b'EPILEPSY'  \n",
       "1            -0.45  b'EPILEPSY'  \n",
       "2             0.59  b'EPILEPSY'  \n",
       "3            -0.25  b'EPILEPSY'  \n",
       "4             0.12  b'EPILEPSY'  \n",
       "..             ...          ...  \n",
       "132           0.62    b'SAWING'  \n",
       "133           0.95    b'SAWING'  \n",
       "134          -0.48    b'SAWING'  \n",
       "135          -0.27    b'SAWING'  \n",
       "136           0.59    b'SAWING'  \n",
       "\n",
       "[137 rows x 207 columns]"
      ]
     },
     "execution_count": 36,
     "metadata": {},
     "output_type": "execute_result"
    }
   ],
   "source": [
    "traind1_df"
   ]
  },
  {
   "cell_type": "code",
   "execution_count": 38,
   "metadata": {},
   "outputs": [],
   "source": [
    "traind2,metad2 = arff.loadarff('data/EpilepsyDimension2_TRAIN.arff')"
   ]
  },
  {
   "cell_type": "code",
   "execution_count": 39,
   "metadata": {},
   "outputs": [],
   "source": [
    "traind2_df = pd.DataFrame(traind2)"
   ]
  },
  {
   "cell_type": "code",
   "execution_count": 40,
   "metadata": {},
   "outputs": [
    {
     "data": {
      "text/html": [
       "<div>\n",
       "<style scoped>\n",
       "    .dataframe tbody tr th:only-of-type {\n",
       "        vertical-align: middle;\n",
       "    }\n",
       "\n",
       "    .dataframe tbody tr th {\n",
       "        vertical-align: top;\n",
       "    }\n",
       "\n",
       "    .dataframe thead th {\n",
       "        text-align: right;\n",
       "    }\n",
       "</style>\n",
       "<table border=\"1\" class=\"dataframe\">\n",
       "  <thead>\n",
       "    <tr style=\"text-align: right;\">\n",
       "      <th></th>\n",
       "      <th>channel_1_0</th>\n",
       "      <th>channel_1_1</th>\n",
       "      <th>channel_1_2</th>\n",
       "      <th>channel_1_3</th>\n",
       "      <th>channel_1_4</th>\n",
       "      <th>channel_1_5</th>\n",
       "      <th>channel_1_6</th>\n",
       "      <th>channel_1_7</th>\n",
       "      <th>channel_1_8</th>\n",
       "      <th>channel_1_9</th>\n",
       "      <th>...</th>\n",
       "      <th>channel_1_197</th>\n",
       "      <th>channel_1_198</th>\n",
       "      <th>channel_1_199</th>\n",
       "      <th>channel_1_200</th>\n",
       "      <th>channel_1_201</th>\n",
       "      <th>channel_1_202</th>\n",
       "      <th>channel_1_203</th>\n",
       "      <th>channel_1_204</th>\n",
       "      <th>channel_1_205</th>\n",
       "      <th>activity</th>\n",
       "    </tr>\n",
       "  </thead>\n",
       "  <tbody>\n",
       "    <tr>\n",
       "      <th>0</th>\n",
       "      <td>0.22</td>\n",
       "      <td>0.01</td>\n",
       "      <td>-0.71</td>\n",
       "      <td>-0.33</td>\n",
       "      <td>-0.40</td>\n",
       "      <td>0.19</td>\n",
       "      <td>0.36</td>\n",
       "      <td>-0.58</td>\n",
       "      <td>-1.45</td>\n",
       "      <td>-0.87</td>\n",
       "      <td>...</td>\n",
       "      <td>-0.05</td>\n",
       "      <td>0.42</td>\n",
       "      <td>-0.83</td>\n",
       "      <td>-1.46</td>\n",
       "      <td>-0.88</td>\n",
       "      <td>-0.04</td>\n",
       "      <td>0.72</td>\n",
       "      <td>-0.90</td>\n",
       "      <td>-1.30</td>\n",
       "      <td>b'EPILEPSY'</td>\n",
       "    </tr>\n",
       "    <tr>\n",
       "      <th>1</th>\n",
       "      <td>-0.05</td>\n",
       "      <td>-0.02</td>\n",
       "      <td>0.01</td>\n",
       "      <td>0.01</td>\n",
       "      <td>-0.03</td>\n",
       "      <td>0.04</td>\n",
       "      <td>0.05</td>\n",
       "      <td>-0.03</td>\n",
       "      <td>0.19</td>\n",
       "      <td>0.42</td>\n",
       "      <td>...</td>\n",
       "      <td>0.38</td>\n",
       "      <td>0.45</td>\n",
       "      <td>0.30</td>\n",
       "      <td>0.35</td>\n",
       "      <td>0.58</td>\n",
       "      <td>0.69</td>\n",
       "      <td>0.88</td>\n",
       "      <td>0.80</td>\n",
       "      <td>0.76</td>\n",
       "      <td>b'EPILEPSY'</td>\n",
       "    </tr>\n",
       "    <tr>\n",
       "      <th>2</th>\n",
       "      <td>1.00</td>\n",
       "      <td>-1.33</td>\n",
       "      <td>-1.44</td>\n",
       "      <td>-0.16</td>\n",
       "      <td>0.70</td>\n",
       "      <td>0.19</td>\n",
       "      <td>-1.78</td>\n",
       "      <td>-0.91</td>\n",
       "      <td>0.59</td>\n",
       "      <td>1.18</td>\n",
       "      <td>...</td>\n",
       "      <td>-1.10</td>\n",
       "      <td>-1.55</td>\n",
       "      <td>-0.57</td>\n",
       "      <td>0.64</td>\n",
       "      <td>0.57</td>\n",
       "      <td>-1.60</td>\n",
       "      <td>-1.04</td>\n",
       "      <td>0.47</td>\n",
       "      <td>1.23</td>\n",
       "      <td>b'EPILEPSY'</td>\n",
       "    </tr>\n",
       "    <tr>\n",
       "      <th>3</th>\n",
       "      <td>-1.69</td>\n",
       "      <td>-0.58</td>\n",
       "      <td>1.05</td>\n",
       "      <td>-0.12</td>\n",
       "      <td>-2.11</td>\n",
       "      <td>-1.41</td>\n",
       "      <td>-0.20</td>\n",
       "      <td>0.89</td>\n",
       "      <td>-0.63</td>\n",
       "      <td>-2.01</td>\n",
       "      <td>...</td>\n",
       "      <td>-0.36</td>\n",
       "      <td>-0.33</td>\n",
       "      <td>-0.33</td>\n",
       "      <td>-0.32</td>\n",
       "      <td>-0.34</td>\n",
       "      <td>-0.39</td>\n",
       "      <td>-0.34</td>\n",
       "      <td>-0.28</td>\n",
       "      <td>-0.24</td>\n",
       "      <td>b'EPILEPSY'</td>\n",
       "    </tr>\n",
       "    <tr>\n",
       "      <th>4</th>\n",
       "      <td>-0.89</td>\n",
       "      <td>1.17</td>\n",
       "      <td>1.00</td>\n",
       "      <td>-1.87</td>\n",
       "      <td>-2.03</td>\n",
       "      <td>0.05</td>\n",
       "      <td>1.51</td>\n",
       "      <td>-0.05</td>\n",
       "      <td>-2.85</td>\n",
       "      <td>-1.04</td>\n",
       "      <td>...</td>\n",
       "      <td>1.47</td>\n",
       "      <td>-1.37</td>\n",
       "      <td>-2.27</td>\n",
       "      <td>-0.01</td>\n",
       "      <td>1.58</td>\n",
       "      <td>-0.28</td>\n",
       "      <td>-2.75</td>\n",
       "      <td>-0.93</td>\n",
       "      <td>1.04</td>\n",
       "      <td>b'EPILEPSY'</td>\n",
       "    </tr>\n",
       "    <tr>\n",
       "      <th>...</th>\n",
       "      <td>...</td>\n",
       "      <td>...</td>\n",
       "      <td>...</td>\n",
       "      <td>...</td>\n",
       "      <td>...</td>\n",
       "      <td>...</td>\n",
       "      <td>...</td>\n",
       "      <td>...</td>\n",
       "      <td>...</td>\n",
       "      <td>...</td>\n",
       "      <td>...</td>\n",
       "      <td>...</td>\n",
       "      <td>...</td>\n",
       "      <td>...</td>\n",
       "      <td>...</td>\n",
       "      <td>...</td>\n",
       "      <td>...</td>\n",
       "      <td>...</td>\n",
       "      <td>...</td>\n",
       "      <td>...</td>\n",
       "      <td>...</td>\n",
       "    </tr>\n",
       "    <tr>\n",
       "      <th>132</th>\n",
       "      <td>-0.21</td>\n",
       "      <td>-1.20</td>\n",
       "      <td>-1.26</td>\n",
       "      <td>-0.41</td>\n",
       "      <td>-0.03</td>\n",
       "      <td>-0.80</td>\n",
       "      <td>-1.40</td>\n",
       "      <td>-0.84</td>\n",
       "      <td>-0.13</td>\n",
       "      <td>-0.41</td>\n",
       "      <td>...</td>\n",
       "      <td>-1.39</td>\n",
       "      <td>-1.18</td>\n",
       "      <td>-0.55</td>\n",
       "      <td>-0.25</td>\n",
       "      <td>-0.64</td>\n",
       "      <td>-1.29</td>\n",
       "      <td>-1.20</td>\n",
       "      <td>-0.36</td>\n",
       "      <td>-0.07</td>\n",
       "      <td>b'SAWING'</td>\n",
       "    </tr>\n",
       "    <tr>\n",
       "      <th>133</th>\n",
       "      <td>0.50</td>\n",
       "      <td>0.69</td>\n",
       "      <td>0.86</td>\n",
       "      <td>0.60</td>\n",
       "      <td>0.48</td>\n",
       "      <td>0.78</td>\n",
       "      <td>0.63</td>\n",
       "      <td>0.46</td>\n",
       "      <td>0.61</td>\n",
       "      <td>0.75</td>\n",
       "      <td>...</td>\n",
       "      <td>0.55</td>\n",
       "      <td>0.68</td>\n",
       "      <td>0.50</td>\n",
       "      <td>0.59</td>\n",
       "      <td>0.76</td>\n",
       "      <td>0.78</td>\n",
       "      <td>0.64</td>\n",
       "      <td>0.52</td>\n",
       "      <td>0.67</td>\n",
       "      <td>b'SAWING'</td>\n",
       "    </tr>\n",
       "    <tr>\n",
       "      <th>134</th>\n",
       "      <td>0.90</td>\n",
       "      <td>0.59</td>\n",
       "      <td>0.52</td>\n",
       "      <td>0.28</td>\n",
       "      <td>0.34</td>\n",
       "      <td>0.84</td>\n",
       "      <td>0.72</td>\n",
       "      <td>0.57</td>\n",
       "      <td>0.56</td>\n",
       "      <td>0.27</td>\n",
       "      <td>...</td>\n",
       "      <td>0.32</td>\n",
       "      <td>0.32</td>\n",
       "      <td>0.30</td>\n",
       "      <td>0.27</td>\n",
       "      <td>0.25</td>\n",
       "      <td>0.27</td>\n",
       "      <td>0.29</td>\n",
       "      <td>0.29</td>\n",
       "      <td>0.29</td>\n",
       "      <td>b'SAWING'</td>\n",
       "    </tr>\n",
       "    <tr>\n",
       "      <th>135</th>\n",
       "      <td>-0.19</td>\n",
       "      <td>-0.24</td>\n",
       "      <td>-0.34</td>\n",
       "      <td>-0.64</td>\n",
       "      <td>-0.59</td>\n",
       "      <td>-0.46</td>\n",
       "      <td>-0.38</td>\n",
       "      <td>-0.08</td>\n",
       "      <td>-0.22</td>\n",
       "      <td>-0.40</td>\n",
       "      <td>...</td>\n",
       "      <td>-0.48</td>\n",
       "      <td>-0.35</td>\n",
       "      <td>-0.30</td>\n",
       "      <td>-0.21</td>\n",
       "      <td>-0.33</td>\n",
       "      <td>-0.48</td>\n",
       "      <td>-0.54</td>\n",
       "      <td>-0.43</td>\n",
       "      <td>-0.36</td>\n",
       "      <td>b'SAWING'</td>\n",
       "    </tr>\n",
       "    <tr>\n",
       "      <th>136</th>\n",
       "      <td>-1.40</td>\n",
       "      <td>-1.13</td>\n",
       "      <td>-0.59</td>\n",
       "      <td>-0.38</td>\n",
       "      <td>-0.60</td>\n",
       "      <td>-1.18</td>\n",
       "      <td>-1.35</td>\n",
       "      <td>-0.75</td>\n",
       "      <td>-0.18</td>\n",
       "      <td>-0.43</td>\n",
       "      <td>...</td>\n",
       "      <td>-0.75</td>\n",
       "      <td>-1.04</td>\n",
       "      <td>-1.33</td>\n",
       "      <td>-1.26</td>\n",
       "      <td>-0.95</td>\n",
       "      <td>-0.47</td>\n",
       "      <td>-0.18</td>\n",
       "      <td>-0.60</td>\n",
       "      <td>-0.99</td>\n",
       "      <td>b'SAWING'</td>\n",
       "    </tr>\n",
       "  </tbody>\n",
       "</table>\n",
       "<p>137 rows × 207 columns</p>\n",
       "</div>"
      ],
      "text/plain": [
       "     channel_1_0  channel_1_1  channel_1_2  channel_1_3  channel_1_4  \\\n",
       "0           0.22         0.01        -0.71        -0.33        -0.40   \n",
       "1          -0.05        -0.02         0.01         0.01        -0.03   \n",
       "2           1.00        -1.33        -1.44        -0.16         0.70   \n",
       "3          -1.69        -0.58         1.05        -0.12        -2.11   \n",
       "4          -0.89         1.17         1.00        -1.87        -2.03   \n",
       "..           ...          ...          ...          ...          ...   \n",
       "132        -0.21        -1.20        -1.26        -0.41        -0.03   \n",
       "133         0.50         0.69         0.86         0.60         0.48   \n",
       "134         0.90         0.59         0.52         0.28         0.34   \n",
       "135        -0.19        -0.24        -0.34        -0.64        -0.59   \n",
       "136        -1.40        -1.13        -0.59        -0.38        -0.60   \n",
       "\n",
       "     channel_1_5  channel_1_6  channel_1_7  channel_1_8  channel_1_9  ...  \\\n",
       "0           0.19         0.36        -0.58        -1.45        -0.87  ...   \n",
       "1           0.04         0.05        -0.03         0.19         0.42  ...   \n",
       "2           0.19        -1.78        -0.91         0.59         1.18  ...   \n",
       "3          -1.41        -0.20         0.89        -0.63        -2.01  ...   \n",
       "4           0.05         1.51        -0.05        -2.85        -1.04  ...   \n",
       "..           ...          ...          ...          ...          ...  ...   \n",
       "132        -0.80        -1.40        -0.84        -0.13        -0.41  ...   \n",
       "133         0.78         0.63         0.46         0.61         0.75  ...   \n",
       "134         0.84         0.72         0.57         0.56         0.27  ...   \n",
       "135        -0.46        -0.38        -0.08        -0.22        -0.40  ...   \n",
       "136        -1.18        -1.35        -0.75        -0.18        -0.43  ...   \n",
       "\n",
       "     channel_1_197  channel_1_198  channel_1_199  channel_1_200  \\\n",
       "0            -0.05           0.42          -0.83          -1.46   \n",
       "1             0.38           0.45           0.30           0.35   \n",
       "2            -1.10          -1.55          -0.57           0.64   \n",
       "3            -0.36          -0.33          -0.33          -0.32   \n",
       "4             1.47          -1.37          -2.27          -0.01   \n",
       "..             ...            ...            ...            ...   \n",
       "132          -1.39          -1.18          -0.55          -0.25   \n",
       "133           0.55           0.68           0.50           0.59   \n",
       "134           0.32           0.32           0.30           0.27   \n",
       "135          -0.48          -0.35          -0.30          -0.21   \n",
       "136          -0.75          -1.04          -1.33          -1.26   \n",
       "\n",
       "     channel_1_201  channel_1_202  channel_1_203  channel_1_204  \\\n",
       "0            -0.88          -0.04           0.72          -0.90   \n",
       "1             0.58           0.69           0.88           0.80   \n",
       "2             0.57          -1.60          -1.04           0.47   \n",
       "3            -0.34          -0.39          -0.34          -0.28   \n",
       "4             1.58          -0.28          -2.75          -0.93   \n",
       "..             ...            ...            ...            ...   \n",
       "132          -0.64          -1.29          -1.20          -0.36   \n",
       "133           0.76           0.78           0.64           0.52   \n",
       "134           0.25           0.27           0.29           0.29   \n",
       "135          -0.33          -0.48          -0.54          -0.43   \n",
       "136          -0.95          -0.47          -0.18          -0.60   \n",
       "\n",
       "     channel_1_205     activity  \n",
       "0            -1.30  b'EPILEPSY'  \n",
       "1             0.76  b'EPILEPSY'  \n",
       "2             1.23  b'EPILEPSY'  \n",
       "3            -0.24  b'EPILEPSY'  \n",
       "4             1.04  b'EPILEPSY'  \n",
       "..             ...          ...  \n",
       "132          -0.07    b'SAWING'  \n",
       "133           0.67    b'SAWING'  \n",
       "134           0.29    b'SAWING'  \n",
       "135          -0.36    b'SAWING'  \n",
       "136          -0.99    b'SAWING'  \n",
       "\n",
       "[137 rows x 207 columns]"
      ]
     },
     "execution_count": 40,
     "metadata": {},
     "output_type": "execute_result"
    }
   ],
   "source": [
    "traind2_df"
   ]
  },
  {
   "cell_type": "code",
   "execution_count": 46,
   "metadata": {},
   "outputs": [],
   "source": [
    "target_d1 = traind1_df.pop('activity')"
   ]
  },
  {
   "cell_type": "code",
   "execution_count": 47,
   "metadata": {},
   "outputs": [
    {
     "data": {
      "text/plain": [
       "0.04"
      ]
     },
     "execution_count": 47,
     "metadata": {},
     "output_type": "execute_result"
    }
   ],
   "source": [
    "min(traind1_df.iloc[0,:])"
   ]
  },
  {
   "cell_type": "code",
   "execution_count": 48,
   "metadata": {},
   "outputs": [
    {
     "data": {
      "text/plain": [
       "0.9"
      ]
     },
     "execution_count": 48,
     "metadata": {},
     "output_type": "execute_result"
    }
   ],
   "source": [
    "max(traind1_df.iloc[0,:])"
   ]
  },
  {
   "cell_type": "code",
   "execution_count": 61,
   "metadata": {},
   "outputs": [],
   "source": [
    "import numpy as np"
   ]
  },
  {
   "cell_type": "code",
   "execution_count": 67,
   "metadata": {},
   "outputs": [],
   "source": [
    "u,c =np.unique(traind1_df.values,return_counts=True)"
   ]
  },
  {
   "cell_type": "code",
   "execution_count": 69,
   "metadata": {},
   "outputs": [
    {
     "data": {
      "text/plain": [
       "634"
      ]
     },
     "execution_count": 69,
     "metadata": {},
     "output_type": "execute_result"
    }
   ],
   "source": [
    "len(u)"
   ]
  },
  {
   "cell_type": "code",
   "execution_count": 1,
   "metadata": {},
   "outputs": [],
   "source": [
    "from tslearn.generators import random_walks\n"
   ]
  },
  {
   "cell_type": "code",
   "execution_count": 2,
   "metadata": {},
   "outputs": [],
   "source": [
    "X = random_walks(n_ts=50, sz=32, d=1)"
   ]
  },
  {
   "cell_type": "code",
   "execution_count": 3,
   "metadata": {},
   "outputs": [],
   "source": [
    "import matplotlib.pyplot as plt\n"
   ]
  },
  {
   "cell_type": "code",
   "execution_count": 6,
   "metadata": {},
   "outputs": [
    {
     "data": {
      "text/plain": [
       "(50, 32, 1)"
      ]
     },
     "execution_count": 6,
     "metadata": {},
     "output_type": "execute_result"
    }
   ],
   "source": [
    "X.shape"
   ]
  },
  {
   "cell_type": "code",
   "execution_count": 7,
   "metadata": {},
   "outputs": [
    {
     "data": {
      "text/plain": [
       "(32, 1)"
      ]
     },
     "execution_count": 7,
     "metadata": {},
     "output_type": "execute_result"
    }
   ],
   "source": [
    "X[0].shape"
   ]
  },
  {
   "cell_type": "code",
   "execution_count": 8,
   "metadata": {},
   "outputs": [
    {
     "data": {
      "image/png": "[encoded data removed]",
      "text/plain": [
       "<Figure size 432x288 with 1 Axes>"
      ]
     },
     "metadata": {
      "needs_background": "light"
     },
     "output_type": "display_data"
    }
   ],
   "source": [
    "for i in range(3):\n",
    "    plt.plot(X[i])"
   ]
  },
  {
   "cell_type": "code",
   "execution_count": 10,
   "metadata": {},
   "outputs": [
    {
     "name": "stderr",
     "output_type": "stream",
     "text": [
      "/home/rachel/anaconda3/lib/python3.7/site-packages/sklearn/utils/deprecation.py:144: FutureWarning: The sklearn.cluster.k_means_ module is  deprecated in version 0.22 and will be removed in version 0.24. The corresponding classes / functions should instead be imported from sklearn.cluster. Anything that cannot be imported from sklearn.cluster is now part of the private API.\n",
      "  warnings.warn(message, FutureWarning)\n"
     ]
    }
   ],
   "source": [
    "from tslearn.clustering import TimeSeriesKMeans"
   ]
  },
  {
   "cell_type": "code",
   "execution_count": 11,
   "metadata": {},
   "outputs": [],
   "source": [
    "km = TimeSeriesKMeans(n_clusters=3, metric=\"euclidean\", max_iter=5,random_state=0).fit(X)"
   ]
  },
  {
   "cell_type": "code",
   "execution_count": 13,
   "metadata": {},
   "outputs": [
    {
     "data": {
      "image/png": "[encoded data removed]",
      "text/plain": [
       "<Figure size 432x288 with 1 Axes>"
      ]
     },
     "metadata": {
      "needs_background": "light"
     },
     "output_type": "display_data"
    }
   ],
   "source": [
    "for i in range(3):\n",
    "    plt.plot(km.cluster_centers_[i])"
   ]
  },
  {
   "cell_type": "code",
   "execution_count": 14,
   "metadata": {},
   "outputs": [],
   "source": [
    "from tslearn.utils import to_time_series"
   ]
  },
  {
   "cell_type": "code",
   "execution_count": 18,
   "metadata": {},
   "outputs": [],
   "source": [
    "a = to_time_series([[1,2,3],[3,4,5]])"
   ]
  },
  {
   "cell_type": "code",
   "execution_count": 19,
   "metadata": {},
   "outputs": [
    {
     "data": {
      "text/plain": [
       "(2, 3)"
      ]
     },
     "execution_count": 19,
     "metadata": {},
     "output_type": "execute_result"
    }
   ],
   "source": [
    "a.shape"
   ]
  },
  {
   "cell_type": "code",
   "execution_count": 20,
   "metadata": {},
   "outputs": [
    {
     "ename": "ValueError",
     "evalue": "setting an array element with a sequence.",
     "output_type": "error",
     "traceback": [
      "\u001b[0;31m---------------------------------------------------------------------------\u001b[0m",
      "\u001b[0;31mTypeError\u001b[0m                                 Traceback (most recent call last)",
      "\u001b[0;31mTypeError\u001b[0m: float() argument must be a string or a number, not 'list'",
      "\nThe above exception was the direct cause of the following exception:\n",
      "\u001b[0;31mValueError\u001b[0m                                Traceback (most recent call last)",
      "\u001b[0;32m<ipython-input-20-a6ded97e675a>\u001b[0m in \u001b[0;36m<module>\u001b[0;34m\u001b[0m\n\u001b[0;32m----> 1\u001b[0;31m \u001b[0mb\u001b[0m \u001b[0;34m=\u001b[0m\u001b[0mto_time_series\u001b[0m\u001b[0;34m(\u001b[0m\u001b[0;34m[\u001b[0m \u001b[0;34m[\u001b[0m\u001b[0;34m[\u001b[0m\u001b[0;36m1\u001b[0m\u001b[0;34m,\u001b[0m\u001b[0;36m2\u001b[0m\u001b[0;34m,\u001b[0m\u001b[0;36m3\u001b[0m\u001b[0;34m]\u001b[0m\u001b[0;34m,\u001b[0m\u001b[0;34m[\u001b[0m\u001b[0;36m4\u001b[0m\u001b[0;34m,\u001b[0m\u001b[0;36m5\u001b[0m\u001b[0;34m,\u001b[0m\u001b[0;36m8\u001b[0m\u001b[0;34m]\u001b[0m\u001b[0;34m]\u001b[0m\u001b[0;34m,\u001b[0m\u001b[0;34m[\u001b[0m\u001b[0;36m3\u001b[0m\u001b[0;34m,\u001b[0m\u001b[0;36m4\u001b[0m\u001b[0;34m,\u001b[0m\u001b[0;36m5\u001b[0m\u001b[0;34m]\u001b[0m\u001b[0;34m]\u001b[0m\u001b[0;34m)\u001b[0m\u001b[0;34m\u001b[0m\u001b[0;34m\u001b[0m\u001b[0m\n\u001b[0m",
      "\u001b[0;32m~/anaconda3/lib/python3.7/site-packages/tslearn/utils.py\u001b[0m in \u001b[0;36mto_time_series\u001b[0;34m(ts, remove_nans)\u001b[0m\n\u001b[1;32m    182\u001b[0m         \u001b[0mts_out\u001b[0m \u001b[0;34m=\u001b[0m \u001b[0mts_out\u001b[0m\u001b[0;34m.\u001b[0m\u001b[0mreshape\u001b[0m\u001b[0;34m(\u001b[0m\u001b[0;34m(\u001b[0m\u001b[0;34m-\u001b[0m\u001b[0;36m1\u001b[0m\u001b[0;34m,\u001b[0m \u001b[0;36m1\u001b[0m\u001b[0;34m)\u001b[0m\u001b[0;34m)\u001b[0m\u001b[0;34m\u001b[0m\u001b[0;34m\u001b[0m\u001b[0m\n\u001b[1;32m    183\u001b[0m     \u001b[0;32mif\u001b[0m \u001b[0mts_out\u001b[0m\u001b[0;34m.\u001b[0m\u001b[0mdtype\u001b[0m \u001b[0;34m!=\u001b[0m \u001b[0mnumpy\u001b[0m\u001b[0;34m.\u001b[0m\u001b[0mfloat\u001b[0m\u001b[0;34m:\u001b[0m\u001b[0;34m\u001b[0m\u001b[0;34m\u001b[0m\u001b[0m\n\u001b[0;32m--> 184\u001b[0;31m         \u001b[0mts_out\u001b[0m \u001b[0;34m=\u001b[0m \u001b[0mts_out\u001b[0m\u001b[0;34m.\u001b[0m\u001b[0mastype\u001b[0m\u001b[0;34m(\u001b[0m\u001b[0mnumpy\u001b[0m\u001b[0;34m.\u001b[0m\u001b[0mfloat\u001b[0m\u001b[0;34m)\u001b[0m\u001b[0;34m\u001b[0m\u001b[0;34m\u001b[0m\u001b[0m\n\u001b[0m\u001b[1;32m    185\u001b[0m     \u001b[0;32mif\u001b[0m \u001b[0mremove_nans\u001b[0m\u001b[0;34m:\u001b[0m\u001b[0;34m\u001b[0m\u001b[0;34m\u001b[0m\u001b[0m\n\u001b[1;32m    186\u001b[0m         \u001b[0mts_out\u001b[0m \u001b[0;34m=\u001b[0m \u001b[0mts_out\u001b[0m\u001b[0;34m[\u001b[0m\u001b[0;34m:\u001b[0m\u001b[0mts_size\u001b[0m\u001b[0;34m(\u001b[0m\u001b[0mts_out\u001b[0m\u001b[0;34m)\u001b[0m\u001b[0;34m]\u001b[0m\u001b[0;34m\u001b[0m\u001b[0;34m\u001b[0m\u001b[0m\n",
      "\u001b[0;31mValueError\u001b[0m: setting an array element with a sequence."
     ]
    }
   ],
   "source": [
    "b =to_time_series([ [[1,2,3],[4,5,8]],[3,4,5]])"
   ]
  },
  {
   "cell_type": "code",
   "execution_count": null,
   "metadata": {},
   "outputs": [],
   "source": []
  }
 ],
 "metadata": {
  "kernelspec": {
   "display_name": "Python 3",
   "language": "python",
   "name": "python3"
  },
  "language_info": {
   "codemirror_mode": {
    "name": "ipython",
    "version": 3
   },
   "file_extension": ".py",
   "mimetype": "text/x-python",
   "name": "python",
   "nbconvert_exporter": "python",
   "pygments_lexer": "ipython3",
   "version": "3.7.6"
  }
 },
 "nbformat": 4,
 "nbformat_minor": 4
}
