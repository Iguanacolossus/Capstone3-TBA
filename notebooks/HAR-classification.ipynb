{
 "cells": [
  {
   "cell_type": "code",
   "execution_count": 2,
   "metadata": {},
   "outputs": [],
   "source": [
    "import tensorflow as tf\n",
    "import pandas as pd\n",
    "import numpy as np\n",
    "import matplotlib.pyplot as plt"
   ]
  },
  {
   "cell_type": "code",
   "execution_count": 3,
   "metadata": {},
   "outputs": [],
   "source": [
    "%load_ext autoreload\n",
    "%autoreload 2"
   ]
  },
  {
   "cell_type": "code",
   "execution_count": 5,
   "metadata": {},
   "outputs": [],
   "source": [
    "from scipy.io import arff"
   ]
  },
  {
   "cell_type": "code",
   "execution_count": 6,
   "metadata": {},
   "outputs": [],
   "source": [
    "train_raw,meta = arff.loadarff('../data/Epilepsy_TRAIN.arff')"
   ]
  },
  {
   "cell_type": "code",
   "execution_count": 26,
   "metadata": {},
   "outputs": [],
   "source": [
    "train_pd = pd.DataFrame(train_raw)"
   ]
  },
  {
   "cell_type": "markdown",
   "metadata": {},
   "source": [
    "**adding a column that is 1 if seizure and 0 if not seizure**"
   ]
  },
  {
   "cell_type": "code",
   "execution_count": 28,
   "metadata": {},
   "outputs": [],
   "source": [
    "train_pd['label_binary'] = np.where(train_pd['activity']==b'EPILEPSY',1,0)"
   ]
  },
  {
   "cell_type": "code",
   "execution_count": 29,
   "metadata": {},
   "outputs": [
    {
     "data": {
      "text/html": [
       "<div>\n",
       "<style scoped>\n",
       "    .dataframe tbody tr th:only-of-type {\n",
       "        vertical-align: middle;\n",
       "    }\n",
       "\n",
       "    .dataframe tbody tr th {\n",
       "        vertical-align: top;\n",
       "    }\n",
       "\n",
       "    .dataframe thead th {\n",
       "        text-align: right;\n",
       "    }\n",
       "</style>\n",
       "<table border=\"1\" class=\"dataframe\">\n",
       "  <thead>\n",
       "    <tr style=\"text-align: right;\">\n",
       "      <th></th>\n",
       "      <th>relationalAtt</th>\n",
       "      <th>activity</th>\n",
       "      <th>label_binary</th>\n",
       "    </tr>\n",
       "  </thead>\n",
       "  <tbody>\n",
       "    <tr>\n",
       "      <th>0</th>\n",
       "      <td>[[0.35, 0.4, 0.44, 0.47, 0.48, 0.47, 0.44, 0.4...</td>\n",
       "      <td>b'EPILEPSY'</td>\n",
       "      <td>1</td>\n",
       "    </tr>\n",
       "    <tr>\n",
       "      <th>1</th>\n",
       "      <td>[[-0.91, -0.92, -0.95, -0.95, -0.95, -0.94, -0...</td>\n",
       "      <td>b'EPILEPSY'</td>\n",
       "      <td>1</td>\n",
       "    </tr>\n",
       "    <tr>\n",
       "      <th>2</th>\n",
       "      <td>[[0.32, 0.71, 0.7, 0.75, 0.88, 0.58, 1.34, 0.6...</td>\n",
       "      <td>b'EPILEPSY'</td>\n",
       "      <td>1</td>\n",
       "    </tr>\n",
       "    <tr>\n",
       "      <th>3</th>\n",
       "      <td>[[-0.68, -0.36, -0.13, -0.38, -0.49, -0.48, -0...</td>\n",
       "      <td>b'EPILEPSY'</td>\n",
       "      <td>1</td>\n",
       "    </tr>\n",
       "    <tr>\n",
       "      <th>4</th>\n",
       "      <td>[[0.34, 0.53, 0.58, 0.61, 0.64, 0.63, 0.44, 0....</td>\n",
       "      <td>b'EPILEPSY'</td>\n",
       "      <td>1</td>\n",
       "    </tr>\n",
       "    <tr>\n",
       "      <th>...</th>\n",
       "      <td>...</td>\n",
       "      <td>...</td>\n",
       "      <td>...</td>\n",
       "    </tr>\n",
       "    <tr>\n",
       "      <th>132</th>\n",
       "      <td>[[0.45, -0.28, 0.28, 1.33, 1.01, 0.06, -0.11, ...</td>\n",
       "      <td>b'SAWING'</td>\n",
       "      <td>0</td>\n",
       "    </tr>\n",
       "    <tr>\n",
       "      <th>133</th>\n",
       "      <td>[[0.24, -0.79, -0.65, 0.07, 1.5, 1.55, 0.94, 0...</td>\n",
       "      <td>b'SAWING'</td>\n",
       "      <td>0</td>\n",
       "    </tr>\n",
       "    <tr>\n",
       "      <th>134</th>\n",
       "      <td>[[1.16, -0.02, -1.04, -0.81, 0.36, 1.69, 0.93,...</td>\n",
       "      <td>b'SAWING'</td>\n",
       "      <td>0</td>\n",
       "    </tr>\n",
       "    <tr>\n",
       "      <th>135</th>\n",
       "      <td>[[-0.74, -0.14, 0.12, -0.08, -0.78, -1.42, -1....</td>\n",
       "      <td>b'SAWING'</td>\n",
       "      <td>0</td>\n",
       "    </tr>\n",
       "    <tr>\n",
       "      <th>136</th>\n",
       "      <td>[[1.06, 1.14, 0.37, -0.22, 0.14, 1.09, 1.13, 0...</td>\n",
       "      <td>b'SAWING'</td>\n",
       "      <td>0</td>\n",
       "    </tr>\n",
       "  </tbody>\n",
       "</table>\n",
       "<p>137 rows × 3 columns</p>\n",
       "</div>"
      ],
      "text/plain": [
       "                                         relationalAtt     activity  \\\n",
       "0    [[0.35, 0.4, 0.44, 0.47, 0.48, 0.47, 0.44, 0.4...  b'EPILEPSY'   \n",
       "1    [[-0.91, -0.92, -0.95, -0.95, -0.95, -0.94, -0...  b'EPILEPSY'   \n",
       "2    [[0.32, 0.71, 0.7, 0.75, 0.88, 0.58, 1.34, 0.6...  b'EPILEPSY'   \n",
       "3    [[-0.68, -0.36, -0.13, -0.38, -0.49, -0.48, -0...  b'EPILEPSY'   \n",
       "4    [[0.34, 0.53, 0.58, 0.61, 0.64, 0.63, 0.44, 0....  b'EPILEPSY'   \n",
       "..                                                 ...          ...   \n",
       "132  [[0.45, -0.28, 0.28, 1.33, 1.01, 0.06, -0.11, ...    b'SAWING'   \n",
       "133  [[0.24, -0.79, -0.65, 0.07, 1.5, 1.55, 0.94, 0...    b'SAWING'   \n",
       "134  [[1.16, -0.02, -1.04, -0.81, 0.36, 1.69, 0.93,...    b'SAWING'   \n",
       "135  [[-0.74, -0.14, 0.12, -0.08, -0.78, -1.42, -1....    b'SAWING'   \n",
       "136  [[1.06, 1.14, 0.37, -0.22, 0.14, 1.09, 1.13, 0...    b'SAWING'   \n",
       "\n",
       "     label_binary  \n",
       "0               1  \n",
       "1               1  \n",
       "2               1  \n",
       "3               1  \n",
       "4               1  \n",
       "..            ...  \n",
       "132             0  \n",
       "133             0  \n",
       "134             0  \n",
       "135             0  \n",
       "136             0  \n",
       "\n",
       "[137 rows x 3 columns]"
      ]
     },
     "execution_count": 29,
     "metadata": {},
     "output_type": "execute_result"
    }
   ],
   "source": [
    "train_pd"
   ]
  },
  {
   "cell_type": "markdown",
   "metadata": {},
   "source": [
    "**brake it u into train and val**\n"
   ]
  },
  {
   "cell_type": "code",
   "execution_count": 30,
   "metadata": {},
   "outputs": [],
   "source": [
    "from sklearn.model_selection import train_test_split"
   ]
  },
  {
   "cell_type": "code",
   "execution_count": 32,
   "metadata": {},
   "outputs": [],
   "source": [
    "X_train, X_val, y_train, y_val = train_test_split(train_pd['relationalAtt'], train_pd['label_binary'], test_size=0.35, random_state=666,shuffle=True)"
   ]
  },
  {
   "cell_type": "code",
   "execution_count": 37,
   "metadata": {},
   "outputs": [
    {
     "data": {
      "text/plain": [
       "95     [[0.73, 0.54, -0.53, -1.79, -1.75, -1.02, -0.6...\n",
       "61     [[-0.96, -0.91, -0.79, -0.75, -0.8, -1.0, -1.3...\n",
       "107    [[1.8, 1.72, 1.09, 0.3, -0.68, -0.58, 0.13, 1....\n",
       "127    [[0.46, 0.68, 0.7, 0.29, 0.23, 0.76, 0.98, 0.3...\n",
       "84     [[-1.13, -0.9, -0.87, -0.62, -0.81, -1.16, -1....\n",
       "                             ...                        \n",
       "51     [[0.07, 0.02, 0.26, 0.65, 0.88, 1.0, 0.88, 0.8...\n",
       "91     [[-3.13, -2.22, -1.62, -1.28, -1.73, -2.91, -1...\n",
       "70     [[0.32, 0.22, 0.19, 0.3, 0.44, 0.55, 0.49, 0.3...\n",
       "62     [[-0.71, -1.21, -1.46, -1.36, -1.45, -1.27, -0...\n",
       "130    [[0.5, 0.53, 0.06, -0.16, 0.1, 0.97, 1.5, 1.09...\n",
       "Name: relationalAtt, Length: 89, dtype: object"
      ]
     },
     "execution_count": 37,
     "metadata": {},
     "output_type": "execute_result"
    }
   ],
   "source": [
    "X_train"
   ]
  },
  {
   "cell_type": "code",
   "execution_count": 41,
   "metadata": {},
   "outputs": [
    {
     "data": {
      "text/plain": [
       "0.21348314606741572"
      ]
     },
     "execution_count": 41,
     "metadata": {},
     "output_type": "execute_result"
    }
   ],
   "source": [
    "#percent positive samples in train set\n",
    "len(y_train[y_train.values==1])/len(y_train.values)"
   ]
  },
  {
   "cell_type": "code",
   "execution_count": 44,
   "metadata": {},
   "outputs": [
    {
     "data": {
      "text/plain": [
       "0.3125"
      ]
     },
     "execution_count": 44,
     "metadata": {},
     "output_type": "execute_result"
    }
   ],
   "source": [
    "#percent positive examples in test set\n",
    "len(y_val[y_val.values==1])/len(y_val.values)"
   ]
  },
  {
   "cell_type": "markdown",
   "metadata": {},
   "source": [
    "**there is clas imbalance but i will start simple with out over sampling and see how it goes**"
   ]
  },
  {
   "cell_type": "code",
   "execution_count": 45,
   "metadata": {},
   "outputs": [
    {
     "data": {
      "text/plain": [
       "89"
      ]
     },
     "execution_count": 45,
     "metadata": {},
     "output_type": "execute_result"
    }
   ],
   "source": [
    "len(X_train.index) #num of samples in x train"
   ]
  },
  {
   "cell_type": "code",
   "execution_count": 55,
   "metadata": {},
   "outputs": [
    {
     "data": {
      "text/plain": [
       "3"
      ]
     },
     "execution_count": 55,
     "metadata": {},
     "output_type": "execute_result"
    }
   ],
   "source": [
    "len(X_train.iloc[0]) #num of channels"
   ]
  },
  {
   "cell_type": "code",
   "execution_count": 58,
   "metadata": {},
   "outputs": [
    {
     "data": {
      "text/plain": [
       "206"
      ]
     },
     "execution_count": 58,
     "metadata": {},
     "output_type": "execute_result"
    }
   ],
   "source": [
    "len(X_train.iloc[0][0]) #length of series"
   ]
  },
  {
   "cell_type": "code",
   "execution_count": 82,
   "metadata": {},
   "outputs": [],
   "source": [
    "test = pd.DataFrame(X_train)"
   ]
  },
  {
   "cell_type": "code",
   "execution_count": 83,
   "metadata": {},
   "outputs": [
    {
     "data": {
      "text/html": [
       "<div>\n",
       "<style scoped>\n",
       "    .dataframe tbody tr th:only-of-type {\n",
       "        vertical-align: middle;\n",
       "    }\n",
       "\n",
       "    .dataframe tbody tr th {\n",
       "        vertical-align: top;\n",
       "    }\n",
       "\n",
       "    .dataframe thead th {\n",
       "        text-align: right;\n",
       "    }\n",
       "</style>\n",
       "<table border=\"1\" class=\"dataframe\">\n",
       "  <thead>\n",
       "    <tr style=\"text-align: right;\">\n",
       "      <th></th>\n",
       "      <th>relationalAtt</th>\n",
       "    </tr>\n",
       "  </thead>\n",
       "  <tbody>\n",
       "    <tr>\n",
       "      <th>95</th>\n",
       "      <td>[[0.73, 0.54, -0.53, -1.79, -1.75, -1.02, -0.6...</td>\n",
       "    </tr>\n",
       "    <tr>\n",
       "      <th>61</th>\n",
       "      <td>[[-0.96, -0.91, -0.79, -0.75, -0.8, -1.0, -1.3...</td>\n",
       "    </tr>\n",
       "    <tr>\n",
       "      <th>107</th>\n",
       "      <td>[[1.8, 1.72, 1.09, 0.3, -0.68, -0.58, 0.13, 1....</td>\n",
       "    </tr>\n",
       "    <tr>\n",
       "      <th>127</th>\n",
       "      <td>[[0.46, 0.68, 0.7, 0.29, 0.23, 0.76, 0.98, 0.3...</td>\n",
       "    </tr>\n",
       "    <tr>\n",
       "      <th>84</th>\n",
       "      <td>[[-1.13, -0.9, -0.87, -0.62, -0.81, -1.16, -1....</td>\n",
       "    </tr>\n",
       "    <tr>\n",
       "      <th>...</th>\n",
       "      <td>...</td>\n",
       "    </tr>\n",
       "    <tr>\n",
       "      <th>51</th>\n",
       "      <td>[[0.07, 0.02, 0.26, 0.65, 0.88, 1.0, 0.88, 0.8...</td>\n",
       "    </tr>\n",
       "    <tr>\n",
       "      <th>91</th>\n",
       "      <td>[[-3.13, -2.22, -1.62, -1.28, -1.73, -2.91, -1...</td>\n",
       "    </tr>\n",
       "    <tr>\n",
       "      <th>70</th>\n",
       "      <td>[[0.32, 0.22, 0.19, 0.3, 0.44, 0.55, 0.49, 0.3...</td>\n",
       "    </tr>\n",
       "    <tr>\n",
       "      <th>62</th>\n",
       "      <td>[[-0.71, -1.21, -1.46, -1.36, -1.45, -1.27, -0...</td>\n",
       "    </tr>\n",
       "    <tr>\n",
       "      <th>130</th>\n",
       "      <td>[[0.5, 0.53, 0.06, -0.16, 0.1, 0.97, 1.5, 1.09...</td>\n",
       "    </tr>\n",
       "  </tbody>\n",
       "</table>\n",
       "<p>89 rows × 1 columns</p>\n",
       "</div>"
      ],
      "text/plain": [
       "                                         relationalAtt\n",
       "95   [[0.73, 0.54, -0.53, -1.79, -1.75, -1.02, -0.6...\n",
       "61   [[-0.96, -0.91, -0.79, -0.75, -0.8, -1.0, -1.3...\n",
       "107  [[1.8, 1.72, 1.09, 0.3, -0.68, -0.58, 0.13, 1....\n",
       "127  [[0.46, 0.68, 0.7, 0.29, 0.23, 0.76, 0.98, 0.3...\n",
       "84   [[-1.13, -0.9, -0.87, -0.62, -0.81, -1.16, -1....\n",
       "..                                                 ...\n",
       "51   [[0.07, 0.02, 0.26, 0.65, 0.88, 1.0, 0.88, 0.8...\n",
       "91   [[-3.13, -2.22, -1.62, -1.28, -1.73, -2.91, -1...\n",
       "70   [[0.32, 0.22, 0.19, 0.3, 0.44, 0.55, 0.49, 0.3...\n",
       "62   [[-0.71, -1.21, -1.46, -1.36, -1.45, -1.27, -0...\n",
       "130  [[0.5, 0.53, 0.06, -0.16, 0.1, 0.97, 1.5, 1.09...\n",
       "\n",
       "[89 rows x 1 columns]"
      ]
     },
     "execution_count": 83,
     "metadata": {},
     "output_type": "execute_result"
    }
   ],
   "source": [
    "test"
   ]
  },
  {
   "cell_type": "markdown",
   "metadata": {},
   "source": [
    "**next goal is to reshape my train df into 4 dimentional array (# of samples, height of \"image\", width, channels) => (89,1,206,3)**                                "
   ]
  },
  {
   "cell_type": "code",
   "execution_count": 97,
   "metadata": {},
   "outputs": [],
   "source": [
    "def reshape_for_nn(X):\n",
    "    X_4d = np.zeros(shape=(len(X.index),1 ,len(X.iloc[0][0]),len(X_train.iloc[0])))\n",
    "    #create the chanel arrays seperaty\n",
    "    pd_df = pd.DataFrame(X)\n",
    "    x_channel = np.reshape(np.array(list(pd_df.iloc[0,:][0][0])),(1,-1))#[0]\n",
    "    y_channel = np.reshape(np.array(list(pd_df.iloc[0,:][0][1])),(1,-1))\n",
    "    z_channel = \n",
    "    \n",
    "    for i in range(len(X.index)):\n",
    "        pass\n",
    "        print(X_4d[i].shape)\n",
    "    return x_channel\n"
   ]
  },
  {
   "cell_type": "code",
   "execution_count": 98,
   "metadata": {},
   "outputs": [],
   "source": [
    "test = reshape_for_nn(X_train)"
   ]
  },
  {
   "cell_type": "code",
   "execution_count": 99,
   "metadata": {},
   "outputs": [
    {
     "data": {
      "text/plain": [
       "(1, 206)"
      ]
     },
     "execution_count": 99,
     "metadata": {},
     "output_type": "execute_result"
    }
   ],
   "source": [
    "test.shape"
   ]
  },
  {
   "cell_type": "markdown",
   "metadata": {},
   "source": [
    "**I just realized I think i want to try this with polar coords**"
   ]
  },
  {
   "cell_type": "code",
   "execution_count": 101,
   "metadata": {},
   "outputs": [
    {
     "data": {
      "text/html": [
       "<div>\n",
       "<style scoped>\n",
       "    .dataframe tbody tr th:only-of-type {\n",
       "        vertical-align: middle;\n",
       "    }\n",
       "\n",
       "    .dataframe tbody tr th {\n",
       "        vertical-align: top;\n",
       "    }\n",
       "\n",
       "    .dataframe thead th {\n",
       "        text-align: right;\n",
       "    }\n",
       "</style>\n",
       "<table border=\"1\" class=\"dataframe\">\n",
       "  <thead>\n",
       "    <tr style=\"text-align: right;\">\n",
       "      <th></th>\n",
       "      <th>relationalAtt</th>\n",
       "      <th>activity</th>\n",
       "      <th>label_binary</th>\n",
       "    </tr>\n",
       "  </thead>\n",
       "  <tbody>\n",
       "    <tr>\n",
       "      <th>0</th>\n",
       "      <td>[[0.35, 0.4, 0.44, 0.47, 0.48, 0.47, 0.44, 0.4...</td>\n",
       "      <td>b'EPILEPSY'</td>\n",
       "      <td>1</td>\n",
       "    </tr>\n",
       "    <tr>\n",
       "      <th>1</th>\n",
       "      <td>[[-0.91, -0.92, -0.95, -0.95, -0.95, -0.94, -0...</td>\n",
       "      <td>b'EPILEPSY'</td>\n",
       "      <td>1</td>\n",
       "    </tr>\n",
       "    <tr>\n",
       "      <th>2</th>\n",
       "      <td>[[0.32, 0.71, 0.7, 0.75, 0.88, 0.58, 1.34, 0.6...</td>\n",
       "      <td>b'EPILEPSY'</td>\n",
       "      <td>1</td>\n",
       "    </tr>\n",
       "    <tr>\n",
       "      <th>3</th>\n",
       "      <td>[[-0.68, -0.36, -0.13, -0.38, -0.49, -0.48, -0...</td>\n",
       "      <td>b'EPILEPSY'</td>\n",
       "      <td>1</td>\n",
       "    </tr>\n",
       "    <tr>\n",
       "      <th>4</th>\n",
       "      <td>[[0.34, 0.53, 0.58, 0.61, 0.64, 0.63, 0.44, 0....</td>\n",
       "      <td>b'EPILEPSY'</td>\n",
       "      <td>1</td>\n",
       "    </tr>\n",
       "  </tbody>\n",
       "</table>\n",
       "</div>"
      ],
      "text/plain": [
       "                                       relationalAtt     activity  \\\n",
       "0  [[0.35, 0.4, 0.44, 0.47, 0.48, 0.47, 0.44, 0.4...  b'EPILEPSY'   \n",
       "1  [[-0.91, -0.92, -0.95, -0.95, -0.95, -0.94, -0...  b'EPILEPSY'   \n",
       "2  [[0.32, 0.71, 0.7, 0.75, 0.88, 0.58, 1.34, 0.6...  b'EPILEPSY'   \n",
       "3  [[-0.68, -0.36, -0.13, -0.38, -0.49, -0.48, -0...  b'EPILEPSY'   \n",
       "4  [[0.34, 0.53, 0.58, 0.61, 0.64, 0.63, 0.44, 0....  b'EPILEPSY'   \n",
       "\n",
       "   label_binary  \n",
       "0             1  \n",
       "1             1  \n",
       "2             1  \n",
       "3             1  \n",
       "4             1  "
      ]
     },
     "execution_count": 101,
     "metadata": {},
     "output_type": "execute_result"
    }
   ],
   "source": [
    "train_pd.head()"
   ]
  },
  {
   "cell_type": "code",
   "execution_count": 102,
   "metadata": {},
   "outputs": [],
   "source": [
    "##convert to the rho component of polar coordinance\n",
    "def to_rho(x,y,z):\n",
    "    rho = np.sqrt(x**2 + y**2 + z**2)\n",
    "    return rho\n",
    "\n",
    "## convert x,y,and z array to rho array\n",
    "def cart_to_polar(x_array,y_array,z_array):\n",
    "    rho = np.array([])\n",
    "    for i in range(len(x_array)):\n",
    "        rho = np.append(rho,to_rho(x_array[i],y_array[i],z_array[i]))\n",
    "    return rho\n",
    "\n",
    "\n",
    "def df_to_rho(df):\n",
    "    rho_df = np.empty((0,206))\n",
    "    \n",
    "    ### for each row\n",
    "    for row in df.iterrows():\n",
    "        \n",
    "        ### create x y z from each row\n",
    "        x_array= list(row[1][0][0])\n",
    "        x_array = np.array(x_array)\n",
    "        x_array = np.reshape(x_array,(1,-1))#[0]\n",
    "        \n",
    "        y_array = list(row[1][0][1])\n",
    "        y_array = np.array(y_array)\n",
    "        y_array = np.reshape(y_array,(1,-1))#[0]\n",
    "        \n",
    "        z_array = list(row[1][0][2])\n",
    "        z_array = np.array(z_array)\n",
    "        z_array = np.reshape(z_array,(1,-1))#[0]\n",
    "        \n",
    "        #make a new sample that is just rho\n",
    "        rho = cart_to_polar(x_array,y_array,z_array)\n",
    "        rho = np.reshape(rho,(1,-1))\n",
    "       #creat new df convertes to just the rho element of polar coordinanace\n",
    "    \n",
    "        rho_df = np.append(rho_df, rho,axis=0)\n",
    "\n",
    "    return rho_df\n"
   ]
  },
  {
   "cell_type": "code",
   "execution_count": 103,
   "metadata": {},
   "outputs": [],
   "source": [
    "rho_df_full = df_to_rho(train_pd)"
   ]
  },
  {
   "cell_type": "code",
   "execution_count": 105,
   "metadata": {},
   "outputs": [
    {
     "data": {
      "text/plain": [
       "(137, 206)"
      ]
     },
     "execution_count": 105,
     "metadata": {},
     "output_type": "execute_result"
    }
   ],
   "source": [
    "rho_df_full.shape"
   ]
  },
  {
   "cell_type": "code",
   "execution_count": 108,
   "metadata": {},
   "outputs": [
    {
     "data": {
      "text/plain": [
       "numpy.ndarray"
      ]
     },
     "execution_count": 108,
     "metadata": {},
     "output_type": "execute_result"
    }
   ],
   "source": [
    "type(rho_df_full)"
   ]
  },
  {
   "cell_type": "code",
   "execution_count": 110,
   "metadata": {},
   "outputs": [],
   "source": [
    "rho_full_3d = rho_df_full.reshape((137,1,206,1))"
   ]
  },
  {
   "cell_type": "code",
   "execution_count": 137,
   "metadata": {},
   "outputs": [],
   "source": [
    "rho_full_3d_2 = rho_df_full.reshape(137,206,1)"
   ]
  },
  {
   "cell_type": "code",
   "execution_count": 140,
   "metadata": {},
   "outputs": [
    {
     "data": {
      "text/plain": [
       "(206, 1)"
      ]
     },
     "execution_count": 140,
     "metadata": {},
     "output_type": "execute_result"
    }
   ],
   "source": [
    "rho_full_3d_2[0].shape"
   ]
  },
  {
   "cell_type": "code",
   "execution_count": 141,
   "metadata": {},
   "outputs": [
    {
     "data": {
      "text/plain": [
       "[<matplotlib.lines.Line2D at 0x7f38f91ee6d0>]"
      ]
     },
     "execution_count": 141,
     "metadata": {},
     "output_type": "execute_result"
    },
    {
     "data": {
      "image/png": "[encoded data removed]",
      "text/plain": [
       "<Figure size 432x288 with 1 Axes>"
      ]
     },
     "metadata": {
      "needs_background": "light"
     },
     "output_type": "display_data"
    }
   ],
   "source": [
    "plt.plot(rho_full_3d_2[0])"
   ]
  },
  {
   "cell_type": "code",
   "execution_count": 114,
   "metadata": {},
   "outputs": [],
   "source": [
    "y = train_pd['label_binary'].values"
   ]
  },
  {
   "cell_type": "code",
   "execution_count": 142,
   "metadata": {},
   "outputs": [],
   "source": [
    "X_train_rho, X_vali_rho, y_train_rho, y_vali_rho = train_test_split(rho_full_3d_2, y, test_size = 0.25, random_state = 666)"
   ]
  },
  {
   "cell_type": "markdown",
   "metadata": {},
   "source": [
    "**data is in the right shape. now lets invoke tensor board before we build the model and train**"
   ]
  },
  {
   "cell_type": "code",
   "execution_count": 122,
   "metadata": {},
   "outputs": [],
   "source": [
    "from keras.callbacks import TensorBoard\n",
    "from tensorflow import keras\n",
    "from tensorflow.keras.models import Sequential\n",
    "from tensorflow.keras.layers import Dense, Flatten, Conv2D, MaxPooling1D, MaxPool1D, Dropout,Conv1D"
   ]
  },
  {
   "cell_type": "code",
   "execution_count": 161,
   "metadata": {},
   "outputs": [],
   "source": [
    "model1 = Sequential()\n",
    "model1.add(Conv1D(filters=64, kernel_size=3, activation='relu', input_shape=(206,1)))\n",
    "model1.add(Conv1D(filters=64, kernel_size=3, activation='relu'))\n",
    "model1.add(Dropout(0.5))\n",
    "model1.add(MaxPooling1D(pool_size=2))\n",
    "model1.add(Flatten())\n",
    "model1.add(Dense(100, activation='relu'))\n",
    "model1.add(Dense(1, activation='sigmoid'))"
   ]
  },
  {
   "cell_type": "code",
   "execution_count": 145,
   "metadata": {},
   "outputs": [
    {
     "name": "stdout",
     "output_type": "stream",
     "text": [
      "Model: \"sequential_7\"\n",
      "_________________________________________________________________\n",
      "Layer (type)                 Output Shape              Param #   \n",
      "=================================================================\n",
      "conv1d_10 (Conv1D)           (None, 204, 64)           256       \n",
      "_________________________________________________________________\n",
      "conv1d_11 (Conv1D)           (None, 202, 64)           12352     \n",
      "_________________________________________________________________\n",
      "dropout_4 (Dropout)          (None, 202, 64)           0         \n",
      "_________________________________________________________________\n",
      "max_pooling1d_3 (MaxPooling1 (None, 101, 64)           0         \n",
      "_________________________________________________________________\n",
      "flatten_2 (Flatten)          (None, 6464)              0         \n",
      "_________________________________________________________________\n",
      "dense_4 (Dense)              (None, 100)               646500    \n",
      "_________________________________________________________________\n",
      "dense_5 (Dense)              (None, 1)                 101       \n",
      "=================================================================\n",
      "Total params: 659,209\n",
      "Trainable params: 659,209\n",
      "Non-trainable params: 0\n",
      "_________________________________________________________________\n"
     ]
    }
   ],
   "source": [
    "model1.summary()"
   ]
  },
  {
   "cell_type": "code",
   "execution_count": 146,
   "metadata": {},
   "outputs": [],
   "source": [
    "metrics1 = ['accuracy','TruePositives', 'TrueNegatives','FalsePositives','FalseNegatives','Precision','Recall']"
   ]
  },
  {
   "cell_type": "code",
   "execution_count": 162,
   "metadata": {},
   "outputs": [],
   "source": [
    "model1.compile(loss='binary_crossentropy', optimizer='adam', metrics=metrics1)"
   ]
  },
  {
   "cell_type": "code",
   "execution_count": 148,
   "metadata": {},
   "outputs": [],
   "source": [
    "batch_size=32"
   ]
  },
  {
   "cell_type": "code",
   "execution_count": 163,
   "metadata": {},
   "outputs": [
    {
     "name": "stdout",
     "output_type": "stream",
     "text": [
      "WARNING:tensorflow:`write_grads` will be ignored in TensorFlow 2.0 for the `TensorBoard` Callback.\n",
      "WARNING:tensorflow:`batch_size` is no longer needed in the `TensorBoard` Callback and will be ignored in TensorFlow 2.0.\n",
      "Epoch 1/300\n",
      "2/4 [==============>...............] - ETA: 0s - loss: 0.6058 - accuracy: 0.8125 - true_positives: 0.0000e+00 - true_negatives: 52.0000 - false_positives: 1.0000 - false_negatives: 11.0000 - precision: 0.0000e+00 - recall: 0.0000e+00WARNING:tensorflow:Callbacks method `on_train_batch_end` is slow compared to the batch time (batch time: 0.0313s vs `on_train_batch_end` time: 0.1211s). Check your callbacks.\n",
      "4/4 [==============================] - 1s 214ms/step - loss: 0.6876 - accuracy: 0.7647 - true_positives: 0.0000e+00 - true_negatives: 78.0000 - false_positives: 1.0000 - false_negatives: 23.0000 - precision: 0.0000e+00 - recall: 0.0000e+00 - val_loss: 0.6089 - val_accuracy: 0.6857 - val_true_positives: 0.0000e+00 - val_true_negatives: 24.0000 - val_false_positives: 0.0000e+00 - val_false_negatives: 11.0000 - val_precision: 0.0000e+00 - val_recall: 0.0000e+00\n",
      "Epoch 2/300\n",
      "4/4 [==============================] - 0s 20ms/step - loss: 0.5782 - accuracy: 0.7745 - true_positives: 0.0000e+00 - true_negatives: 79.0000 - false_positives: 0.0000e+00 - false_negatives: 23.0000 - precision: 0.0000e+00 - recall: 0.0000e+00 - val_loss: 0.6457 - val_accuracy: 0.6857 - val_true_positives: 0.0000e+00 - val_true_negatives: 24.0000 - val_false_positives: 0.0000e+00 - val_false_negatives: 11.0000 - val_precision: 0.0000e+00 - val_recall: 0.0000e+00\n",
      "Epoch 3/300\n",
      "4/4 [==============================] - 0s 46ms/step - loss: 0.5656 - accuracy: 0.7745 - true_positives: 0.0000e+00 - true_negatives: 79.0000 - false_positives: 0.0000e+00 - false_negatives: 23.0000 - precision: 0.0000e+00 - recall: 0.0000e+00 - val_loss: 0.5821 - val_accuracy: 0.6857 - val_true_positives: 0.0000e+00 - val_true_negatives: 24.0000 - val_false_positives: 0.0000e+00 - val_false_negatives: 11.0000 - val_precision: 0.0000e+00 - val_recall: 0.0000e+00\n",
      "Epoch 4/300\n",
      "4/4 [==============================] - 0s 22ms/step - loss: 0.5173 - accuracy: 0.7745 - true_positives: 0.0000e+00 - true_negatives: 79.0000 - false_positives: 0.0000e+00 - false_negatives: 23.0000 - precision: 0.0000e+00 - recall: 0.0000e+00 - val_loss: 0.5712 - val_accuracy: 0.6857 - val_true_positives: 0.0000e+00 - val_true_negatives: 24.0000 - val_false_positives: 0.0000e+00 - val_false_negatives: 11.0000 - val_precision: 0.0000e+00 - val_recall: 0.0000e+00\n",
      "Epoch 5/300\n",
      "4/4 [==============================] - 0s 46ms/step - loss: 0.4793 - accuracy: 0.7745 - true_positives: 0.0000e+00 - true_negatives: 79.0000 - false_positives: 0.0000e+00 - false_negatives: 23.0000 - precision: 0.0000e+00 - recall: 0.0000e+00 - val_loss: 0.5614 - val_accuracy: 0.7143 - val_true_positives: 1.0000 - val_true_negatives: 24.0000 - val_false_positives: 0.0000e+00 - val_false_negatives: 10.0000 - val_precision: 1.0000 - val_recall: 0.0909\n",
      "Epoch 6/300\n",
      "4/4 [==============================] - 0s 18ms/step - loss: 0.4386 - accuracy: 0.7941 - true_positives: 2.0000 - true_negatives: 79.0000 - false_positives: 0.0000e+00 - false_negatives: 21.0000 - precision: 1.0000 - recall: 0.0870 - val_loss: 0.5278 - val_accuracy: 0.7143 - val_true_positives: 1.0000 - val_true_negatives: 24.0000 - val_false_positives: 0.0000e+00 - val_false_negatives: 10.0000 - val_precision: 1.0000 - val_recall: 0.0909\n",
      "Epoch 7/300\n",
      "4/4 [==============================] - 0s 48ms/step - loss: 0.4111 - accuracy: 0.8431 - true_positives: 7.0000 - true_negatives: 79.0000 - false_positives: 0.0000e+00 - false_negatives: 16.0000 - precision: 1.0000 - recall: 0.3043 - val_loss: 0.5159 - val_accuracy: 0.7429 - val_true_positives: 2.0000 - val_true_negatives: 24.0000 - val_false_positives: 0.0000e+00 - val_false_negatives: 9.0000 - val_precision: 1.0000 - val_recall: 0.1818\n",
      "Epoch 8/300\n",
      "4/4 [==============================] - 0s 23ms/step - loss: 0.3478 - accuracy: 0.8824 - true_positives: 11.0000 - true_negatives: 79.0000 - false_positives: 0.0000e+00 - false_negatives: 12.0000 - precision: 1.0000 - recall: 0.4783 - val_loss: 0.4899 - val_accuracy: 0.7143 - val_true_positives: 1.0000 - val_true_negatives: 24.0000 - val_false_positives: 0.0000e+00 - val_false_negatives: 10.0000 - val_precision: 1.0000 - val_recall: 0.0909\n",
      "Epoch 9/300\n",
      "4/4 [==============================] - 0s 43ms/step - loss: 0.3063 - accuracy: 0.8627 - true_positives: 9.0000 - true_negatives: 79.0000 - false_positives: 0.0000e+00 - false_negatives: 14.0000 - precision: 1.0000 - recall: 0.3913 - val_loss: 0.4595 - val_accuracy: 0.7714 - val_true_positives: 3.0000 - val_true_negatives: 24.0000 - val_false_positives: 0.0000e+00 - val_false_negatives: 8.0000 - val_precision: 1.0000 - val_recall: 0.2727\n",
      "Epoch 10/300\n",
      "4/4 [==============================] - 0s 20ms/step - loss: 0.2621 - accuracy: 0.9412 - true_positives: 17.0000 - true_negatives: 79.0000 - false_positives: 0.0000e+00 - false_negatives: 6.0000 - precision: 1.0000 - recall: 0.7391 - val_loss: 0.4573 - val_accuracy: 0.7143 - val_true_positives: 1.0000 - val_true_negatives: 24.0000 - val_false_positives: 0.0000e+00 - val_false_negatives: 10.0000 - val_precision: 1.0000 - val_recall: 0.0909\n",
      "Epoch 11/300\n",
      "4/4 [==============================] - 0s 44ms/step - loss: 0.2578 - accuracy: 0.8627 - true_positives: 9.0000 - true_negatives: 79.0000 - false_positives: 0.0000e+00 - false_negatives: 14.0000 - precision: 1.0000 - recall: 0.3913 - val_loss: 0.4235 - val_accuracy: 0.7714 - val_true_positives: 3.0000 - val_true_negatives: 24.0000 - val_false_positives: 0.0000e+00 - val_false_negatives: 8.0000 - val_precision: 1.0000 - val_recall: 0.2727\n",
      "Epoch 12/300\n",
      "4/4 [==============================] - 0s 18ms/step - loss: 0.2397 - accuracy: 0.9216 - true_positives: 19.0000 - true_negatives: 75.0000 - false_positives: 4.0000 - false_negatives: 4.0000 - precision: 0.8261 - recall: 0.8261 - val_loss: 0.3988 - val_accuracy: 0.7429 - val_true_positives: 3.0000 - val_true_negatives: 23.0000 - val_false_positives: 1.0000 - val_false_negatives: 8.0000 - val_precision: 0.7500 - val_recall: 0.2727\n",
      "Epoch 13/300\n",
      "4/4 [==============================] - 0s 40ms/step - loss: 0.1684 - accuracy: 0.9412 - true_positives: 17.0000 - true_negatives: 79.0000 - false_positives: 0.0000e+00 - false_negatives: 6.0000 - precision: 1.0000 - recall: 0.7391 - val_loss: 0.4327 - val_accuracy: 0.7714 - val_true_positives: 3.0000 - val_true_negatives: 24.0000 - val_false_positives: 0.0000e+00 - val_false_negatives: 8.0000 - val_precision: 1.0000 - val_recall: 0.2727\n",
      "Epoch 14/300\n",
      "4/4 [==============================] - 0s 18ms/step - loss: 0.1648 - accuracy: 0.9314 - true_positives: 16.0000 - true_negatives: 79.0000 - false_positives: 0.0000e+00 - false_negatives: 7.0000 - precision: 1.0000 - recall: 0.6957 - val_loss: 0.3706 - val_accuracy: 0.8000 - val_true_positives: 5.0000 - val_true_negatives: 23.0000 - val_false_positives: 1.0000 - val_false_negatives: 6.0000 - val_precision: 0.8333 - val_recall: 0.4545\n",
      "Epoch 15/300\n",
      "4/4 [==============================] - 0s 43ms/step - loss: 0.1362 - accuracy: 0.9608 - true_positives: 20.0000 - true_negatives: 78.0000 - false_positives: 1.0000 - false_negatives: 3.0000 - precision: 0.9524 - recall: 0.8696 - val_loss: 0.3840 - val_accuracy: 0.7429 - val_true_positives: 3.0000 - val_true_negatives: 23.0000 - val_false_positives: 1.0000 - val_false_negatives: 8.0000 - val_precision: 0.7500 - val_recall: 0.2727\n",
      "Epoch 16/300\n",
      "4/4 [==============================] - 0s 23ms/step - loss: 0.1188 - accuracy: 0.9510 - true_positives: 18.0000 - true_negatives: 79.0000 - false_positives: 0.0000e+00 - false_negatives: 5.0000 - precision: 1.0000 - recall: 0.7826 - val_loss: 0.3602 - val_accuracy: 0.7429 - val_true_positives: 3.0000 - val_true_negatives: 23.0000 - val_false_positives: 1.0000 - val_false_negatives: 8.0000 - val_precision: 0.7500 - val_recall: 0.2727\n",
      "Epoch 17/300\n",
      "4/4 [==============================] - 0s 46ms/step - loss: 0.1065 - accuracy: 0.9608 - true_positives: 19.0000 - true_negatives: 79.0000 - false_positives: 0.0000e+00 - false_negatives: 4.0000 - precision: 1.0000 - recall: 0.8261 - val_loss: 0.3716 - val_accuracy: 0.7429 - val_true_positives: 3.0000 - val_true_negatives: 23.0000 - val_false_positives: 1.0000 - val_false_negatives: 8.0000 - val_precision: 0.7500 - val_recall: 0.2727\n",
      "Epoch 18/300\n",
      "4/4 [==============================] - 0s 24ms/step - loss: 0.1251 - accuracy: 0.9412 - true_positives: 17.0000 - true_negatives: 79.0000 - false_positives: 0.0000e+00 - false_negatives: 6.0000 - precision: 1.0000 - recall: 0.7391 - val_loss: 0.3352 - val_accuracy: 0.8000 - val_true_positives: 5.0000 - val_true_negatives: 23.0000 - val_false_positives: 1.0000 - val_false_negatives: 6.0000 - val_precision: 0.8333 - val_recall: 0.4545\n",
      "Epoch 19/300\n",
      "4/4 [==============================] - 0s 48ms/step - loss: 0.1128 - accuracy: 0.9804 - true_positives: 21.0000 - true_negatives: 79.0000 - false_positives: 0.0000e+00 - false_negatives: 2.0000 - precision: 1.0000 - recall: 0.9130 - val_loss: 0.3108 - val_accuracy: 0.9143 - val_true_positives: 9.0000 - val_true_negatives: 23.0000 - val_false_positives: 1.0000 - val_false_negatives: 2.0000 - val_precision: 0.9000 - val_recall: 0.8182\n",
      "Epoch 20/300\n",
      "4/4 [==============================] - 0s 25ms/step - loss: 0.0903 - accuracy: 0.9804 - true_positives: 21.0000 - true_negatives: 79.0000 - false_positives: 0.0000e+00 - false_negatives: 2.0000 - precision: 1.0000 - recall: 0.9130 - val_loss: 0.4245 - val_accuracy: 0.7714 - val_true_positives: 3.0000 - val_true_negatives: 24.0000 - val_false_positives: 0.0000e+00 - val_false_negatives: 8.0000 - val_precision: 1.0000 - val_recall: 0.2727\n",
      "Epoch 21/300\n",
      "4/4 [==============================] - 0s 41ms/step - loss: 0.1223 - accuracy: 0.9510 - true_positives: 18.0000 - true_negatives: 79.0000 - false_positives: 0.0000e+00 - false_negatives: 5.0000 - precision: 1.0000 - recall: 0.7826 - val_loss: 0.3016 - val_accuracy: 0.8571 - val_true_positives: 7.0000 - val_true_negatives: 23.0000 - val_false_positives: 1.0000 - val_false_negatives: 4.0000 - val_precision: 0.8750 - val_recall: 0.6364\n",
      "Epoch 22/300\n",
      "4/4 [==============================] - 0s 15ms/step - loss: 0.0928 - accuracy: 0.9706 - true_positives: 22.0000 - true_negatives: 77.0000 - false_positives: 2.0000 - false_negatives: 1.0000 - precision: 0.9167 - recall: 0.9565 - val_loss: 0.2856 - val_accuracy: 0.8571 - val_true_positives: 7.0000 - val_true_negatives: 23.0000 - val_false_positives: 1.0000 - val_false_negatives: 4.0000 - val_precision: 0.8750 - val_recall: 0.6364\n",
      "Epoch 23/300\n",
      "4/4 [==============================] - 0s 37ms/step - loss: 0.0603 - accuracy: 0.9902 - true_positives: 22.0000 - true_negatives: 79.0000 - false_positives: 0.0000e+00 - false_negatives: 1.0000 - precision: 1.0000 - recall: 0.9565 - val_loss: 0.3569 - val_accuracy: 0.7714 - val_true_positives: 3.0000 - val_true_negatives: 24.0000 - val_false_positives: 0.0000e+00 - val_false_negatives: 8.0000 - val_precision: 1.0000 - val_recall: 0.2727\n",
      "Epoch 24/300\n",
      "4/4 [==============================] - 0s 16ms/step - loss: 0.0869 - accuracy: 0.9510 - true_positives: 18.0000 - true_negatives: 79.0000 - false_positives: 0.0000e+00 - false_negatives: 5.0000 - precision: 1.0000 - recall: 0.7826 - val_loss: 0.2969 - val_accuracy: 0.8000 - val_true_positives: 5.0000 - val_true_negatives: 23.0000 - val_false_positives: 1.0000 - val_false_negatives: 6.0000 - val_precision: 0.8333 - val_recall: 0.4545\n",
      "Epoch 25/300\n",
      "4/4 [==============================] - 0s 37ms/step - loss: 0.0583 - accuracy: 0.9804 - true_positives: 21.0000 - true_negatives: 79.0000 - false_positives: 0.0000e+00 - false_negatives: 2.0000 - precision: 1.0000 - recall: 0.9130 - val_loss: 0.2739 - val_accuracy: 0.9143 - val_true_positives: 9.0000 - val_true_negatives: 23.0000 - val_false_positives: 1.0000 - val_false_negatives: 2.0000 - val_precision: 0.9000 - val_recall: 0.8182\n",
      "Epoch 26/300\n",
      "4/4 [==============================] - 0s 16ms/step - loss: 0.0691 - accuracy: 0.9902 - true_positives: 23.0000 - true_negatives: 78.0000 - false_positives: 1.0000 - false_negatives: 0.0000e+00 - precision: 0.9583 - recall: 1.0000 - val_loss: 0.3144 - val_accuracy: 0.8286 - val_true_positives: 5.0000 - val_true_negatives: 24.0000 - val_false_positives: 0.0000e+00 - val_false_negatives: 6.0000 - val_precision: 1.0000 - val_recall: 0.4545\n",
      "Epoch 27/300\n",
      "4/4 [==============================] - 0s 38ms/step - loss: 0.0700 - accuracy: 0.9608 - true_positives: 19.0000 - true_negatives: 79.0000 - false_positives: 0.0000e+00 - false_negatives: 4.0000 - precision: 1.0000 - recall: 0.8261 - val_loss: 0.2640 - val_accuracy: 0.8286 - val_true_positives: 6.0000 - val_true_negatives: 23.0000 - val_false_positives: 1.0000 - val_false_negatives: 5.0000 - val_precision: 0.8571 - val_recall: 0.5455\n",
      "Epoch 28/300\n",
      "4/4 [==============================] - 0s 16ms/step - loss: 0.0621 - accuracy: 1.0000 - true_positives: 23.0000 - true_negatives: 79.0000 - false_positives: 0.0000e+00 - false_negatives: 0.0000e+00 - precision: 1.0000 - recall: 1.0000 - val_loss: 0.3007 - val_accuracy: 0.9429 - val_true_positives: 10.0000 - val_true_negatives: 23.0000 - val_false_positives: 1.0000 - val_false_negatives: 1.0000 - val_precision: 0.9091 - val_recall: 0.9091\n",
      "Epoch 29/300\n",
      "4/4 [==============================] - 0s 38ms/step - loss: 0.0919 - accuracy: 0.9706 - true_positives: 23.0000 - true_negatives: 76.0000 - false_positives: 3.0000 - false_negatives: 0.0000e+00 - precision: 0.8846 - recall: 1.0000 - val_loss: 0.4252 - val_accuracy: 0.7714 - val_true_positives: 3.0000 - val_true_negatives: 24.0000 - val_false_positives: 0.0000e+00 - val_false_negatives: 8.0000 - val_precision: 1.0000 - val_recall: 0.2727\n",
      "Epoch 30/300\n",
      "4/4 [==============================] - 0s 16ms/step - loss: 0.0795 - accuracy: 0.9706 - true_positives: 20.0000 - true_negatives: 79.0000 - false_positives: 0.0000e+00 - false_negatives: 3.0000 - precision: 1.0000 - recall: 0.8696 - val_loss: 0.3691 - val_accuracy: 0.7714 - val_true_positives: 3.0000 - val_true_negatives: 24.0000 - val_false_positives: 0.0000e+00 - val_false_negatives: 8.0000 - val_precision: 1.0000 - val_recall: 0.2727\n",
      "Epoch 31/300\n",
      "4/4 [==============================] - 0s 40ms/step - loss: 0.0444 - accuracy: 0.9804 - true_positives: 21.0000 - true_negatives: 79.0000 - false_positives: 0.0000e+00 - false_negatives: 2.0000 - precision: 1.0000 - recall: 0.9130 - val_loss: 0.2417 - val_accuracy: 0.8857 - val_true_positives: 8.0000 - val_true_negatives: 23.0000 - val_false_positives: 1.0000 - val_false_negatives: 3.0000 - val_precision: 0.8889 - val_recall: 0.7273\n",
      "Epoch 32/300\n",
      "4/4 [==============================] - 0s 16ms/step - loss: 0.0397 - accuracy: 1.0000 - true_positives: 23.0000 - true_negatives: 79.0000 - false_positives: 0.0000e+00 - false_negatives: 0.0000e+00 - precision: 1.0000 - recall: 1.0000 - val_loss: 0.2342 - val_accuracy: 0.9143 - val_true_positives: 9.0000 - val_true_negatives: 23.0000 - val_false_positives: 1.0000 - val_false_negatives: 2.0000 - val_precision: 0.9000 - val_recall: 0.8182\n",
      "Epoch 33/300\n",
      "4/4 [==============================] - 0s 37ms/step - loss: 0.0303 - accuracy: 0.9902 - true_positives: 22.0000 - true_negatives: 79.0000 - false_positives: 0.0000e+00 - false_negatives: 1.0000 - precision: 1.0000 - recall: 0.9565 - val_loss: 0.2966 - val_accuracy: 0.8286 - val_true_positives: 5.0000 - val_true_negatives: 24.0000 - val_false_positives: 0.0000e+00 - val_false_negatives: 6.0000 - val_precision: 1.0000 - val_recall: 0.4545\n",
      "Epoch 34/300\n",
      "4/4 [==============================] - 0s 15ms/step - loss: 0.0295 - accuracy: 0.9902 - true_positives: 22.0000 - true_negatives: 79.0000 - false_positives: 0.0000e+00 - false_negatives: 1.0000 - precision: 1.0000 - recall: 0.9565 - val_loss: 0.2873 - val_accuracy: 0.8286 - val_true_positives: 5.0000 - val_true_negatives: 24.0000 - val_false_positives: 0.0000e+00 - val_false_negatives: 6.0000 - val_precision: 1.0000 - val_recall: 0.4545\n",
      "Epoch 35/300\n"
     ]
    },
    {
     "name": "stdout",
     "output_type": "stream",
     "text": [
      "4/4 [==============================] - 0s 38ms/step - loss: 0.0249 - accuracy: 0.9902 - true_positives: 22.0000 - true_negatives: 79.0000 - false_positives: 0.0000e+00 - false_negatives: 1.0000 - precision: 1.0000 - recall: 0.9565 - val_loss: 0.2419 - val_accuracy: 0.8571 - val_true_positives: 7.0000 - val_true_negatives: 23.0000 - val_false_positives: 1.0000 - val_false_negatives: 4.0000 - val_precision: 0.8750 - val_recall: 0.6364\n",
      "Epoch 36/300\n",
      "4/4 [==============================] - 0s 17ms/step - loss: 0.0208 - accuracy: 1.0000 - true_positives: 23.0000 - true_negatives: 79.0000 - false_positives: 0.0000e+00 - false_negatives: 0.0000e+00 - precision: 1.0000 - recall: 1.0000 - val_loss: 0.2280 - val_accuracy: 0.8857 - val_true_positives: 8.0000 - val_true_negatives: 23.0000 - val_false_positives: 1.0000 - val_false_negatives: 3.0000 - val_precision: 0.8889 - val_recall: 0.7273\n",
      "Epoch 37/300\n",
      "4/4 [==============================] - 0s 44ms/step - loss: 0.0173 - accuracy: 1.0000 - true_positives: 23.0000 - true_negatives: 79.0000 - false_positives: 0.0000e+00 - false_negatives: 0.0000e+00 - precision: 1.0000 - recall: 1.0000 - val_loss: 0.2323 - val_accuracy: 0.8571 - val_true_positives: 7.0000 - val_true_negatives: 23.0000 - val_false_positives: 1.0000 - val_false_negatives: 4.0000 - val_precision: 0.8750 - val_recall: 0.6364\n",
      "Epoch 38/300\n",
      "4/4 [==============================] - 0s 16ms/step - loss: 0.0152 - accuracy: 1.0000 - true_positives: 23.0000 - true_negatives: 79.0000 - false_positives: 0.0000e+00 - false_negatives: 0.0000e+00 - precision: 1.0000 - recall: 1.0000 - val_loss: 0.2657 - val_accuracy: 0.8286 - val_true_positives: 5.0000 - val_true_negatives: 24.0000 - val_false_positives: 0.0000e+00 - val_false_negatives: 6.0000 - val_precision: 1.0000 - val_recall: 0.4545\n",
      "Epoch 39/300\n",
      "4/4 [==============================] - 0s 42ms/step - loss: 0.0153 - accuracy: 1.0000 - true_positives: 23.0000 - true_negatives: 79.0000 - false_positives: 0.0000e+00 - false_negatives: 0.0000e+00 - precision: 1.0000 - recall: 1.0000 - val_loss: 0.2564 - val_accuracy: 0.8286 - val_true_positives: 5.0000 - val_true_negatives: 24.0000 - val_false_positives: 0.0000e+00 - val_false_negatives: 6.0000 - val_precision: 1.0000 - val_recall: 0.4545\n",
      "Epoch 40/300\n",
      "4/4 [==============================] - 0s 15ms/step - loss: 0.0144 - accuracy: 1.0000 - true_positives: 23.0000 - true_negatives: 79.0000 - false_positives: 0.0000e+00 - false_negatives: 0.0000e+00 - precision: 1.0000 - recall: 1.0000 - val_loss: 0.2067 - val_accuracy: 0.9143 - val_true_positives: 9.0000 - val_true_negatives: 23.0000 - val_false_positives: 1.0000 - val_false_negatives: 2.0000 - val_precision: 0.9000 - val_recall: 0.8182\n",
      "Epoch 41/300\n",
      "4/4 [==============================] - 0s 36ms/step - loss: 0.0129 - accuracy: 1.0000 - true_positives: 23.0000 - true_negatives: 79.0000 - false_positives: 0.0000e+00 - false_negatives: 0.0000e+00 - precision: 1.0000 - recall: 1.0000 - val_loss: 0.1917 - val_accuracy: 0.9143 - val_true_positives: 9.0000 - val_true_negatives: 23.0000 - val_false_positives: 1.0000 - val_false_negatives: 2.0000 - val_precision: 0.9000 - val_recall: 0.8182\n",
      "Epoch 42/300\n",
      "4/4 [==============================] - 0s 17ms/step - loss: 0.0124 - accuracy: 1.0000 - true_positives: 23.0000 - true_negatives: 79.0000 - false_positives: 0.0000e+00 - false_negatives: 0.0000e+00 - precision: 1.0000 - recall: 1.0000 - val_loss: 0.2096 - val_accuracy: 0.9429 - val_true_positives: 9.0000 - val_true_negatives: 24.0000 - val_false_positives: 0.0000e+00 - val_false_negatives: 2.0000 - val_precision: 1.0000 - val_recall: 0.8182\n",
      "Epoch 43/300\n",
      "4/4 [==============================] - 0s 37ms/step - loss: 0.0114 - accuracy: 1.0000 - true_positives: 23.0000 - true_negatives: 79.0000 - false_positives: 0.0000e+00 - false_negatives: 0.0000e+00 - precision: 1.0000 - recall: 1.0000 - val_loss: 0.2501 - val_accuracy: 0.8571 - val_true_positives: 6.0000 - val_true_negatives: 24.0000 - val_false_positives: 0.0000e+00 - val_false_negatives: 5.0000 - val_precision: 1.0000 - val_recall: 0.5455\n",
      "Epoch 44/300\n",
      "4/4 [==============================] - 0s 16ms/step - loss: 0.0138 - accuracy: 1.0000 - true_positives: 23.0000 - true_negatives: 79.0000 - false_positives: 0.0000e+00 - false_negatives: 0.0000e+00 - precision: 1.0000 - recall: 1.0000 - val_loss: 0.2361 - val_accuracy: 0.8857 - val_true_positives: 7.0000 - val_true_negatives: 24.0000 - val_false_positives: 0.0000e+00 - val_false_negatives: 4.0000 - val_precision: 1.0000 - val_recall: 0.6364\n",
      "Epoch 45/300\n",
      "4/4 [==============================] - 0s 44ms/step - loss: 0.0105 - accuracy: 1.0000 - true_positives: 23.0000 - true_negatives: 79.0000 - false_positives: 0.0000e+00 - false_negatives: 0.0000e+00 - precision: 1.0000 - recall: 1.0000 - val_loss: 0.2403 - val_accuracy: 0.8571 - val_true_positives: 6.0000 - val_true_negatives: 24.0000 - val_false_positives: 0.0000e+00 - val_false_negatives: 5.0000 - val_precision: 1.0000 - val_recall: 0.5455\n",
      "Epoch 46/300\n",
      "4/4 [==============================] - 0s 17ms/step - loss: 0.0082 - accuracy: 1.0000 - true_positives: 23.0000 - true_negatives: 79.0000 - false_positives: 0.0000e+00 - false_negatives: 0.0000e+00 - precision: 1.0000 - recall: 1.0000 - val_loss: 0.1998 - val_accuracy: 0.9429 - val_true_positives: 9.0000 - val_true_negatives: 24.0000 - val_false_positives: 0.0000e+00 - val_false_negatives: 2.0000 - val_precision: 1.0000 - val_recall: 0.8182\n",
      "Epoch 47/300\n",
      "4/4 [==============================] - 0s 41ms/step - loss: 0.0084 - accuracy: 1.0000 - true_positives: 23.0000 - true_negatives: 79.0000 - false_positives: 0.0000e+00 - false_negatives: 0.0000e+00 - precision: 1.0000 - recall: 1.0000 - val_loss: 0.1799 - val_accuracy: 0.9143 - val_true_positives: 9.0000 - val_true_negatives: 23.0000 - val_false_positives: 1.0000 - val_false_negatives: 2.0000 - val_precision: 0.9000 - val_recall: 0.8182\n",
      "Epoch 48/300\n",
      "4/4 [==============================] - 0s 16ms/step - loss: 0.0066 - accuracy: 1.0000 - true_positives: 23.0000 - true_negatives: 79.0000 - false_positives: 0.0000e+00 - false_negatives: 0.0000e+00 - precision: 1.0000 - recall: 1.0000 - val_loss: 0.2121 - val_accuracy: 0.9143 - val_true_positives: 8.0000 - val_true_negatives: 24.0000 - val_false_positives: 0.0000e+00 - val_false_negatives: 3.0000 - val_precision: 1.0000 - val_recall: 0.7273\n",
      "Epoch 49/300\n",
      "4/4 [==============================] - 0s 37ms/step - loss: 0.0061 - accuracy: 1.0000 - true_positives: 23.0000 - true_negatives: 79.0000 - false_positives: 0.0000e+00 - false_negatives: 0.0000e+00 - precision: 1.0000 - recall: 1.0000 - val_loss: 0.2219 - val_accuracy: 0.8857 - val_true_positives: 7.0000 - val_true_negatives: 24.0000 - val_false_positives: 0.0000e+00 - val_false_negatives: 4.0000 - val_precision: 1.0000 - val_recall: 0.6364\n",
      "Epoch 50/300\n",
      "4/4 [==============================] - 0s 15ms/step - loss: 0.0053 - accuracy: 1.0000 - true_positives: 23.0000 - true_negatives: 79.0000 - false_positives: 0.0000e+00 - false_negatives: 0.0000e+00 - precision: 1.0000 - recall: 1.0000 - val_loss: 0.1670 - val_accuracy: 0.9143 - val_true_positives: 9.0000 - val_true_negatives: 23.0000 - val_false_positives: 1.0000 - val_false_negatives: 2.0000 - val_precision: 0.9000 - val_recall: 0.8182\n",
      "Epoch 51/300\n",
      "4/4 [==============================] - 0s 40ms/step - loss: 0.0057 - accuracy: 1.0000 - true_positives: 23.0000 - true_negatives: 79.0000 - false_positives: 0.0000e+00 - false_negatives: 0.0000e+00 - precision: 1.0000 - recall: 1.0000 - val_loss: 0.1670 - val_accuracy: 0.9143 - val_true_positives: 9.0000 - val_true_negatives: 23.0000 - val_false_positives: 1.0000 - val_false_negatives: 2.0000 - val_precision: 0.9000 - val_recall: 0.8182\n",
      "Epoch 52/300\n",
      "4/4 [==============================] - 0s 17ms/step - loss: 0.0054 - accuracy: 1.0000 - true_positives: 23.0000 - true_negatives: 79.0000 - false_positives: 0.0000e+00 - false_negatives: 0.0000e+00 - precision: 1.0000 - recall: 1.0000 - val_loss: 0.1871 - val_accuracy: 0.9429 - val_true_positives: 9.0000 - val_true_negatives: 24.0000 - val_false_positives: 0.0000e+00 - val_false_negatives: 2.0000 - val_precision: 1.0000 - val_recall: 0.8182\n"
     ]
    },
    {
     "name": "stdout",
     "output_type": "stream",
     "text": [
      "Epoch 53/300\n",
      "4/4 [==============================] - 0s 37ms/step - loss: 0.0050 - accuracy: 1.0000 - true_positives: 23.0000 - true_negatives: 79.0000 - false_positives: 0.0000e+00 - false_negatives: 0.0000e+00 - precision: 1.0000 - recall: 1.0000 - val_loss: 0.2078 - val_accuracy: 0.9143 - val_true_positives: 8.0000 - val_true_negatives: 24.0000 - val_false_positives: 0.0000e+00 - val_false_negatives: 3.0000 - val_precision: 1.0000 - val_recall: 0.7273\n",
      "Epoch 54/300\n",
      "4/4 [==============================] - 0s 15ms/step - loss: 0.0039 - accuracy: 1.0000 - true_positives: 23.0000 - true_negatives: 79.0000 - false_positives: 0.0000e+00 - false_negatives: 0.0000e+00 - precision: 1.0000 - recall: 1.0000 - val_loss: 0.1916 - val_accuracy: 0.9429 - val_true_positives: 9.0000 - val_true_negatives: 24.0000 - val_false_positives: 0.0000e+00 - val_false_negatives: 2.0000 - val_precision: 1.0000 - val_recall: 0.8182\n",
      "Epoch 55/300\n",
      "4/4 [==============================] - 0s 39ms/step - loss: 0.0038 - accuracy: 1.0000 - true_positives: 23.0000 - true_negatives: 79.0000 - false_positives: 0.0000e+00 - false_negatives: 0.0000e+00 - precision: 1.0000 - recall: 1.0000 - val_loss: 0.1763 - val_accuracy: 0.9429 - val_true_positives: 9.0000 - val_true_negatives: 24.0000 - val_false_positives: 0.0000e+00 - val_false_negatives: 2.0000 - val_precision: 1.0000 - val_recall: 0.8182\n",
      "Epoch 56/300\n",
      "4/4 [==============================] - 0s 15ms/step - loss: 0.0043 - accuracy: 1.0000 - true_positives: 23.0000 - true_negatives: 79.0000 - false_positives: 0.0000e+00 - false_negatives: 0.0000e+00 - precision: 1.0000 - recall: 1.0000 - val_loss: 0.2254 - val_accuracy: 0.8571 - val_true_positives: 6.0000 - val_true_negatives: 24.0000 - val_false_positives: 0.0000e+00 - val_false_negatives: 5.0000 - val_precision: 1.0000 - val_recall: 0.5455\n",
      "Epoch 57/300\n",
      "4/4 [==============================] - 0s 39ms/step - loss: 0.0090 - accuracy: 1.0000 - true_positives: 23.0000 - true_negatives: 79.0000 - false_positives: 0.0000e+00 - false_negatives: 0.0000e+00 - precision: 1.0000 - recall: 1.0000 - val_loss: 0.2236 - val_accuracy: 0.8571 - val_true_positives: 6.0000 - val_true_negatives: 24.0000 - val_false_positives: 0.0000e+00 - val_false_negatives: 5.0000 - val_precision: 1.0000 - val_recall: 0.5455\n",
      "Epoch 58/300\n",
      "4/4 [==============================] - 0s 16ms/step - loss: 0.0029 - accuracy: 1.0000 - true_positives: 23.0000 - true_negatives: 79.0000 - false_positives: 0.0000e+00 - false_negatives: 0.0000e+00 - precision: 1.0000 - recall: 1.0000 - val_loss: 0.1690 - val_accuracy: 0.9143 - val_true_positives: 9.0000 - val_true_negatives: 23.0000 - val_false_positives: 1.0000 - val_false_negatives: 2.0000 - val_precision: 0.9000 - val_recall: 0.8182\n",
      "Epoch 59/300\n",
      "4/4 [==============================] - 0s 39ms/step - loss: 0.0045 - accuracy: 1.0000 - true_positives: 23.0000 - true_negatives: 79.0000 - false_positives: 0.0000e+00 - false_negatives: 0.0000e+00 - precision: 1.0000 - recall: 1.0000 - val_loss: 0.1680 - val_accuracy: 0.9143 - val_true_positives: 9.0000 - val_true_negatives: 23.0000 - val_false_positives: 1.0000 - val_false_negatives: 2.0000 - val_precision: 0.9000 - val_recall: 0.8182\n",
      "Epoch 60/300\n",
      "4/4 [==============================] - 0s 16ms/step - loss: 0.0039 - accuracy: 1.0000 - true_positives: 23.0000 - true_negatives: 79.0000 - false_positives: 0.0000e+00 - false_negatives: 0.0000e+00 - precision: 1.0000 - recall: 1.0000 - val_loss: 0.1966 - val_accuracy: 0.9429 - val_true_positives: 9.0000 - val_true_negatives: 24.0000 - val_false_positives: 0.0000e+00 - val_false_negatives: 2.0000 - val_precision: 1.0000 - val_recall: 0.8182\n",
      "Epoch 61/300\n",
      "4/4 [==============================] - 0s 39ms/step - loss: 0.0034 - accuracy: 1.0000 - true_positives: 23.0000 - true_negatives: 79.0000 - false_positives: 0.0000e+00 - false_negatives: 0.0000e+00 - precision: 1.0000 - recall: 1.0000 - val_loss: 0.2254 - val_accuracy: 0.8857 - val_true_positives: 7.0000 - val_true_negatives: 24.0000 - val_false_positives: 0.0000e+00 - val_false_negatives: 4.0000 - val_precision: 1.0000 - val_recall: 0.6364\n",
      "Epoch 62/300\n",
      "4/4 [==============================] - 0s 17ms/step - loss: 0.0032 - accuracy: 1.0000 - true_positives: 23.0000 - true_negatives: 79.0000 - false_positives: 0.0000e+00 - false_negatives: 0.0000e+00 - precision: 1.0000 - recall: 1.0000 - val_loss: 0.2102 - val_accuracy: 0.9429 - val_true_positives: 9.0000 - val_true_negatives: 24.0000 - val_false_positives: 0.0000e+00 - val_false_negatives: 2.0000 - val_precision: 1.0000 - val_recall: 0.8182\n",
      "Epoch 63/300\n",
      "4/4 [==============================] - 0s 38ms/step - loss: 0.0030 - accuracy: 1.0000 - true_positives: 23.0000 - true_negatives: 79.0000 - false_positives: 0.0000e+00 - false_negatives: 0.0000e+00 - precision: 1.0000 - recall: 1.0000 - val_loss: 0.1990 - val_accuracy: 0.9429 - val_true_positives: 9.0000 - val_true_negatives: 24.0000 - val_false_positives: 0.0000e+00 - val_false_negatives: 2.0000 - val_precision: 1.0000 - val_recall: 0.8182\n",
      "Epoch 64/300\n",
      "4/4 [==============================] - 0s 17ms/step - loss: 0.0027 - accuracy: 1.0000 - true_positives: 23.0000 - true_negatives: 79.0000 - false_positives: 0.0000e+00 - false_negatives: 0.0000e+00 - precision: 1.0000 - recall: 1.0000 - val_loss: 0.1977 - val_accuracy: 0.9429 - val_true_positives: 9.0000 - val_true_negatives: 24.0000 - val_false_positives: 0.0000e+00 - val_false_negatives: 2.0000 - val_precision: 1.0000 - val_recall: 0.8182\n",
      "Epoch 65/300\n",
      "4/4 [==============================] - 0s 45ms/step - loss: 0.0022 - accuracy: 1.0000 - true_positives: 23.0000 - true_negatives: 79.0000 - false_positives: 0.0000e+00 - false_negatives: 0.0000e+00 - precision: 1.0000 - recall: 1.0000 - val_loss: 0.2121 - val_accuracy: 0.9429 - val_true_positives: 9.0000 - val_true_negatives: 24.0000 - val_false_positives: 0.0000e+00 - val_false_negatives: 2.0000 - val_precision: 1.0000 - val_recall: 0.8182\n",
      "Epoch 66/300\n",
      "4/4 [==============================] - 0s 16ms/step - loss: 0.0020 - accuracy: 1.0000 - true_positives: 23.0000 - true_negatives: 79.0000 - false_positives: 0.0000e+00 - false_negatives: 0.0000e+00 - precision: 1.0000 - recall: 1.0000 - val_loss: 0.2147 - val_accuracy: 0.9429 - val_true_positives: 9.0000 - val_true_negatives: 24.0000 - val_false_positives: 0.0000e+00 - val_false_negatives: 2.0000 - val_precision: 1.0000 - val_recall: 0.8182\n",
      "Epoch 67/300\n",
      "4/4 [==============================] - 0s 38ms/step - loss: 0.0027 - accuracy: 1.0000 - true_positives: 23.0000 - true_negatives: 79.0000 - false_positives: 0.0000e+00 - false_negatives: 0.0000e+00 - precision: 1.0000 - recall: 1.0000 - val_loss: 0.2210 - val_accuracy: 0.9143 - val_true_positives: 8.0000 - val_true_negatives: 24.0000 - val_false_positives: 0.0000e+00 - val_false_negatives: 3.0000 - val_precision: 1.0000 - val_recall: 0.7273\n",
      "Epoch 68/300\n",
      "4/4 [==============================] - 0s 16ms/step - loss: 0.0039 - accuracy: 1.0000 - true_positives: 23.0000 - true_negatives: 79.0000 - false_positives: 0.0000e+00 - false_negatives: 0.0000e+00 - precision: 1.0000 - recall: 1.0000 - val_loss: 0.2649 - val_accuracy: 0.8571 - val_true_positives: 6.0000 - val_true_negatives: 24.0000 - val_false_positives: 0.0000e+00 - val_false_negatives: 5.0000 - val_precision: 1.0000 - val_recall: 0.5455\n",
      "Epoch 69/300\n",
      "4/4 [==============================] - 0s 40ms/step - loss: 0.0035 - accuracy: 1.0000 - true_positives: 23.0000 - true_negatives: 79.0000 - false_positives: 0.0000e+00 - false_negatives: 0.0000e+00 - precision: 1.0000 - recall: 1.0000 - val_loss: 0.2205 - val_accuracy: 0.9143 - val_true_positives: 8.0000 - val_true_negatives: 24.0000 - val_false_positives: 0.0000e+00 - val_false_negatives: 3.0000 - val_precision: 1.0000 - val_recall: 0.7273\n",
      "Epoch 70/300\n",
      "4/4 [==============================] - 0s 16ms/step - loss: 0.0020 - accuracy: 1.0000 - true_positives: 23.0000 - true_negatives: 79.0000 - false_positives: 0.0000e+00 - false_negatives: 0.0000e+00 - precision: 1.0000 - recall: 1.0000 - val_loss: 0.1783 - val_accuracy: 0.9143 - val_true_positives: 9.0000 - val_true_negatives: 23.0000 - val_false_positives: 1.0000 - val_false_negatives: 2.0000 - val_precision: 0.9000 - val_recall: 0.8182\n"
     ]
    },
    {
     "name": "stdout",
     "output_type": "stream",
     "text": [
      "Epoch 71/300\n",
      "4/4 [==============================] - 0s 38ms/step - loss: 0.0018 - accuracy: 1.0000 - true_positives: 23.0000 - true_negatives: 79.0000 - false_positives: 0.0000e+00 - false_negatives: 0.0000e+00 - precision: 1.0000 - recall: 1.0000 - val_loss: 0.1694 - val_accuracy: 0.9143 - val_true_positives: 9.0000 - val_true_negatives: 23.0000 - val_false_positives: 1.0000 - val_false_negatives: 2.0000 - val_precision: 0.9000 - val_recall: 0.8182\n",
      "Epoch 72/300\n",
      "4/4 [==============================] - 0s 18ms/step - loss: 0.0018 - accuracy: 1.0000 - true_positives: 23.0000 - true_negatives: 79.0000 - false_positives: 0.0000e+00 - false_negatives: 0.0000e+00 - precision: 1.0000 - recall: 1.0000 - val_loss: 0.1885 - val_accuracy: 0.9429 - val_true_positives: 9.0000 - val_true_negatives: 24.0000 - val_false_positives: 0.0000e+00 - val_false_negatives: 2.0000 - val_precision: 1.0000 - val_recall: 0.8182\n",
      "Epoch 73/300\n",
      "4/4 [==============================] - 0s 41ms/step - loss: 0.0014 - accuracy: 1.0000 - true_positives: 23.0000 - true_negatives: 79.0000 - false_positives: 0.0000e+00 - false_negatives: 0.0000e+00 - precision: 1.0000 - recall: 1.0000 - val_loss: 0.2053 - val_accuracy: 0.9429 - val_true_positives: 9.0000 - val_true_negatives: 24.0000 - val_false_positives: 0.0000e+00 - val_false_negatives: 2.0000 - val_precision: 1.0000 - val_recall: 0.8182\n",
      "Epoch 74/300\n",
      "4/4 [==============================] - 0s 21ms/step - loss: 0.0022 - accuracy: 1.0000 - true_positives: 23.0000 - true_negatives: 79.0000 - false_positives: 0.0000e+00 - false_negatives: 0.0000e+00 - precision: 1.0000 - recall: 1.0000 - val_loss: 0.2038 - val_accuracy: 0.9429 - val_true_positives: 9.0000 - val_true_negatives: 24.0000 - val_false_positives: 0.0000e+00 - val_false_negatives: 2.0000 - val_precision: 1.0000 - val_recall: 0.8182\n",
      "Epoch 75/300\n",
      "4/4 [==============================] - 0s 41ms/step - loss: 0.0018 - accuracy: 1.0000 - true_positives: 23.0000 - true_negatives: 79.0000 - false_positives: 0.0000e+00 - false_negatives: 0.0000e+00 - precision: 1.0000 - recall: 1.0000 - val_loss: 0.1877 - val_accuracy: 0.9429 - val_true_positives: 9.0000 - val_true_negatives: 24.0000 - val_false_positives: 0.0000e+00 - val_false_negatives: 2.0000 - val_precision: 1.0000 - val_recall: 0.8182\n",
      "Epoch 76/300\n",
      "4/4 [==============================] - 0s 18ms/step - loss: 0.0016 - accuracy: 1.0000 - true_positives: 23.0000 - true_negatives: 79.0000 - false_positives: 0.0000e+00 - false_negatives: 0.0000e+00 - precision: 1.0000 - recall: 1.0000 - val_loss: 0.1766 - val_accuracy: 0.9143 - val_true_positives: 9.0000 - val_true_negatives: 23.0000 - val_false_positives: 1.0000 - val_false_negatives: 2.0000 - val_precision: 0.9000 - val_recall: 0.8182\n",
      "Epoch 77/300\n",
      "4/4 [==============================] - 0s 39ms/step - loss: 0.0015 - accuracy: 1.0000 - true_positives: 23.0000 - true_negatives: 79.0000 - false_positives: 0.0000e+00 - false_negatives: 0.0000e+00 - precision: 1.0000 - recall: 1.0000 - val_loss: 0.1848 - val_accuracy: 0.9429 - val_true_positives: 9.0000 - val_true_negatives: 24.0000 - val_false_positives: 0.0000e+00 - val_false_negatives: 2.0000 - val_precision: 1.0000 - val_recall: 0.8182\n",
      "Epoch 78/300\n",
      "4/4 [==============================] - 0s 16ms/step - loss: 0.0011 - accuracy: 1.0000 - true_positives: 23.0000 - true_negatives: 79.0000 - false_positives: 0.0000e+00 - false_negatives: 0.0000e+00 - precision: 1.0000 - recall: 1.0000 - val_loss: 0.1944 - val_accuracy: 0.9429 - val_true_positives: 9.0000 - val_true_negatives: 24.0000 - val_false_positives: 0.0000e+00 - val_false_negatives: 2.0000 - val_precision: 1.0000 - val_recall: 0.8182\n",
      "Epoch 79/300\n",
      "4/4 [==============================] - 0s 43ms/step - loss: 0.0021 - accuracy: 1.0000 - true_positives: 23.0000 - true_negatives: 79.0000 - false_positives: 0.0000e+00 - false_negatives: 0.0000e+00 - precision: 1.0000 - recall: 1.0000 - val_loss: 0.1919 - val_accuracy: 0.9429 - val_true_positives: 9.0000 - val_true_negatives: 24.0000 - val_false_positives: 0.0000e+00 - val_false_negatives: 2.0000 - val_precision: 1.0000 - val_recall: 0.8182\n",
      "Epoch 80/300\n",
      "4/4 [==============================] - 0s 17ms/step - loss: 0.0019 - accuracy: 1.0000 - true_positives: 23.0000 - true_negatives: 79.0000 - false_positives: 0.0000e+00 - false_negatives: 0.0000e+00 - precision: 1.0000 - recall: 1.0000 - val_loss: 0.1917 - val_accuracy: 0.9429 - val_true_positives: 9.0000 - val_true_negatives: 24.0000 - val_false_positives: 0.0000e+00 - val_false_negatives: 2.0000 - val_precision: 1.0000 - val_recall: 0.8182\n",
      "Epoch 81/300\n",
      "4/4 [==============================] - 0s 39ms/step - loss: 0.0012 - accuracy: 1.0000 - true_positives: 23.0000 - true_negatives: 79.0000 - false_positives: 0.0000e+00 - false_negatives: 0.0000e+00 - precision: 1.0000 - recall: 1.0000 - val_loss: 0.1888 - val_accuracy: 0.9429 - val_true_positives: 9.0000 - val_true_negatives: 24.0000 - val_false_positives: 0.0000e+00 - val_false_negatives: 2.0000 - val_precision: 1.0000 - val_recall: 0.8182\n",
      "Epoch 82/300\n",
      "4/4 [==============================] - 0s 17ms/step - loss: 0.0014 - accuracy: 1.0000 - true_positives: 23.0000 - true_negatives: 79.0000 - false_positives: 0.0000e+00 - false_negatives: 0.0000e+00 - precision: 1.0000 - recall: 1.0000 - val_loss: 0.1906 - val_accuracy: 0.9429 - val_true_positives: 9.0000 - val_true_negatives: 24.0000 - val_false_positives: 0.0000e+00 - val_false_negatives: 2.0000 - val_precision: 1.0000 - val_recall: 0.8182\n",
      "Epoch 83/300\n",
      "4/4 [==============================] - 0s 40ms/step - loss: 0.0015 - accuracy: 1.0000 - true_positives: 23.0000 - true_negatives: 79.0000 - false_positives: 0.0000e+00 - false_negatives: 0.0000e+00 - precision: 1.0000 - recall: 1.0000 - val_loss: 0.1965 - val_accuracy: 0.9429 - val_true_positives: 9.0000 - val_true_negatives: 24.0000 - val_false_positives: 0.0000e+00 - val_false_negatives: 2.0000 - val_precision: 1.0000 - val_recall: 0.8182\n",
      "Epoch 84/300\n",
      "4/4 [==============================] - 0s 16ms/step - loss: 0.0013 - accuracy: 1.0000 - true_positives: 23.0000 - true_negatives: 79.0000 - false_positives: 0.0000e+00 - false_negatives: 0.0000e+00 - precision: 1.0000 - recall: 1.0000 - val_loss: 0.1930 - val_accuracy: 0.9429 - val_true_positives: 9.0000 - val_true_negatives: 24.0000 - val_false_positives: 0.0000e+00 - val_false_negatives: 2.0000 - val_precision: 1.0000 - val_recall: 0.8182\n",
      "Epoch 85/300\n",
      "4/4 [==============================] - 0s 42ms/step - loss: 0.0012 - accuracy: 1.0000 - true_positives: 23.0000 - true_negatives: 79.0000 - false_positives: 0.0000e+00 - false_negatives: 0.0000e+00 - precision: 1.0000 - recall: 1.0000 - val_loss: 0.1986 - val_accuracy: 0.9429 - val_true_positives: 9.0000 - val_true_negatives: 24.0000 - val_false_positives: 0.0000e+00 - val_false_negatives: 2.0000 - val_precision: 1.0000 - val_recall: 0.8182\n",
      "Epoch 86/300\n",
      "4/4 [==============================] - 0s 16ms/step - loss: 0.0010 - accuracy: 1.0000 - true_positives: 23.0000 - true_negatives: 79.0000 - false_positives: 0.0000e+00 - false_negatives: 0.0000e+00 - precision: 1.0000 - recall: 1.0000 - val_loss: 0.2067 - val_accuracy: 0.9429 - val_true_positives: 9.0000 - val_true_negatives: 24.0000 - val_false_positives: 0.0000e+00 - val_false_negatives: 2.0000 - val_precision: 1.0000 - val_recall: 0.8182\n",
      "Epoch 87/300\n",
      "4/4 [==============================] - 0s 38ms/step - loss: 0.0011 - accuracy: 1.0000 - true_positives: 23.0000 - true_negatives: 79.0000 - false_positives: 0.0000e+00 - false_negatives: 0.0000e+00 - precision: 1.0000 - recall: 1.0000 - val_loss: 0.2062 - val_accuracy: 0.9429 - val_true_positives: 9.0000 - val_true_negatives: 24.0000 - val_false_positives: 0.0000e+00 - val_false_negatives: 2.0000 - val_precision: 1.0000 - val_recall: 0.8182\n",
      "Epoch 88/300\n",
      "4/4 [==============================] - 0s 16ms/step - loss: 0.0011 - accuracy: 1.0000 - true_positives: 23.0000 - true_negatives: 79.0000 - false_positives: 0.0000e+00 - false_negatives: 0.0000e+00 - precision: 1.0000 - recall: 1.0000 - val_loss: 0.2006 - val_accuracy: 0.9429 - val_true_positives: 9.0000 - val_true_negatives: 24.0000 - val_false_positives: 0.0000e+00 - val_false_negatives: 2.0000 - val_precision: 1.0000 - val_recall: 0.8182\n"
     ]
    },
    {
     "name": "stdout",
     "output_type": "stream",
     "text": [
      "Epoch 89/300\n",
      "4/4 [==============================] - 0s 40ms/step - loss: 0.0010 - accuracy: 1.0000 - true_positives: 23.0000 - true_negatives: 79.0000 - false_positives: 0.0000e+00 - false_negatives: 0.0000e+00 - precision: 1.0000 - recall: 1.0000 - val_loss: 0.1788 - val_accuracy: 0.9143 - val_true_positives: 9.0000 - val_true_negatives: 23.0000 - val_false_positives: 1.0000 - val_false_negatives: 2.0000 - val_precision: 0.9000 - val_recall: 0.8182\n",
      "Epoch 90/300\n",
      "4/4 [==============================] - 0s 15ms/step - loss: 0.0011 - accuracy: 1.0000 - true_positives: 23.0000 - true_negatives: 79.0000 - false_positives: 0.0000e+00 - false_negatives: 0.0000e+00 - precision: 1.0000 - recall: 1.0000 - val_loss: 0.1759 - val_accuracy: 0.9143 - val_true_positives: 9.0000 - val_true_negatives: 23.0000 - val_false_positives: 1.0000 - val_false_negatives: 2.0000 - val_precision: 0.9000 - val_recall: 0.8182\n",
      "Epoch 91/300\n",
      "4/4 [==============================] - 0s 37ms/step - loss: 0.0011 - accuracy: 1.0000 - true_positives: 23.0000 - true_negatives: 79.0000 - false_positives: 0.0000e+00 - false_negatives: 0.0000e+00 - precision: 1.0000 - recall: 1.0000 - val_loss: 0.1853 - val_accuracy: 0.9429 - val_true_positives: 9.0000 - val_true_negatives: 24.0000 - val_false_positives: 0.0000e+00 - val_false_negatives: 2.0000 - val_precision: 1.0000 - val_recall: 0.8182\n",
      "Epoch 92/300\n",
      "4/4 [==============================] - 0s 17ms/step - loss: 0.0012 - accuracy: 1.0000 - true_positives: 23.0000 - true_negatives: 79.0000 - false_positives: 0.0000e+00 - false_negatives: 0.0000e+00 - precision: 1.0000 - recall: 1.0000 - val_loss: 0.1893 - val_accuracy: 0.9429 - val_true_positives: 9.0000 - val_true_negatives: 24.0000 - val_false_positives: 0.0000e+00 - val_false_negatives: 2.0000 - val_precision: 1.0000 - val_recall: 0.8182\n",
      "Epoch 93/300\n",
      "4/4 [==============================] - 0s 43ms/step - loss: 9.1781e-04 - accuracy: 1.0000 - true_positives: 23.0000 - true_negatives: 79.0000 - false_positives: 0.0000e+00 - false_negatives: 0.0000e+00 - precision: 1.0000 - recall: 1.0000 - val_loss: 0.1979 - val_accuracy: 0.9429 - val_true_positives: 9.0000 - val_true_negatives: 24.0000 - val_false_positives: 0.0000e+00 - val_false_negatives: 2.0000 - val_precision: 1.0000 - val_recall: 0.8182\n",
      "Epoch 94/300\n",
      "4/4 [==============================] - 0s 17ms/step - loss: 0.0010 - accuracy: 1.0000 - true_positives: 23.0000 - true_negatives: 79.0000 - false_positives: 0.0000e+00 - false_negatives: 0.0000e+00 - precision: 1.0000 - recall: 1.0000 - val_loss: 0.1932 - val_accuracy: 0.9429 - val_true_positives: 9.0000 - val_true_negatives: 24.0000 - val_false_positives: 0.0000e+00 - val_false_negatives: 2.0000 - val_precision: 1.0000 - val_recall: 0.8182\n",
      "Epoch 95/300\n",
      "4/4 [==============================] - 0s 39ms/step - loss: 8.1935e-04 - accuracy: 1.0000 - true_positives: 23.0000 - true_negatives: 79.0000 - false_positives: 0.0000e+00 - false_negatives: 0.0000e+00 - precision: 1.0000 - recall: 1.0000 - val_loss: 0.1913 - val_accuracy: 0.9429 - val_true_positives: 9.0000 - val_true_negatives: 24.0000 - val_false_positives: 0.0000e+00 - val_false_negatives: 2.0000 - val_precision: 1.0000 - val_recall: 0.8182\n",
      "Epoch 96/300\n",
      "4/4 [==============================] - 0s 16ms/step - loss: 9.7340e-04 - accuracy: 1.0000 - true_positives: 23.0000 - true_negatives: 79.0000 - false_positives: 0.0000e+00 - false_negatives: 0.0000e+00 - precision: 1.0000 - recall: 1.0000 - val_loss: 0.1947 - val_accuracy: 0.9429 - val_true_positives: 9.0000 - val_true_negatives: 24.0000 - val_false_positives: 0.0000e+00 - val_false_negatives: 2.0000 - val_precision: 1.0000 - val_recall: 0.8182\n",
      "Epoch 97/300\n",
      "4/4 [==============================] - 0s 41ms/step - loss: 8.4383e-04 - accuracy: 1.0000 - true_positives: 23.0000 - true_negatives: 79.0000 - false_positives: 0.0000e+00 - false_negatives: 0.0000e+00 - precision: 1.0000 - recall: 1.0000 - val_loss: 0.2115 - val_accuracy: 0.9429 - val_true_positives: 9.0000 - val_true_negatives: 24.0000 - val_false_positives: 0.0000e+00 - val_false_negatives: 2.0000 - val_precision: 1.0000 - val_recall: 0.8182\n",
      "Epoch 98/300\n",
      "4/4 [==============================] - 0s 16ms/step - loss: 9.5005e-04 - accuracy: 1.0000 - true_positives: 23.0000 - true_negatives: 79.0000 - false_positives: 0.0000e+00 - false_negatives: 0.0000e+00 - precision: 1.0000 - recall: 1.0000 - val_loss: 0.2112 - val_accuracy: 0.9429 - val_true_positives: 9.0000 - val_true_negatives: 24.0000 - val_false_positives: 0.0000e+00 - val_false_negatives: 2.0000 - val_precision: 1.0000 - val_recall: 0.8182\n",
      "Epoch 99/300\n",
      "4/4 [==============================] - 0s 40ms/step - loss: 9.8315e-04 - accuracy: 1.0000 - true_positives: 23.0000 - true_negatives: 79.0000 - false_positives: 0.0000e+00 - false_negatives: 0.0000e+00 - precision: 1.0000 - recall: 1.0000 - val_loss: 0.1903 - val_accuracy: 0.9429 - val_true_positives: 9.0000 - val_true_negatives: 24.0000 - val_false_positives: 0.0000e+00 - val_false_negatives: 2.0000 - val_precision: 1.0000 - val_recall: 0.8182\n",
      "Epoch 100/300\n",
      "4/4 [==============================] - 0s 16ms/step - loss: 9.9833e-04 - accuracy: 1.0000 - true_positives: 23.0000 - true_negatives: 79.0000 - false_positives: 0.0000e+00 - false_negatives: 0.0000e+00 - precision: 1.0000 - recall: 1.0000 - val_loss: 0.1593 - val_accuracy: 0.9143 - val_true_positives: 9.0000 - val_true_negatives: 23.0000 - val_false_positives: 1.0000 - val_false_negatives: 2.0000 - val_precision: 0.9000 - val_recall: 0.8182\n",
      "Epoch 101/300\n",
      "4/4 [==============================] - 0s 41ms/step - loss: 0.0012 - accuracy: 1.0000 - true_positives: 23.0000 - true_negatives: 79.0000 - false_positives: 0.0000e+00 - false_negatives: 0.0000e+00 - precision: 1.0000 - recall: 1.0000 - val_loss: 0.1595 - val_accuracy: 0.9143 - val_true_positives: 9.0000 - val_true_negatives: 23.0000 - val_false_positives: 1.0000 - val_false_negatives: 2.0000 - val_precision: 0.9000 - val_recall: 0.8182\n",
      "Epoch 102/300\n",
      "4/4 [==============================] - 0s 21ms/step - loss: 0.0010 - accuracy: 1.0000 - true_positives: 23.0000 - true_negatives: 79.0000 - false_positives: 0.0000e+00 - false_negatives: 0.0000e+00 - precision: 1.0000 - recall: 1.0000 - val_loss: 0.1884 - val_accuracy: 0.9429 - val_true_positives: 9.0000 - val_true_negatives: 24.0000 - val_false_positives: 0.0000e+00 - val_false_negatives: 2.0000 - val_precision: 1.0000 - val_recall: 0.8182\n",
      "Epoch 103/300\n",
      "4/4 [==============================] - 0s 41ms/step - loss: 6.2318e-04 - accuracy: 1.0000 - true_positives: 23.0000 - true_negatives: 79.0000 - false_positives: 0.0000e+00 - false_negatives: 0.0000e+00 - precision: 1.0000 - recall: 1.0000 - val_loss: 0.2238 - val_accuracy: 0.9143 - val_true_positives: 8.0000 - val_true_negatives: 24.0000 - val_false_positives: 0.0000e+00 - val_false_negatives: 3.0000 - val_precision: 1.0000 - val_recall: 0.7273\n",
      "Epoch 104/300\n",
      "4/4 [==============================] - 0s 16ms/step - loss: 6.0819e-04 - accuracy: 1.0000 - true_positives: 23.0000 - true_negatives: 79.0000 - false_positives: 0.0000e+00 - false_negatives: 0.0000e+00 - precision: 1.0000 - recall: 1.0000 - val_loss: 0.2396 - val_accuracy: 0.9143 - val_true_positives: 8.0000 - val_true_negatives: 24.0000 - val_false_positives: 0.0000e+00 - val_false_negatives: 3.0000 - val_precision: 1.0000 - val_recall: 0.7273\n",
      "Epoch 105/300\n",
      "4/4 [==============================] - 0s 38ms/step - loss: 0.0010 - accuracy: 1.0000 - true_positives: 23.0000 - true_negatives: 79.0000 - false_positives: 0.0000e+00 - false_negatives: 0.0000e+00 - precision: 1.0000 - recall: 1.0000 - val_loss: 0.2165 - val_accuracy: 0.9429 - val_true_positives: 9.0000 - val_true_negatives: 24.0000 - val_false_positives: 0.0000e+00 - val_false_negatives: 2.0000 - val_precision: 1.0000 - val_recall: 0.8182\n",
      "Epoch 106/300\n",
      "4/4 [==============================] - 0s 16ms/step - loss: 5.7521e-04 - accuracy: 1.0000 - true_positives: 23.0000 - true_negatives: 79.0000 - false_positives: 0.0000e+00 - false_negatives: 0.0000e+00 - precision: 1.0000 - recall: 1.0000 - val_loss: 0.1809 - val_accuracy: 0.9429 - val_true_positives: 9.0000 - val_true_negatives: 24.0000 - val_false_positives: 0.0000e+00 - val_false_negatives: 2.0000 - val_precision: 1.0000 - val_recall: 0.8182\n"
     ]
    },
    {
     "name": "stdout",
     "output_type": "stream",
     "text": [
      "Epoch 107/300\n",
      "4/4 [==============================] - 0s 39ms/step - loss: 4.9437e-04 - accuracy: 1.0000 - true_positives: 23.0000 - true_negatives: 79.0000 - false_positives: 0.0000e+00 - false_negatives: 0.0000e+00 - precision: 1.0000 - recall: 1.0000 - val_loss: 0.1595 - val_accuracy: 0.9143 - val_true_positives: 9.0000 - val_true_negatives: 23.0000 - val_false_positives: 1.0000 - val_false_negatives: 2.0000 - val_precision: 0.9000 - val_recall: 0.8182\n",
      "Epoch 108/300\n",
      "4/4 [==============================] - 0s 16ms/step - loss: 7.4244e-04 - accuracy: 1.0000 - true_positives: 23.0000 - true_negatives: 79.0000 - false_positives: 0.0000e+00 - false_negatives: 0.0000e+00 - precision: 1.0000 - recall: 1.0000 - val_loss: 0.1592 - val_accuracy: 0.9143 - val_true_positives: 9.0000 - val_true_negatives: 23.0000 - val_false_positives: 1.0000 - val_false_negatives: 2.0000 - val_precision: 0.9000 - val_recall: 0.8182\n",
      "Epoch 109/300\n",
      "4/4 [==============================] - 0s 38ms/step - loss: 6.9550e-04 - accuracy: 1.0000 - true_positives: 23.0000 - true_negatives: 79.0000 - false_positives: 0.0000e+00 - false_negatives: 0.0000e+00 - precision: 1.0000 - recall: 1.0000 - val_loss: 0.1758 - val_accuracy: 0.9429 - val_true_positives: 9.0000 - val_true_negatives: 24.0000 - val_false_positives: 0.0000e+00 - val_false_negatives: 2.0000 - val_precision: 1.0000 - val_recall: 0.8182\n",
      "Epoch 110/300\n",
      "4/4 [==============================] - 0s 17ms/step - loss: 7.4086e-04 - accuracy: 1.0000 - true_positives: 23.0000 - true_negatives: 79.0000 - false_positives: 0.0000e+00 - false_negatives: 0.0000e+00 - precision: 1.0000 - recall: 1.0000 - val_loss: 0.1981 - val_accuracy: 0.9429 - val_true_positives: 9.0000 - val_true_negatives: 24.0000 - val_false_positives: 0.0000e+00 - val_false_negatives: 2.0000 - val_precision: 1.0000 - val_recall: 0.8182\n",
      "Epoch 111/300\n",
      "4/4 [==============================] - 0s 39ms/step - loss: 6.5303e-04 - accuracy: 1.0000 - true_positives: 23.0000 - true_negatives: 79.0000 - false_positives: 0.0000e+00 - false_negatives: 0.0000e+00 - precision: 1.0000 - recall: 1.0000 - val_loss: 0.2118 - val_accuracy: 0.9429 - val_true_positives: 9.0000 - val_true_negatives: 24.0000 - val_false_positives: 0.0000e+00 - val_false_negatives: 2.0000 - val_precision: 1.0000 - val_recall: 0.8182\n",
      "Epoch 112/300\n",
      "4/4 [==============================] - 0s 20ms/step - loss: 7.3307e-04 - accuracy: 1.0000 - true_positives: 23.0000 - true_negatives: 79.0000 - false_positives: 0.0000e+00 - false_negatives: 0.0000e+00 - precision: 1.0000 - recall: 1.0000 - val_loss: 0.1984 - val_accuracy: 0.9429 - val_true_positives: 9.0000 - val_true_negatives: 24.0000 - val_false_positives: 0.0000e+00 - val_false_negatives: 2.0000 - val_precision: 1.0000 - val_recall: 0.8182\n",
      "Epoch 113/300\n",
      "4/4 [==============================] - 0s 40ms/step - loss: 6.3215e-04 - accuracy: 1.0000 - true_positives: 23.0000 - true_negatives: 79.0000 - false_positives: 0.0000e+00 - false_negatives: 0.0000e+00 - precision: 1.0000 - recall: 1.0000 - val_loss: 0.1770 - val_accuracy: 0.9429 - val_true_positives: 9.0000 - val_true_negatives: 24.0000 - val_false_positives: 0.0000e+00 - val_false_negatives: 2.0000 - val_precision: 1.0000 - val_recall: 0.8182\n",
      "Epoch 114/300\n",
      "4/4 [==============================] - 0s 16ms/step - loss: 4.8995e-04 - accuracy: 1.0000 - true_positives: 23.0000 - true_negatives: 79.0000 - false_positives: 0.0000e+00 - false_negatives: 0.0000e+00 - precision: 1.0000 - recall: 1.0000 - val_loss: 0.1588 - val_accuracy: 0.9143 - val_true_positives: 9.0000 - val_true_negatives: 23.0000 - val_false_positives: 1.0000 - val_false_negatives: 2.0000 - val_precision: 0.9000 - val_recall: 0.8182\n",
      "Epoch 115/300\n",
      "4/4 [==============================] - 0s 42ms/step - loss: 7.4258e-04 - accuracy: 1.0000 - true_positives: 23.0000 - true_negatives: 79.0000 - false_positives: 0.0000e+00 - false_negatives: 0.0000e+00 - precision: 1.0000 - recall: 1.0000 - val_loss: 0.1627 - val_accuracy: 0.9143 - val_true_positives: 9.0000 - val_true_negatives: 23.0000 - val_false_positives: 1.0000 - val_false_negatives: 2.0000 - val_precision: 0.9000 - val_recall: 0.8182\n",
      "Epoch 116/300\n",
      "4/4 [==============================] - 0s 16ms/step - loss: 6.1360e-04 - accuracy: 1.0000 - true_positives: 23.0000 - true_negatives: 79.0000 - false_positives: 0.0000e+00 - false_negatives: 0.0000e+00 - precision: 1.0000 - recall: 1.0000 - val_loss: 0.1788 - val_accuracy: 0.9429 - val_true_positives: 9.0000 - val_true_negatives: 24.0000 - val_false_positives: 0.0000e+00 - val_false_negatives: 2.0000 - val_precision: 1.0000 - val_recall: 0.8182\n",
      "Epoch 117/300\n",
      "4/4 [==============================] - 0s 37ms/step - loss: 4.2802e-04 - accuracy: 1.0000 - true_positives: 23.0000 - true_negatives: 79.0000 - false_positives: 0.0000e+00 - false_negatives: 0.0000e+00 - precision: 1.0000 - recall: 1.0000 - val_loss: 0.1951 - val_accuracy: 0.9429 - val_true_positives: 9.0000 - val_true_negatives: 24.0000 - val_false_positives: 0.0000e+00 - val_false_negatives: 2.0000 - val_precision: 1.0000 - val_recall: 0.8182\n",
      "Epoch 118/300\n",
      "4/4 [==============================] - 0s 15ms/step - loss: 5.3452e-04 - accuracy: 1.0000 - true_positives: 23.0000 - true_negatives: 79.0000 - false_positives: 0.0000e+00 - false_negatives: 0.0000e+00 - precision: 1.0000 - recall: 1.0000 - val_loss: 0.2069 - val_accuracy: 0.9429 - val_true_positives: 9.0000 - val_true_negatives: 24.0000 - val_false_positives: 0.0000e+00 - val_false_negatives: 2.0000 - val_precision: 1.0000 - val_recall: 0.8182\n",
      "Epoch 119/300\n",
      "4/4 [==============================] - 0s 41ms/step - loss: 5.4295e-04 - accuracy: 1.0000 - true_positives: 23.0000 - true_negatives: 79.0000 - false_positives: 0.0000e+00 - false_negatives: 0.0000e+00 - precision: 1.0000 - recall: 1.0000 - val_loss: 0.1974 - val_accuracy: 0.9429 - val_true_positives: 9.0000 - val_true_negatives: 24.0000 - val_false_positives: 0.0000e+00 - val_false_negatives: 2.0000 - val_precision: 1.0000 - val_recall: 0.8182\n",
      "Epoch 120/300\n",
      "4/4 [==============================] - 0s 18ms/step - loss: 3.2750e-04 - accuracy: 1.0000 - true_positives: 23.0000 - true_negatives: 79.0000 - false_positives: 0.0000e+00 - false_negatives: 0.0000e+00 - precision: 1.0000 - recall: 1.0000 - val_loss: 0.1815 - val_accuracy: 0.9429 - val_true_positives: 9.0000 - val_true_negatives: 24.0000 - val_false_positives: 0.0000e+00 - val_false_negatives: 2.0000 - val_precision: 1.0000 - val_recall: 0.8182\n",
      "Epoch 121/300\n",
      "4/4 [==============================] - 0s 41ms/step - loss: 5.8510e-04 - accuracy: 1.0000 - true_positives: 23.0000 - true_negatives: 79.0000 - false_positives: 0.0000e+00 - false_negatives: 0.0000e+00 - precision: 1.0000 - recall: 1.0000 - val_loss: 0.1766 - val_accuracy: 0.9429 - val_true_positives: 9.0000 - val_true_negatives: 24.0000 - val_false_positives: 0.0000e+00 - val_false_negatives: 2.0000 - val_precision: 1.0000 - val_recall: 0.8182\n",
      "Epoch 122/300\n",
      "4/4 [==============================] - 0s 18ms/step - loss: 4.7483e-04 - accuracy: 1.0000 - true_positives: 23.0000 - true_negatives: 79.0000 - false_positives: 0.0000e+00 - false_negatives: 0.0000e+00 - precision: 1.0000 - recall: 1.0000 - val_loss: 0.1764 - val_accuracy: 0.9429 - val_true_positives: 9.0000 - val_true_negatives: 24.0000 - val_false_positives: 0.0000e+00 - val_false_negatives: 2.0000 - val_precision: 1.0000 - val_recall: 0.8182\n",
      "Epoch 123/300\n",
      "4/4 [==============================] - 0s 39ms/step - loss: 4.5372e-04 - accuracy: 1.0000 - true_positives: 23.0000 - true_negatives: 79.0000 - false_positives: 0.0000e+00 - false_negatives: 0.0000e+00 - precision: 1.0000 - recall: 1.0000 - val_loss: 0.1832 - val_accuracy: 0.9429 - val_true_positives: 9.0000 - val_true_negatives: 24.0000 - val_false_positives: 0.0000e+00 - val_false_negatives: 2.0000 - val_precision: 1.0000 - val_recall: 0.8182\n",
      "Epoch 124/300\n",
      "4/4 [==============================] - 0s 17ms/step - loss: 4.2610e-04 - accuracy: 1.0000 - true_positives: 23.0000 - true_negatives: 79.0000 - false_positives: 0.0000e+00 - false_negatives: 0.0000e+00 - precision: 1.0000 - recall: 1.0000 - val_loss: 0.2019 - val_accuracy: 0.9429 - val_true_positives: 9.0000 - val_true_negatives: 24.0000 - val_false_positives: 0.0000e+00 - val_false_negatives: 2.0000 - val_precision: 1.0000 - val_recall: 0.8182\n"
     ]
    },
    {
     "name": "stdout",
     "output_type": "stream",
     "text": [
      "Epoch 125/300\n",
      "4/4 [==============================] - 0s 39ms/step - loss: 6.2460e-04 - accuracy: 1.0000 - true_positives: 23.0000 - true_negatives: 79.0000 - false_positives: 0.0000e+00 - false_negatives: 0.0000e+00 - precision: 1.0000 - recall: 1.0000 - val_loss: 0.2052 - val_accuracy: 0.9429 - val_true_positives: 9.0000 - val_true_negatives: 24.0000 - val_false_positives: 0.0000e+00 - val_false_negatives: 2.0000 - val_precision: 1.0000 - val_recall: 0.8182\n",
      "Epoch 126/300\n",
      "4/4 [==============================] - 0s 16ms/step - loss: 7.7824e-04 - accuracy: 1.0000 - true_positives: 23.0000 - true_negatives: 79.0000 - false_positives: 0.0000e+00 - false_negatives: 0.0000e+00 - precision: 1.0000 - recall: 1.0000 - val_loss: 0.1830 - val_accuracy: 0.9429 - val_true_positives: 9.0000 - val_true_negatives: 24.0000 - val_false_positives: 0.0000e+00 - val_false_negatives: 2.0000 - val_precision: 1.0000 - val_recall: 0.8182\n",
      "Epoch 127/300\n",
      "4/4 [==============================] - 0s 42ms/step - loss: 4.4198e-04 - accuracy: 1.0000 - true_positives: 23.0000 - true_negatives: 79.0000 - false_positives: 0.0000e+00 - false_negatives: 0.0000e+00 - precision: 1.0000 - recall: 1.0000 - val_loss: 0.1617 - val_accuracy: 0.9429 - val_true_positives: 9.0000 - val_true_negatives: 24.0000 - val_false_positives: 0.0000e+00 - val_false_negatives: 2.0000 - val_precision: 1.0000 - val_recall: 0.8182\n",
      "Epoch 128/300\n",
      "4/4 [==============================] - 0s 16ms/step - loss: 5.9480e-04 - accuracy: 1.0000 - true_positives: 23.0000 - true_negatives: 79.0000 - false_positives: 0.0000e+00 - false_negatives: 0.0000e+00 - precision: 1.0000 - recall: 1.0000 - val_loss: 0.1624 - val_accuracy: 0.9429 - val_true_positives: 9.0000 - val_true_negatives: 24.0000 - val_false_positives: 0.0000e+00 - val_false_negatives: 2.0000 - val_precision: 1.0000 - val_recall: 0.8182\n",
      "Epoch 129/300\n",
      "4/4 [==============================] - 0s 52ms/step - loss: 4.2342e-04 - accuracy: 1.0000 - true_positives: 23.0000 - true_negatives: 79.0000 - false_positives: 0.0000e+00 - false_negatives: 0.0000e+00 - precision: 1.0000 - recall: 1.0000 - val_loss: 0.1720 - val_accuracy: 0.9429 - val_true_positives: 9.0000 - val_true_negatives: 24.0000 - val_false_positives: 0.0000e+00 - val_false_negatives: 2.0000 - val_precision: 1.0000 - val_recall: 0.8182\n",
      "Epoch 130/300\n",
      "4/4 [==============================] - 0s 14ms/step - loss: 4.2322e-04 - accuracy: 1.0000 - true_positives: 23.0000 - true_negatives: 79.0000 - false_positives: 0.0000e+00 - false_negatives: 0.0000e+00 - precision: 1.0000 - recall: 1.0000 - val_loss: 0.1932 - val_accuracy: 0.9429 - val_true_positives: 9.0000 - val_true_negatives: 24.0000 - val_false_positives: 0.0000e+00 - val_false_negatives: 2.0000 - val_precision: 1.0000 - val_recall: 0.8182\n",
      "Epoch 131/300\n",
      "4/4 [==============================] - 0s 42ms/step - loss: 3.9343e-04 - accuracy: 1.0000 - true_positives: 23.0000 - true_negatives: 79.0000 - false_positives: 0.0000e+00 - false_negatives: 0.0000e+00 - precision: 1.0000 - recall: 1.0000 - val_loss: 0.2062 - val_accuracy: 0.9429 - val_true_positives: 9.0000 - val_true_negatives: 24.0000 - val_false_positives: 0.0000e+00 - val_false_negatives: 2.0000 - val_precision: 1.0000 - val_recall: 0.8182\n",
      "Epoch 132/300\n",
      "4/4 [==============================] - 0s 18ms/step - loss: 3.6218e-04 - accuracy: 1.0000 - true_positives: 23.0000 - true_negatives: 79.0000 - false_positives: 0.0000e+00 - false_negatives: 0.0000e+00 - precision: 1.0000 - recall: 1.0000 - val_loss: 0.1956 - val_accuracy: 0.9429 - val_true_positives: 9.0000 - val_true_negatives: 24.0000 - val_false_positives: 0.0000e+00 - val_false_negatives: 2.0000 - val_precision: 1.0000 - val_recall: 0.8182\n",
      "Epoch 133/300\n",
      "4/4 [==============================] - 0s 38ms/step - loss: 4.1527e-04 - accuracy: 1.0000 - true_positives: 23.0000 - true_negatives: 79.0000 - false_positives: 0.0000e+00 - false_negatives: 0.0000e+00 - precision: 1.0000 - recall: 1.0000 - val_loss: 0.1791 - val_accuracy: 0.9429 - val_true_positives: 9.0000 - val_true_negatives: 24.0000 - val_false_positives: 0.0000e+00 - val_false_negatives: 2.0000 - val_precision: 1.0000 - val_recall: 0.8182\n",
      "Epoch 134/300\n",
      "4/4 [==============================] - 0s 15ms/step - loss: 4.0863e-04 - accuracy: 1.0000 - true_positives: 23.0000 - true_negatives: 79.0000 - false_positives: 0.0000e+00 - false_negatives: 0.0000e+00 - precision: 1.0000 - recall: 1.0000 - val_loss: 0.1756 - val_accuracy: 0.9429 - val_true_positives: 9.0000 - val_true_negatives: 24.0000 - val_false_positives: 0.0000e+00 - val_false_negatives: 2.0000 - val_precision: 1.0000 - val_recall: 0.8182\n",
      "Epoch 135/300\n",
      "4/4 [==============================] - 0s 39ms/step - loss: 3.0969e-04 - accuracy: 1.0000 - true_positives: 23.0000 - true_negatives: 79.0000 - false_positives: 0.0000e+00 - false_negatives: 0.0000e+00 - precision: 1.0000 - recall: 1.0000 - val_loss: 0.1807 - val_accuracy: 0.9429 - val_true_positives: 9.0000 - val_true_negatives: 24.0000 - val_false_positives: 0.0000e+00 - val_false_negatives: 2.0000 - val_precision: 1.0000 - val_recall: 0.8182\n",
      "Epoch 136/300\n",
      "4/4 [==============================] - 0s 16ms/step - loss: 5.3272e-04 - accuracy: 1.0000 - true_positives: 23.0000 - true_negatives: 79.0000 - false_positives: 0.0000e+00 - false_negatives: 0.0000e+00 - precision: 1.0000 - recall: 1.0000 - val_loss: 0.1792 - val_accuracy: 0.9429 - val_true_positives: 9.0000 - val_true_negatives: 24.0000 - val_false_positives: 0.0000e+00 - val_false_negatives: 2.0000 - val_precision: 1.0000 - val_recall: 0.8182\n",
      "Epoch 137/300\n",
      "4/4 [==============================] - 0s 40ms/step - loss: 4.6018e-04 - accuracy: 1.0000 - true_positives: 23.0000 - true_negatives: 79.0000 - false_positives: 0.0000e+00 - false_negatives: 0.0000e+00 - precision: 1.0000 - recall: 1.0000 - val_loss: 0.1626 - val_accuracy: 0.9429 - val_true_positives: 9.0000 - val_true_negatives: 24.0000 - val_false_positives: 0.0000e+00 - val_false_negatives: 2.0000 - val_precision: 1.0000 - val_recall: 0.8182\n",
      "Epoch 138/300\n",
      "4/4 [==============================] - 0s 17ms/step - loss: 4.4419e-04 - accuracy: 1.0000 - true_positives: 23.0000 - true_negatives: 79.0000 - false_positives: 0.0000e+00 - false_negatives: 0.0000e+00 - precision: 1.0000 - recall: 1.0000 - val_loss: 0.1621 - val_accuracy: 0.9429 - val_true_positives: 9.0000 - val_true_negatives: 24.0000 - val_false_positives: 0.0000e+00 - val_false_negatives: 2.0000 - val_precision: 1.0000 - val_recall: 0.8182\n",
      "Epoch 139/300\n",
      "4/4 [==============================] - 0s 40ms/step - loss: 5.8012e-04 - accuracy: 1.0000 - true_positives: 23.0000 - true_negatives: 79.0000 - false_positives: 0.0000e+00 - false_negatives: 0.0000e+00 - precision: 1.0000 - recall: 1.0000 - val_loss: 0.1750 - val_accuracy: 0.9429 - val_true_positives: 9.0000 - val_true_negatives: 24.0000 - val_false_positives: 0.0000e+00 - val_false_negatives: 2.0000 - val_precision: 1.0000 - val_recall: 0.8182\n",
      "Epoch 140/300\n",
      "4/4 [==============================] - 0s 17ms/step - loss: 3.0639e-04 - accuracy: 1.0000 - true_positives: 23.0000 - true_negatives: 79.0000 - false_positives: 0.0000e+00 - false_negatives: 0.0000e+00 - precision: 1.0000 - recall: 1.0000 - val_loss: 0.1902 - val_accuracy: 0.9429 - val_true_positives: 9.0000 - val_true_negatives: 24.0000 - val_false_positives: 0.0000e+00 - val_false_negatives: 2.0000 - val_precision: 1.0000 - val_recall: 0.8182\n",
      "Epoch 141/300\n",
      "4/4 [==============================] - 0s 46ms/step - loss: 3.0109e-04 - accuracy: 1.0000 - true_positives: 23.0000 - true_negatives: 79.0000 - false_positives: 0.0000e+00 - false_negatives: 0.0000e+00 - precision: 1.0000 - recall: 1.0000 - val_loss: 0.1972 - val_accuracy: 0.9429 - val_true_positives: 9.0000 - val_true_negatives: 24.0000 - val_false_positives: 0.0000e+00 - val_false_negatives: 2.0000 - val_precision: 1.0000 - val_recall: 0.8182\n",
      "Epoch 142/300\n",
      "4/4 [==============================] - 0s 21ms/step - loss: 4.5073e-04 - accuracy: 1.0000 - true_positives: 23.0000 - true_negatives: 79.0000 - false_positives: 0.0000e+00 - false_negatives: 0.0000e+00 - precision: 1.0000 - recall: 1.0000 - val_loss: 0.2065 - val_accuracy: 0.9429 - val_true_positives: 9.0000 - val_true_negatives: 24.0000 - val_false_positives: 0.0000e+00 - val_false_negatives: 2.0000 - val_precision: 1.0000 - val_recall: 0.8182\n"
     ]
    },
    {
     "name": "stdout",
     "output_type": "stream",
     "text": [
      "Epoch 143/300\n",
      "4/4 [==============================] - 0s 47ms/step - loss: 3.4825e-04 - accuracy: 1.0000 - true_positives: 23.0000 - true_negatives: 79.0000 - false_positives: 0.0000e+00 - false_negatives: 0.0000e+00 - precision: 1.0000 - recall: 1.0000 - val_loss: 0.2048 - val_accuracy: 0.9429 - val_true_positives: 9.0000 - val_true_negatives: 24.0000 - val_false_positives: 0.0000e+00 - val_false_negatives: 2.0000 - val_precision: 1.0000 - val_recall: 0.8182\n",
      "Epoch 144/300\n",
      "4/4 [==============================] - 0s 21ms/step - loss: 4.2429e-04 - accuracy: 1.0000 - true_positives: 23.0000 - true_negatives: 79.0000 - false_positives: 0.0000e+00 - false_negatives: 0.0000e+00 - precision: 1.0000 - recall: 1.0000 - val_loss: 0.1852 - val_accuracy: 0.9429 - val_true_positives: 9.0000 - val_true_negatives: 24.0000 - val_false_positives: 0.0000e+00 - val_false_negatives: 2.0000 - val_precision: 1.0000 - val_recall: 0.8182\n",
      "Epoch 145/300\n",
      "4/4 [==============================] - 0s 45ms/step - loss: 3.2594e-04 - accuracy: 1.0000 - true_positives: 23.0000 - true_negatives: 79.0000 - false_positives: 0.0000e+00 - false_negatives: 0.0000e+00 - precision: 1.0000 - recall: 1.0000 - val_loss: 0.1767 - val_accuracy: 0.9429 - val_true_positives: 9.0000 - val_true_negatives: 24.0000 - val_false_positives: 0.0000e+00 - val_false_negatives: 2.0000 - val_precision: 1.0000 - val_recall: 0.8182\n",
      "Epoch 146/300\n",
      "4/4 [==============================] - 0s 17ms/step - loss: 4.3952e-04 - accuracy: 1.0000 - true_positives: 23.0000 - true_negatives: 79.0000 - false_positives: 0.0000e+00 - false_negatives: 0.0000e+00 - precision: 1.0000 - recall: 1.0000 - val_loss: 0.1631 - val_accuracy: 0.9429 - val_true_positives: 9.0000 - val_true_negatives: 24.0000 - val_false_positives: 0.0000e+00 - val_false_negatives: 2.0000 - val_precision: 1.0000 - val_recall: 0.8182\n",
      "Epoch 147/300\n",
      "4/4 [==============================] - 0s 43ms/step - loss: 4.4277e-04 - accuracy: 1.0000 - true_positives: 23.0000 - true_negatives: 79.0000 - false_positives: 0.0000e+00 - false_negatives: 0.0000e+00 - precision: 1.0000 - recall: 1.0000 - val_loss: 0.1504 - val_accuracy: 0.9143 - val_true_positives: 9.0000 - val_true_negatives: 23.0000 - val_false_positives: 1.0000 - val_false_negatives: 2.0000 - val_precision: 0.9000 - val_recall: 0.8182\n",
      "Epoch 148/300\n",
      "4/4 [==============================] - 0s 19ms/step - loss: 6.5989e-04 - accuracy: 1.0000 - true_positives: 23.0000 - true_negatives: 79.0000 - false_positives: 0.0000e+00 - false_negatives: 0.0000e+00 - precision: 1.0000 - recall: 1.0000 - val_loss: 0.1663 - val_accuracy: 0.9429 - val_true_positives: 9.0000 - val_true_negatives: 24.0000 - val_false_positives: 0.0000e+00 - val_false_negatives: 2.0000 - val_precision: 1.0000 - val_recall: 0.8182\n",
      "Epoch 149/300\n",
      "4/4 [==============================] - 0s 43ms/step - loss: 3.6366e-04 - accuracy: 1.0000 - true_positives: 23.0000 - true_negatives: 79.0000 - false_positives: 0.0000e+00 - false_negatives: 0.0000e+00 - precision: 1.0000 - recall: 1.0000 - val_loss: 0.1932 - val_accuracy: 0.9429 - val_true_positives: 9.0000 - val_true_negatives: 24.0000 - val_false_positives: 0.0000e+00 - val_false_negatives: 2.0000 - val_precision: 1.0000 - val_recall: 0.8182\n",
      "Epoch 150/300\n",
      "4/4 [==============================] - 0s 17ms/step - loss: 3.1450e-04 - accuracy: 1.0000 - true_positives: 23.0000 - true_negatives: 79.0000 - false_positives: 0.0000e+00 - false_negatives: 0.0000e+00 - precision: 1.0000 - recall: 1.0000 - val_loss: 0.2096 - val_accuracy: 0.9429 - val_true_positives: 9.0000 - val_true_negatives: 24.0000 - val_false_positives: 0.0000e+00 - val_false_negatives: 2.0000 - val_precision: 1.0000 - val_recall: 0.8182\n",
      "Epoch 151/300\n",
      "4/4 [==============================] - 0s 51ms/step - loss: 4.7570e-04 - accuracy: 1.0000 - true_positives: 23.0000 - true_negatives: 79.0000 - false_positives: 0.0000e+00 - false_negatives: 0.0000e+00 - precision: 1.0000 - recall: 1.0000 - val_loss: 0.2027 - val_accuracy: 0.9429 - val_true_positives: 9.0000 - val_true_negatives: 24.0000 - val_false_positives: 0.0000e+00 - val_false_negatives: 2.0000 - val_precision: 1.0000 - val_recall: 0.8182\n",
      "Epoch 152/300\n",
      "4/4 [==============================] - 0s 21ms/step - loss: 4.4609e-04 - accuracy: 1.0000 - true_positives: 23.0000 - true_negatives: 79.0000 - false_positives: 0.0000e+00 - false_negatives: 0.0000e+00 - precision: 1.0000 - recall: 1.0000 - val_loss: 0.1833 - val_accuracy: 0.9429 - val_true_positives: 9.0000 - val_true_negatives: 24.0000 - val_false_positives: 0.0000e+00 - val_false_negatives: 2.0000 - val_precision: 1.0000 - val_recall: 0.8182\n",
      "Epoch 153/300\n",
      "4/4 [==============================] - 0s 46ms/step - loss: 4.3899e-04 - accuracy: 1.0000 - true_positives: 23.0000 - true_negatives: 79.0000 - false_positives: 0.0000e+00 - false_negatives: 0.0000e+00 - precision: 1.0000 - recall: 1.0000 - val_loss: 0.1901 - val_accuracy: 0.9429 - val_true_positives: 9.0000 - val_true_negatives: 24.0000 - val_false_positives: 0.0000e+00 - val_false_negatives: 2.0000 - val_precision: 1.0000 - val_recall: 0.8182\n",
      "Epoch 154/300\n",
      "4/4 [==============================] - 0s 20ms/step - loss: 5.3086e-04 - accuracy: 1.0000 - true_positives: 23.0000 - true_negatives: 79.0000 - false_positives: 0.0000e+00 - false_negatives: 0.0000e+00 - precision: 1.0000 - recall: 1.0000 - val_loss: 0.2370 - val_accuracy: 0.9143 - val_true_positives: 8.0000 - val_true_negatives: 24.0000 - val_false_positives: 0.0000e+00 - val_false_negatives: 3.0000 - val_precision: 1.0000 - val_recall: 0.7273\n",
      "Epoch 155/300\n",
      "4/4 [==============================] - 0s 45ms/step - loss: 3.7010e-04 - accuracy: 1.0000 - true_positives: 23.0000 - true_negatives: 79.0000 - false_positives: 0.0000e+00 - false_negatives: 0.0000e+00 - precision: 1.0000 - recall: 1.0000 - val_loss: 0.2424 - val_accuracy: 0.9143 - val_true_positives: 8.0000 - val_true_negatives: 24.0000 - val_false_positives: 0.0000e+00 - val_false_negatives: 3.0000 - val_precision: 1.0000 - val_recall: 0.7273\n",
      "Epoch 156/300\n",
      "4/4 [==============================] - 0s 26ms/step - loss: 5.8440e-04 - accuracy: 1.0000 - true_positives: 23.0000 - true_negatives: 79.0000 - false_positives: 0.0000e+00 - false_negatives: 0.0000e+00 - precision: 1.0000 - recall: 1.0000 - val_loss: 0.2116 - val_accuracy: 0.9429 - val_true_positives: 9.0000 - val_true_negatives: 24.0000 - val_false_positives: 0.0000e+00 - val_false_negatives: 2.0000 - val_precision: 1.0000 - val_recall: 0.8182\n",
      "Epoch 157/300\n",
      "4/4 [==============================] - 0s 44ms/step - loss: 2.4405e-04 - accuracy: 1.0000 - true_positives: 23.0000 - true_negatives: 79.0000 - false_positives: 0.0000e+00 - false_negatives: 0.0000e+00 - precision: 1.0000 - recall: 1.0000 - val_loss: 0.1862 - val_accuracy: 0.9429 - val_true_positives: 9.0000 - val_true_negatives: 24.0000 - val_false_positives: 0.0000e+00 - val_false_negatives: 2.0000 - val_precision: 1.0000 - val_recall: 0.8182\n",
      "Epoch 158/300\n",
      "4/4 [==============================] - 0s 22ms/step - loss: 2.7533e-04 - accuracy: 1.0000 - true_positives: 23.0000 - true_negatives: 79.0000 - false_positives: 0.0000e+00 - false_negatives: 0.0000e+00 - precision: 1.0000 - recall: 1.0000 - val_loss: 0.1709 - val_accuracy: 0.9429 - val_true_positives: 9.0000 - val_true_negatives: 24.0000 - val_false_positives: 0.0000e+00 - val_false_negatives: 2.0000 - val_precision: 1.0000 - val_recall: 0.8182\n",
      "Epoch 159/300\n",
      "4/4 [==============================] - 0s 46ms/step - loss: 2.5301e-04 - accuracy: 1.0000 - true_positives: 23.0000 - true_negatives: 79.0000 - false_positives: 0.0000e+00 - false_negatives: 0.0000e+00 - precision: 1.0000 - recall: 1.0000 - val_loss: 0.1672 - val_accuracy: 0.9429 - val_true_positives: 9.0000 - val_true_negatives: 24.0000 - val_false_positives: 0.0000e+00 - val_false_negatives: 2.0000 - val_precision: 1.0000 - val_recall: 0.8182\n",
      "Epoch 160/300\n",
      "4/4 [==============================] - 0s 22ms/step - loss: 3.7948e-04 - accuracy: 1.0000 - true_positives: 23.0000 - true_negatives: 79.0000 - false_positives: 0.0000e+00 - false_negatives: 0.0000e+00 - precision: 1.0000 - recall: 1.0000 - val_loss: 0.1715 - val_accuracy: 0.9429 - val_true_positives: 9.0000 - val_true_negatives: 24.0000 - val_false_positives: 0.0000e+00 - val_false_negatives: 2.0000 - val_precision: 1.0000 - val_recall: 0.8182\n"
     ]
    },
    {
     "name": "stdout",
     "output_type": "stream",
     "text": [
      "Epoch 161/300\n",
      "4/4 [==============================] - 0s 47ms/step - loss: 1.6973e-04 - accuracy: 1.0000 - true_positives: 23.0000 - true_negatives: 79.0000 - false_positives: 0.0000e+00 - false_negatives: 0.0000e+00 - precision: 1.0000 - recall: 1.0000 - val_loss: 0.1839 - val_accuracy: 0.9429 - val_true_positives: 9.0000 - val_true_negatives: 24.0000 - val_false_positives: 0.0000e+00 - val_false_negatives: 2.0000 - val_precision: 1.0000 - val_recall: 0.8182\n",
      "Epoch 162/300\n",
      "4/4 [==============================] - 0s 18ms/step - loss: 2.3347e-04 - accuracy: 1.0000 - true_positives: 23.0000 - true_negatives: 79.0000 - false_positives: 0.0000e+00 - false_negatives: 0.0000e+00 - precision: 1.0000 - recall: 1.0000 - val_loss: 0.1987 - val_accuracy: 0.9429 - val_true_positives: 9.0000 - val_true_negatives: 24.0000 - val_false_positives: 0.0000e+00 - val_false_negatives: 2.0000 - val_precision: 1.0000 - val_recall: 0.8182\n",
      "Epoch 163/300\n",
      "4/4 [==============================] - 0s 44ms/step - loss: 2.8383e-04 - accuracy: 1.0000 - true_positives: 23.0000 - true_negatives: 79.0000 - false_positives: 0.0000e+00 - false_negatives: 0.0000e+00 - precision: 1.0000 - recall: 1.0000 - val_loss: 0.2097 - val_accuracy: 0.9429 - val_true_positives: 9.0000 - val_true_negatives: 24.0000 - val_false_positives: 0.0000e+00 - val_false_negatives: 2.0000 - val_precision: 1.0000 - val_recall: 0.8182\n",
      "Epoch 164/300\n",
      "4/4 [==============================] - 0s 17ms/step - loss: 5.4181e-04 - accuracy: 1.0000 - true_positives: 23.0000 - true_negatives: 79.0000 - false_positives: 0.0000e+00 - false_negatives: 0.0000e+00 - precision: 1.0000 - recall: 1.0000 - val_loss: 0.2020 - val_accuracy: 0.9429 - val_true_positives: 9.0000 - val_true_negatives: 24.0000 - val_false_positives: 0.0000e+00 - val_false_negatives: 2.0000 - val_precision: 1.0000 - val_recall: 0.8182\n",
      "Epoch 165/300\n",
      "4/4 [==============================] - 0s 41ms/step - loss: 5.3957e-04 - accuracy: 1.0000 - true_positives: 23.0000 - true_negatives: 79.0000 - false_positives: 0.0000e+00 - false_negatives: 0.0000e+00 - precision: 1.0000 - recall: 1.0000 - val_loss: 0.1752 - val_accuracy: 0.9429 - val_true_positives: 9.0000 - val_true_negatives: 24.0000 - val_false_positives: 0.0000e+00 - val_false_negatives: 2.0000 - val_precision: 1.0000 - val_recall: 0.8182\n",
      "Epoch 166/300\n",
      "4/4 [==============================] - 0s 22ms/step - loss: 1.6976e-04 - accuracy: 1.0000 - true_positives: 23.0000 - true_negatives: 79.0000 - false_positives: 0.0000e+00 - false_negatives: 0.0000e+00 - precision: 1.0000 - recall: 1.0000 - val_loss: 0.1559 - val_accuracy: 0.9429 - val_true_positives: 9.0000 - val_true_negatives: 24.0000 - val_false_positives: 0.0000e+00 - val_false_negatives: 2.0000 - val_precision: 1.0000 - val_recall: 0.8182\n",
      "Epoch 167/300\n",
      "4/4 [==============================] - 0s 43ms/step - loss: 2.9589e-04 - accuracy: 1.0000 - true_positives: 23.0000 - true_negatives: 79.0000 - false_positives: 0.0000e+00 - false_negatives: 0.0000e+00 - precision: 1.0000 - recall: 1.0000 - val_loss: 0.1530 - val_accuracy: 0.9429 - val_true_positives: 9.0000 - val_true_negatives: 24.0000 - val_false_positives: 0.0000e+00 - val_false_negatives: 2.0000 - val_precision: 1.0000 - val_recall: 0.8182\n",
      "Epoch 168/300\n",
      "4/4 [==============================] - 0s 18ms/step - loss: 3.3214e-04 - accuracy: 1.0000 - true_positives: 23.0000 - true_negatives: 79.0000 - false_positives: 0.0000e+00 - false_negatives: 0.0000e+00 - precision: 1.0000 - recall: 1.0000 - val_loss: 0.1660 - val_accuracy: 0.9429 - val_true_positives: 9.0000 - val_true_negatives: 24.0000 - val_false_positives: 0.0000e+00 - val_false_negatives: 2.0000 - val_precision: 1.0000 - val_recall: 0.8182\n",
      "Epoch 169/300\n",
      "4/4 [==============================] - 0s 39ms/step - loss: 3.3520e-04 - accuracy: 1.0000 - true_positives: 23.0000 - true_negatives: 79.0000 - false_positives: 0.0000e+00 - false_negatives: 0.0000e+00 - precision: 1.0000 - recall: 1.0000 - val_loss: 0.2002 - val_accuracy: 0.9429 - val_true_positives: 9.0000 - val_true_negatives: 24.0000 - val_false_positives: 0.0000e+00 - val_false_negatives: 2.0000 - val_precision: 1.0000 - val_recall: 0.8182\n",
      "Epoch 170/300\n",
      "4/4 [==============================] - 0s 19ms/step - loss: 2.1004e-04 - accuracy: 1.0000 - true_positives: 23.0000 - true_negatives: 79.0000 - false_positives: 0.0000e+00 - false_negatives: 0.0000e+00 - precision: 1.0000 - recall: 1.0000 - val_loss: 0.2208 - val_accuracy: 0.9429 - val_true_positives: 9.0000 - val_true_negatives: 24.0000 - val_false_positives: 0.0000e+00 - val_false_negatives: 2.0000 - val_precision: 1.0000 - val_recall: 0.8182\n",
      "Epoch 171/300\n",
      "4/4 [==============================] - 0s 41ms/step - loss: 2.5137e-04 - accuracy: 1.0000 - true_positives: 23.0000 - true_negatives: 79.0000 - false_positives: 0.0000e+00 - false_negatives: 0.0000e+00 - precision: 1.0000 - recall: 1.0000 - val_loss: 0.2248 - val_accuracy: 0.9143 - val_true_positives: 8.0000 - val_true_negatives: 24.0000 - val_false_positives: 0.0000e+00 - val_false_negatives: 3.0000 - val_precision: 1.0000 - val_recall: 0.7273\n",
      "Epoch 172/300\n",
      "4/4 [==============================] - 0s 24ms/step - loss: 3.4925e-04 - accuracy: 1.0000 - true_positives: 23.0000 - true_negatives: 79.0000 - false_positives: 0.0000e+00 - false_negatives: 0.0000e+00 - precision: 1.0000 - recall: 1.0000 - val_loss: 0.2062 - val_accuracy: 0.9429 - val_true_positives: 9.0000 - val_true_negatives: 24.0000 - val_false_positives: 0.0000e+00 - val_false_negatives: 2.0000 - val_precision: 1.0000 - val_recall: 0.8182\n",
      "Epoch 173/300\n",
      "4/4 [==============================] - 0s 53ms/step - loss: 2.3453e-04 - accuracy: 1.0000 - true_positives: 23.0000 - true_negatives: 79.0000 - false_positives: 0.0000e+00 - false_negatives: 0.0000e+00 - precision: 1.0000 - recall: 1.0000 - val_loss: 0.1811 - val_accuracy: 0.9429 - val_true_positives: 9.0000 - val_true_negatives: 24.0000 - val_false_positives: 0.0000e+00 - val_false_negatives: 2.0000 - val_precision: 1.0000 - val_recall: 0.8182\n",
      "Epoch 174/300\n",
      "4/4 [==============================] - 0s 24ms/step - loss: 2.7788e-04 - accuracy: 1.0000 - true_positives: 23.0000 - true_negatives: 79.0000 - false_positives: 0.0000e+00 - false_negatives: 0.0000e+00 - precision: 1.0000 - recall: 1.0000 - val_loss: 0.1686 - val_accuracy: 0.9429 - val_true_positives: 9.0000 - val_true_negatives: 24.0000 - val_false_positives: 0.0000e+00 - val_false_negatives: 2.0000 - val_precision: 1.0000 - val_recall: 0.8182\n",
      "Epoch 175/300\n",
      "4/4 [==============================] - 0s 50ms/step - loss: 5.1568e-04 - accuracy: 1.0000 - true_positives: 23.0000 - true_negatives: 79.0000 - false_positives: 0.0000e+00 - false_negatives: 0.0000e+00 - precision: 1.0000 - recall: 1.0000 - val_loss: 0.1658 - val_accuracy: 0.9429 - val_true_positives: 9.0000 - val_true_negatives: 24.0000 - val_false_positives: 0.0000e+00 - val_false_negatives: 2.0000 - val_precision: 1.0000 - val_recall: 0.8182\n",
      "Epoch 176/300\n",
      "4/4 [==============================] - 0s 23ms/step - loss: 2.1926e-04 - accuracy: 1.0000 - true_positives: 23.0000 - true_negatives: 79.0000 - false_positives: 0.0000e+00 - false_negatives: 0.0000e+00 - precision: 1.0000 - recall: 1.0000 - val_loss: 0.1600 - val_accuracy: 0.9429 - val_true_positives: 9.0000 - val_true_negatives: 24.0000 - val_false_positives: 0.0000e+00 - val_false_negatives: 2.0000 - val_precision: 1.0000 - val_recall: 0.8182\n",
      "Epoch 177/300\n",
      "4/4 [==============================] - 0s 47ms/step - loss: 3.1665e-04 - accuracy: 1.0000 - true_positives: 23.0000 - true_negatives: 79.0000 - false_positives: 0.0000e+00 - false_negatives: 0.0000e+00 - precision: 1.0000 - recall: 1.0000 - val_loss: 0.1696 - val_accuracy: 0.9429 - val_true_positives: 9.0000 - val_true_negatives: 24.0000 - val_false_positives: 0.0000e+00 - val_false_negatives: 2.0000 - val_precision: 1.0000 - val_recall: 0.8182\n",
      "Epoch 178/300\n",
      "4/4 [==============================] - 0s 23ms/step - loss: 1.9337e-04 - accuracy: 1.0000 - true_positives: 23.0000 - true_negatives: 79.0000 - false_positives: 0.0000e+00 - false_negatives: 0.0000e+00 - precision: 1.0000 - recall: 1.0000 - val_loss: 0.1848 - val_accuracy: 0.9429 - val_true_positives: 9.0000 - val_true_negatives: 24.0000 - val_false_positives: 0.0000e+00 - val_false_negatives: 2.0000 - val_precision: 1.0000 - val_recall: 0.8182\n"
     ]
    },
    {
     "name": "stdout",
     "output_type": "stream",
     "text": [
      "Epoch 179/300\n",
      "4/4 [==============================] - 0s 45ms/step - loss: 1.3229e-04 - accuracy: 1.0000 - true_positives: 23.0000 - true_negatives: 79.0000 - false_positives: 0.0000e+00 - false_negatives: 0.0000e+00 - precision: 1.0000 - recall: 1.0000 - val_loss: 0.1982 - val_accuracy: 0.9429 - val_true_positives: 9.0000 - val_true_negatives: 24.0000 - val_false_positives: 0.0000e+00 - val_false_negatives: 2.0000 - val_precision: 1.0000 - val_recall: 0.8182\n",
      "Epoch 180/300\n",
      "4/4 [==============================] - 0s 18ms/step - loss: 2.7597e-04 - accuracy: 1.0000 - true_positives: 23.0000 - true_negatives: 79.0000 - false_positives: 0.0000e+00 - false_negatives: 0.0000e+00 - precision: 1.0000 - recall: 1.0000 - val_loss: 0.2001 - val_accuracy: 0.9429 - val_true_positives: 9.0000 - val_true_negatives: 24.0000 - val_false_positives: 0.0000e+00 - val_false_negatives: 2.0000 - val_precision: 1.0000 - val_recall: 0.8182\n",
      "Epoch 181/300\n",
      "4/4 [==============================] - 0s 49ms/step - loss: 2.4232e-04 - accuracy: 1.0000 - true_positives: 23.0000 - true_negatives: 79.0000 - false_positives: 0.0000e+00 - false_negatives: 0.0000e+00 - precision: 1.0000 - recall: 1.0000 - val_loss: 0.1977 - val_accuracy: 0.9429 - val_true_positives: 9.0000 - val_true_negatives: 24.0000 - val_false_positives: 0.0000e+00 - val_false_negatives: 2.0000 - val_precision: 1.0000 - val_recall: 0.8182\n",
      "Epoch 182/300\n",
      "4/4 [==============================] - 0s 25ms/step - loss: 1.7973e-04 - accuracy: 1.0000 - true_positives: 23.0000 - true_negatives: 79.0000 - false_positives: 0.0000e+00 - false_negatives: 0.0000e+00 - precision: 1.0000 - recall: 1.0000 - val_loss: 0.1910 - val_accuracy: 0.9429 - val_true_positives: 9.0000 - val_true_negatives: 24.0000 - val_false_positives: 0.0000e+00 - val_false_negatives: 2.0000 - val_precision: 1.0000 - val_recall: 0.8182\n",
      "Epoch 183/300\n",
      "4/4 [==============================] - 0s 48ms/step - loss: 3.5310e-04 - accuracy: 1.0000 - true_positives: 23.0000 - true_negatives: 79.0000 - false_positives: 0.0000e+00 - false_negatives: 0.0000e+00 - precision: 1.0000 - recall: 1.0000 - val_loss: 0.1781 - val_accuracy: 0.9429 - val_true_positives: 9.0000 - val_true_negatives: 24.0000 - val_false_positives: 0.0000e+00 - val_false_negatives: 2.0000 - val_precision: 1.0000 - val_recall: 0.8182\n",
      "Epoch 184/300\n",
      "4/4 [==============================] - 0s 18ms/step - loss: 2.2982e-04 - accuracy: 1.0000 - true_positives: 23.0000 - true_negatives: 79.0000 - false_positives: 0.0000e+00 - false_negatives: 0.0000e+00 - precision: 1.0000 - recall: 1.0000 - val_loss: 0.1659 - val_accuracy: 0.9429 - val_true_positives: 9.0000 - val_true_negatives: 24.0000 - val_false_positives: 0.0000e+00 - val_false_negatives: 2.0000 - val_precision: 1.0000 - val_recall: 0.8182\n",
      "Epoch 185/300\n",
      "4/4 [==============================] - 0s 47ms/step - loss: 1.9830e-04 - accuracy: 1.0000 - true_positives: 23.0000 - true_negatives: 79.0000 - false_positives: 0.0000e+00 - false_negatives: 0.0000e+00 - precision: 1.0000 - recall: 1.0000 - val_loss: 0.1574 - val_accuracy: 0.9429 - val_true_positives: 9.0000 - val_true_negatives: 24.0000 - val_false_positives: 0.0000e+00 - val_false_negatives: 2.0000 - val_precision: 1.0000 - val_recall: 0.8182\n",
      "Epoch 186/300\n",
      "4/4 [==============================] - 0s 22ms/step - loss: 2.4082e-04 - accuracy: 1.0000 - true_positives: 23.0000 - true_negatives: 79.0000 - false_positives: 0.0000e+00 - false_negatives: 0.0000e+00 - precision: 1.0000 - recall: 1.0000 - val_loss: 0.1594 - val_accuracy: 0.9429 - val_true_positives: 9.0000 - val_true_negatives: 24.0000 - val_false_positives: 0.0000e+00 - val_false_negatives: 2.0000 - val_precision: 1.0000 - val_recall: 0.8182\n",
      "Epoch 187/300\n",
      "4/4 [==============================] - 0s 47ms/step - loss: 2.0211e-04 - accuracy: 1.0000 - true_positives: 23.0000 - true_negatives: 79.0000 - false_positives: 0.0000e+00 - false_negatives: 0.0000e+00 - precision: 1.0000 - recall: 1.0000 - val_loss: 0.1681 - val_accuracy: 0.9429 - val_true_positives: 9.0000 - val_true_negatives: 24.0000 - val_false_positives: 0.0000e+00 - val_false_negatives: 2.0000 - val_precision: 1.0000 - val_recall: 0.8182\n",
      "Epoch 188/300\n",
      "4/4 [==============================] - 0s 19ms/step - loss: 1.7128e-04 - accuracy: 1.0000 - true_positives: 23.0000 - true_negatives: 79.0000 - false_positives: 0.0000e+00 - false_negatives: 0.0000e+00 - precision: 1.0000 - recall: 1.0000 - val_loss: 0.1826 - val_accuracy: 0.9429 - val_true_positives: 9.0000 - val_true_negatives: 24.0000 - val_false_positives: 0.0000e+00 - val_false_negatives: 2.0000 - val_precision: 1.0000 - val_recall: 0.8182\n",
      "Epoch 189/300\n",
      "4/4 [==============================] - 0s 43ms/step - loss: 1.3430e-04 - accuracy: 1.0000 - true_positives: 23.0000 - true_negatives: 79.0000 - false_positives: 0.0000e+00 - false_negatives: 0.0000e+00 - precision: 1.0000 - recall: 1.0000 - val_loss: 0.1989 - val_accuracy: 0.9429 - val_true_positives: 9.0000 - val_true_negatives: 24.0000 - val_false_positives: 0.0000e+00 - val_false_negatives: 2.0000 - val_precision: 1.0000 - val_recall: 0.8182\n",
      "Epoch 190/300\n",
      "4/4 [==============================] - 0s 19ms/step - loss: 2.2124e-04 - accuracy: 1.0000 - true_positives: 23.0000 - true_negatives: 79.0000 - false_positives: 0.0000e+00 - false_negatives: 0.0000e+00 - precision: 1.0000 - recall: 1.0000 - val_loss: 0.2047 - val_accuracy: 0.9429 - val_true_positives: 9.0000 - val_true_negatives: 24.0000 - val_false_positives: 0.0000e+00 - val_false_negatives: 2.0000 - val_precision: 1.0000 - val_recall: 0.8182\n",
      "Epoch 191/300\n",
      "4/4 [==============================] - 0s 44ms/step - loss: 2.1487e-04 - accuracy: 1.0000 - true_positives: 23.0000 - true_negatives: 79.0000 - false_positives: 0.0000e+00 - false_negatives: 0.0000e+00 - precision: 1.0000 - recall: 1.0000 - val_loss: 0.1990 - val_accuracy: 0.9429 - val_true_positives: 9.0000 - val_true_negatives: 24.0000 - val_false_positives: 0.0000e+00 - val_false_negatives: 2.0000 - val_precision: 1.0000 - val_recall: 0.8182\n",
      "Epoch 192/300\n",
      "4/4 [==============================] - 0s 21ms/step - loss: 9.9163e-05 - accuracy: 1.0000 - true_positives: 23.0000 - true_negatives: 79.0000 - false_positives: 0.0000e+00 - false_negatives: 0.0000e+00 - precision: 1.0000 - recall: 1.0000 - val_loss: 0.1906 - val_accuracy: 0.9429 - val_true_positives: 9.0000 - val_true_negatives: 24.0000 - val_false_positives: 0.0000e+00 - val_false_negatives: 2.0000 - val_precision: 1.0000 - val_recall: 0.8182\n",
      "Epoch 193/300\n",
      "4/4 [==============================] - 0s 42ms/step - loss: 1.7295e-04 - accuracy: 1.0000 - true_positives: 23.0000 - true_negatives: 79.0000 - false_positives: 0.0000e+00 - false_negatives: 0.0000e+00 - precision: 1.0000 - recall: 1.0000 - val_loss: 0.1837 - val_accuracy: 0.9429 - val_true_positives: 9.0000 - val_true_negatives: 24.0000 - val_false_positives: 0.0000e+00 - val_false_negatives: 2.0000 - val_precision: 1.0000 - val_recall: 0.8182\n",
      "Epoch 194/300\n",
      "4/4 [==============================] - 0s 19ms/step - loss: 1.4577e-04 - accuracy: 1.0000 - true_positives: 23.0000 - true_negatives: 79.0000 - false_positives: 0.0000e+00 - false_negatives: 0.0000e+00 - precision: 1.0000 - recall: 1.0000 - val_loss: 0.1838 - val_accuracy: 0.9429 - val_true_positives: 9.0000 - val_true_negatives: 24.0000 - val_false_positives: 0.0000e+00 - val_false_negatives: 2.0000 - val_precision: 1.0000 - val_recall: 0.8182\n",
      "Epoch 195/300\n",
      "4/4 [==============================] - 0s 43ms/step - loss: 1.7830e-04 - accuracy: 1.0000 - true_positives: 23.0000 - true_negatives: 79.0000 - false_positives: 0.0000e+00 - false_negatives: 0.0000e+00 - precision: 1.0000 - recall: 1.0000 - val_loss: 0.1828 - val_accuracy: 0.9429 - val_true_positives: 9.0000 - val_true_negatives: 24.0000 - val_false_positives: 0.0000e+00 - val_false_negatives: 2.0000 - val_precision: 1.0000 - val_recall: 0.8182\n",
      "Epoch 196/300\n",
      "4/4 [==============================] - 0s 17ms/step - loss: 1.3677e-04 - accuracy: 1.0000 - true_positives: 23.0000 - true_negatives: 79.0000 - false_positives: 0.0000e+00 - false_negatives: 0.0000e+00 - precision: 1.0000 - recall: 1.0000 - val_loss: 0.1846 - val_accuracy: 0.9429 - val_true_positives: 9.0000 - val_true_negatives: 24.0000 - val_false_positives: 0.0000e+00 - val_false_negatives: 2.0000 - val_precision: 1.0000 - val_recall: 0.8182\n"
     ]
    },
    {
     "name": "stdout",
     "output_type": "stream",
     "text": [
      "Epoch 197/300\n",
      "4/4 [==============================] - 0s 45ms/step - loss: 2.0438e-04 - accuracy: 1.0000 - true_positives: 23.0000 - true_negatives: 79.0000 - false_positives: 0.0000e+00 - false_negatives: 0.0000e+00 - precision: 1.0000 - recall: 1.0000 - val_loss: 0.1859 - val_accuracy: 0.9429 - val_true_positives: 9.0000 - val_true_negatives: 24.0000 - val_false_positives: 0.0000e+00 - val_false_negatives: 2.0000 - val_precision: 1.0000 - val_recall: 0.8182\n",
      "Epoch 198/300\n",
      "4/4 [==============================] - 0s 17ms/step - loss: 1.4269e-04 - accuracy: 1.0000 - true_positives: 23.0000 - true_negatives: 79.0000 - false_positives: 0.0000e+00 - false_negatives: 0.0000e+00 - precision: 1.0000 - recall: 1.0000 - val_loss: 0.1887 - val_accuracy: 0.9429 - val_true_positives: 9.0000 - val_true_negatives: 24.0000 - val_false_positives: 0.0000e+00 - val_false_negatives: 2.0000 - val_precision: 1.0000 - val_recall: 0.8182\n",
      "Epoch 199/300\n",
      "4/4 [==============================] - 0s 41ms/step - loss: 9.0603e-05 - accuracy: 1.0000 - true_positives: 23.0000 - true_negatives: 79.0000 - false_positives: 0.0000e+00 - false_negatives: 0.0000e+00 - precision: 1.0000 - recall: 1.0000 - val_loss: 0.1908 - val_accuracy: 0.9429 - val_true_positives: 9.0000 - val_true_negatives: 24.0000 - val_false_positives: 0.0000e+00 - val_false_negatives: 2.0000 - val_precision: 1.0000 - val_recall: 0.8182\n",
      "Epoch 200/300\n",
      "4/4 [==============================] - 0s 18ms/step - loss: 1.2644e-04 - accuracy: 1.0000 - true_positives: 23.0000 - true_negatives: 79.0000 - false_positives: 0.0000e+00 - false_negatives: 0.0000e+00 - precision: 1.0000 - recall: 1.0000 - val_loss: 0.1925 - val_accuracy: 0.9429 - val_true_positives: 9.0000 - val_true_negatives: 24.0000 - val_false_positives: 0.0000e+00 - val_false_negatives: 2.0000 - val_precision: 1.0000 - val_recall: 0.8182\n",
      "Epoch 201/300\n",
      "4/4 [==============================] - 0s 42ms/step - loss: 2.0595e-04 - accuracy: 1.0000 - true_positives: 23.0000 - true_negatives: 79.0000 - false_positives: 0.0000e+00 - false_negatives: 0.0000e+00 - precision: 1.0000 - recall: 1.0000 - val_loss: 0.1935 - val_accuracy: 0.9429 - val_true_positives: 9.0000 - val_true_negatives: 24.0000 - val_false_positives: 0.0000e+00 - val_false_negatives: 2.0000 - val_precision: 1.0000 - val_recall: 0.8182\n",
      "Epoch 202/300\n",
      "4/4 [==============================] - 0s 20ms/step - loss: 1.8297e-04 - accuracy: 1.0000 - true_positives: 23.0000 - true_negatives: 79.0000 - false_positives: 0.0000e+00 - false_negatives: 0.0000e+00 - precision: 1.0000 - recall: 1.0000 - val_loss: 0.1813 - val_accuracy: 0.9429 - val_true_positives: 9.0000 - val_true_negatives: 24.0000 - val_false_positives: 0.0000e+00 - val_false_negatives: 2.0000 - val_precision: 1.0000 - val_recall: 0.8182\n",
      "Epoch 203/300\n",
      "4/4 [==============================] - 0s 43ms/step - loss: 1.8037e-04 - accuracy: 1.0000 - true_positives: 23.0000 - true_negatives: 79.0000 - false_positives: 0.0000e+00 - false_negatives: 0.0000e+00 - precision: 1.0000 - recall: 1.0000 - val_loss: 0.1722 - val_accuracy: 0.9429 - val_true_positives: 9.0000 - val_true_negatives: 24.0000 - val_false_positives: 0.0000e+00 - val_false_negatives: 2.0000 - val_precision: 1.0000 - val_recall: 0.8182\n",
      "Epoch 204/300\n",
      "4/4 [==============================] - 0s 22ms/step - loss: 2.3888e-04 - accuracy: 1.0000 - true_positives: 23.0000 - true_negatives: 79.0000 - false_positives: 0.0000e+00 - false_negatives: 0.0000e+00 - precision: 1.0000 - recall: 1.0000 - val_loss: 0.1708 - val_accuracy: 0.9429 - val_true_positives: 9.0000 - val_true_negatives: 24.0000 - val_false_positives: 0.0000e+00 - val_false_negatives: 2.0000 - val_precision: 1.0000 - val_recall: 0.8182\n",
      "Epoch 205/300\n",
      "4/4 [==============================] - 0s 48ms/step - loss: 2.5509e-04 - accuracy: 1.0000 - true_positives: 23.0000 - true_negatives: 79.0000 - false_positives: 0.0000e+00 - false_negatives: 0.0000e+00 - precision: 1.0000 - recall: 1.0000 - val_loss: 0.1857 - val_accuracy: 0.9429 - val_true_positives: 9.0000 - val_true_negatives: 24.0000 - val_false_positives: 0.0000e+00 - val_false_negatives: 2.0000 - val_precision: 1.0000 - val_recall: 0.8182\n",
      "Epoch 206/300\n",
      "4/4 [==============================] - 0s 21ms/step - loss: 2.3170e-04 - accuracy: 1.0000 - true_positives: 23.0000 - true_negatives: 79.0000 - false_positives: 0.0000e+00 - false_negatives: 0.0000e+00 - precision: 1.0000 - recall: 1.0000 - val_loss: 0.1946 - val_accuracy: 0.9429 - val_true_positives: 9.0000 - val_true_negatives: 24.0000 - val_false_positives: 0.0000e+00 - val_false_negatives: 2.0000 - val_precision: 1.0000 - val_recall: 0.8182\n",
      "Epoch 207/300\n",
      "4/4 [==============================] - 0s 48ms/step - loss: 2.1054e-04 - accuracy: 1.0000 - true_positives: 23.0000 - true_negatives: 79.0000 - false_positives: 0.0000e+00 - false_negatives: 0.0000e+00 - precision: 1.0000 - recall: 1.0000 - val_loss: 0.1955 - val_accuracy: 0.9429 - val_true_positives: 9.0000 - val_true_negatives: 24.0000 - val_false_positives: 0.0000e+00 - val_false_negatives: 2.0000 - val_precision: 1.0000 - val_recall: 0.8182\n",
      "Epoch 208/300\n",
      "4/4 [==============================] - 0s 20ms/step - loss: 1.4077e-04 - accuracy: 1.0000 - true_positives: 23.0000 - true_negatives: 79.0000 - false_positives: 0.0000e+00 - false_negatives: 0.0000e+00 - precision: 1.0000 - recall: 1.0000 - val_loss: 0.1714 - val_accuracy: 0.9429 - val_true_positives: 9.0000 - val_true_negatives: 24.0000 - val_false_positives: 0.0000e+00 - val_false_negatives: 2.0000 - val_precision: 1.0000 - val_recall: 0.8182\n",
      "Epoch 209/300\n",
      "4/4 [==============================] - 0s 44ms/step - loss: 1.7447e-04 - accuracy: 1.0000 - true_positives: 23.0000 - true_negatives: 79.0000 - false_positives: 0.0000e+00 - false_negatives: 0.0000e+00 - precision: 1.0000 - recall: 1.0000 - val_loss: 0.1588 - val_accuracy: 0.9429 - val_true_positives: 9.0000 - val_true_negatives: 24.0000 - val_false_positives: 0.0000e+00 - val_false_negatives: 2.0000 - val_precision: 1.0000 - val_recall: 0.8182\n",
      "Epoch 210/300\n",
      "4/4 [==============================] - 0s 20ms/step - loss: 2.4826e-04 - accuracy: 1.0000 - true_positives: 23.0000 - true_negatives: 79.0000 - false_positives: 0.0000e+00 - false_negatives: 0.0000e+00 - precision: 1.0000 - recall: 1.0000 - val_loss: 0.1573 - val_accuracy: 0.9429 - val_true_positives: 9.0000 - val_true_negatives: 24.0000 - val_false_positives: 0.0000e+00 - val_false_negatives: 2.0000 - val_precision: 1.0000 - val_recall: 0.8182\n",
      "Epoch 211/300\n",
      "4/4 [==============================] - 0s 49ms/step - loss: 1.2561e-04 - accuracy: 1.0000 - true_positives: 23.0000 - true_negatives: 79.0000 - false_positives: 0.0000e+00 - false_negatives: 0.0000e+00 - precision: 1.0000 - recall: 1.0000 - val_loss: 0.1619 - val_accuracy: 0.9429 - val_true_positives: 9.0000 - val_true_negatives: 24.0000 - val_false_positives: 0.0000e+00 - val_false_negatives: 2.0000 - val_precision: 1.0000 - val_recall: 0.8182\n",
      "Epoch 212/300\n",
      "4/4 [==============================] - 0s 19ms/step - loss: 1.2247e-04 - accuracy: 1.0000 - true_positives: 23.0000 - true_negatives: 79.0000 - false_positives: 0.0000e+00 - false_negatives: 0.0000e+00 - precision: 1.0000 - recall: 1.0000 - val_loss: 0.1705 - val_accuracy: 0.9429 - val_true_positives: 9.0000 - val_true_negatives: 24.0000 - val_false_positives: 0.0000e+00 - val_false_negatives: 2.0000 - val_precision: 1.0000 - val_recall: 0.8182\n",
      "Epoch 213/300\n",
      "4/4 [==============================] - 0s 48ms/step - loss: 1.1463e-04 - accuracy: 1.0000 - true_positives: 23.0000 - true_negatives: 79.0000 - false_positives: 0.0000e+00 - false_negatives: 0.0000e+00 - precision: 1.0000 - recall: 1.0000 - val_loss: 0.1782 - val_accuracy: 0.9429 - val_true_positives: 9.0000 - val_true_negatives: 24.0000 - val_false_positives: 0.0000e+00 - val_false_negatives: 2.0000 - val_precision: 1.0000 - val_recall: 0.8182\n",
      "Epoch 214/300\n",
      "4/4 [==============================] - 0s 22ms/step - loss: 2.4833e-04 - accuracy: 1.0000 - true_positives: 23.0000 - true_negatives: 79.0000 - false_positives: 0.0000e+00 - false_negatives: 0.0000e+00 - precision: 1.0000 - recall: 1.0000 - val_loss: 0.1792 - val_accuracy: 0.9429 - val_true_positives: 9.0000 - val_true_negatives: 24.0000 - val_false_positives: 0.0000e+00 - val_false_negatives: 2.0000 - val_precision: 1.0000 - val_recall: 0.8182\n"
     ]
    },
    {
     "name": "stdout",
     "output_type": "stream",
     "text": [
      "Epoch 215/300\n",
      "4/4 [==============================] - 0s 50ms/step - loss: 1.2269e-04 - accuracy: 1.0000 - true_positives: 23.0000 - true_negatives: 79.0000 - false_positives: 0.0000e+00 - false_negatives: 0.0000e+00 - precision: 1.0000 - recall: 1.0000 - val_loss: 0.1794 - val_accuracy: 0.9429 - val_true_positives: 9.0000 - val_true_negatives: 24.0000 - val_false_positives: 0.0000e+00 - val_false_negatives: 2.0000 - val_precision: 1.0000 - val_recall: 0.8182\n",
      "Epoch 216/300\n",
      "4/4 [==============================] - 0s 21ms/step - loss: 1.3950e-04 - accuracy: 1.0000 - true_positives: 23.0000 - true_negatives: 79.0000 - false_positives: 0.0000e+00 - false_negatives: 0.0000e+00 - precision: 1.0000 - recall: 1.0000 - val_loss: 0.1876 - val_accuracy: 0.9429 - val_true_positives: 9.0000 - val_true_negatives: 24.0000 - val_false_positives: 0.0000e+00 - val_false_negatives: 2.0000 - val_precision: 1.0000 - val_recall: 0.8182\n",
      "Epoch 217/300\n",
      "4/4 [==============================] - 0s 51ms/step - loss: 1.0084e-04 - accuracy: 1.0000 - true_positives: 23.0000 - true_negatives: 79.0000 - false_positives: 0.0000e+00 - false_negatives: 0.0000e+00 - precision: 1.0000 - recall: 1.0000 - val_loss: 0.1965 - val_accuracy: 0.9429 - val_true_positives: 9.0000 - val_true_negatives: 24.0000 - val_false_positives: 0.0000e+00 - val_false_negatives: 2.0000 - val_precision: 1.0000 - val_recall: 0.8182\n",
      "Epoch 218/300\n",
      "4/4 [==============================] - 0s 21ms/step - loss: 1.1897e-04 - accuracy: 1.0000 - true_positives: 23.0000 - true_negatives: 79.0000 - false_positives: 0.0000e+00 - false_negatives: 0.0000e+00 - precision: 1.0000 - recall: 1.0000 - val_loss: 0.1968 - val_accuracy: 0.9429 - val_true_positives: 9.0000 - val_true_negatives: 24.0000 - val_false_positives: 0.0000e+00 - val_false_negatives: 2.0000 - val_precision: 1.0000 - val_recall: 0.8182\n",
      "Epoch 219/300\n",
      "4/4 [==============================] - 0s 48ms/step - loss: 1.1815e-04 - accuracy: 1.0000 - true_positives: 23.0000 - true_negatives: 79.0000 - false_positives: 0.0000e+00 - false_negatives: 0.0000e+00 - precision: 1.0000 - recall: 1.0000 - val_loss: 0.1954 - val_accuracy: 0.9429 - val_true_positives: 9.0000 - val_true_negatives: 24.0000 - val_false_positives: 0.0000e+00 - val_false_negatives: 2.0000 - val_precision: 1.0000 - val_recall: 0.8182\n",
      "Epoch 220/300\n",
      "4/4 [==============================] - 0s 21ms/step - loss: 1.1871e-04 - accuracy: 1.0000 - true_positives: 23.0000 - true_negatives: 79.0000 - false_positives: 0.0000e+00 - false_negatives: 0.0000e+00 - precision: 1.0000 - recall: 1.0000 - val_loss: 0.1866 - val_accuracy: 0.9429 - val_true_positives: 9.0000 - val_true_negatives: 24.0000 - val_false_positives: 0.0000e+00 - val_false_negatives: 2.0000 - val_precision: 1.0000 - val_recall: 0.8182\n",
      "Epoch 221/300\n",
      "4/4 [==============================] - 0s 47ms/step - loss: 1.2039e-04 - accuracy: 1.0000 - true_positives: 23.0000 - true_negatives: 79.0000 - false_positives: 0.0000e+00 - false_negatives: 0.0000e+00 - precision: 1.0000 - recall: 1.0000 - val_loss: 0.1791 - val_accuracy: 0.9429 - val_true_positives: 9.0000 - val_true_negatives: 24.0000 - val_false_positives: 0.0000e+00 - val_false_negatives: 2.0000 - val_precision: 1.0000 - val_recall: 0.8182\n",
      "Epoch 222/300\n",
      "4/4 [==============================] - 0s 23ms/step - loss: 1.0357e-04 - accuracy: 1.0000 - true_positives: 23.0000 - true_negatives: 79.0000 - false_positives: 0.0000e+00 - false_negatives: 0.0000e+00 - precision: 1.0000 - recall: 1.0000 - val_loss: 0.1753 - val_accuracy: 0.9429 - val_true_positives: 9.0000 - val_true_negatives: 24.0000 - val_false_positives: 0.0000e+00 - val_false_negatives: 2.0000 - val_precision: 1.0000 - val_recall: 0.8182\n",
      "Epoch 223/300\n",
      "4/4 [==============================] - 0s 48ms/step - loss: 1.5292e-04 - accuracy: 1.0000 - true_positives: 23.0000 - true_negatives: 79.0000 - false_positives: 0.0000e+00 - false_negatives: 0.0000e+00 - precision: 1.0000 - recall: 1.0000 - val_loss: 0.1686 - val_accuracy: 0.9429 - val_true_positives: 9.0000 - val_true_negatives: 24.0000 - val_false_positives: 0.0000e+00 - val_false_negatives: 2.0000 - val_precision: 1.0000 - val_recall: 0.8182\n",
      "Epoch 224/300\n",
      "4/4 [==============================] - 0s 19ms/step - loss: 1.5440e-04 - accuracy: 1.0000 - true_positives: 23.0000 - true_negatives: 79.0000 - false_positives: 0.0000e+00 - false_negatives: 0.0000e+00 - precision: 1.0000 - recall: 1.0000 - val_loss: 0.1631 - val_accuracy: 0.9429 - val_true_positives: 9.0000 - val_true_negatives: 24.0000 - val_false_positives: 0.0000e+00 - val_false_negatives: 2.0000 - val_precision: 1.0000 - val_recall: 0.8182\n",
      "Epoch 225/300\n",
      "4/4 [==============================] - 0s 49ms/step - loss: 1.1394e-04 - accuracy: 1.0000 - true_positives: 23.0000 - true_negatives: 79.0000 - false_positives: 0.0000e+00 - false_negatives: 0.0000e+00 - precision: 1.0000 - recall: 1.0000 - val_loss: 0.1632 - val_accuracy: 0.9429 - val_true_positives: 9.0000 - val_true_negatives: 24.0000 - val_false_positives: 0.0000e+00 - val_false_negatives: 2.0000 - val_precision: 1.0000 - val_recall: 0.8182\n",
      "Epoch 226/300\n",
      "4/4 [==============================] - 0s 26ms/step - loss: 1.4427e-04 - accuracy: 1.0000 - true_positives: 23.0000 - true_negatives: 79.0000 - false_positives: 0.0000e+00 - false_negatives: 0.0000e+00 - precision: 1.0000 - recall: 1.0000 - val_loss: 0.1688 - val_accuracy: 0.9429 - val_true_positives: 9.0000 - val_true_negatives: 24.0000 - val_false_positives: 0.0000e+00 - val_false_negatives: 2.0000 - val_precision: 1.0000 - val_recall: 0.8182\n",
      "Epoch 227/300\n",
      "4/4 [==============================] - 0s 53ms/step - loss: 1.2112e-04 - accuracy: 1.0000 - true_positives: 23.0000 - true_negatives: 79.0000 - false_positives: 0.0000e+00 - false_negatives: 0.0000e+00 - precision: 1.0000 - recall: 1.0000 - val_loss: 0.1807 - val_accuracy: 0.9429 - val_true_positives: 9.0000 - val_true_negatives: 24.0000 - val_false_positives: 0.0000e+00 - val_false_negatives: 2.0000 - val_precision: 1.0000 - val_recall: 0.8182\n",
      "Epoch 228/300\n",
      "4/4 [==============================] - 0s 20ms/step - loss: 1.1688e-04 - accuracy: 1.0000 - true_positives: 23.0000 - true_negatives: 79.0000 - false_positives: 0.0000e+00 - false_negatives: 0.0000e+00 - precision: 1.0000 - recall: 1.0000 - val_loss: 0.1933 - val_accuracy: 0.9429 - val_true_positives: 9.0000 - val_true_negatives: 24.0000 - val_false_positives: 0.0000e+00 - val_false_negatives: 2.0000 - val_precision: 1.0000 - val_recall: 0.8182\n",
      "Epoch 229/300\n",
      "4/4 [==============================] - 0s 50ms/step - loss: 4.1054e-04 - accuracy: 1.0000 - true_positives: 23.0000 - true_negatives: 79.0000 - false_positives: 0.0000e+00 - false_negatives: 0.0000e+00 - precision: 1.0000 - recall: 1.0000 - val_loss: 0.1610 - val_accuracy: 0.9429 - val_true_positives: 9.0000 - val_true_negatives: 24.0000 - val_false_positives: 0.0000e+00 - val_false_negatives: 2.0000 - val_precision: 1.0000 - val_recall: 0.8182\n",
      "Epoch 230/300\n",
      "4/4 [==============================] - 0s 25ms/step - loss: 2.5806e-04 - accuracy: 1.0000 - true_positives: 23.0000 - true_negatives: 79.0000 - false_positives: 0.0000e+00 - false_negatives: 0.0000e+00 - precision: 1.0000 - recall: 1.0000 - val_loss: 0.1557 - val_accuracy: 0.9429 - val_true_positives: 9.0000 - val_true_negatives: 24.0000 - val_false_positives: 0.0000e+00 - val_false_negatives: 2.0000 - val_precision: 1.0000 - val_recall: 0.8182\n",
      "Epoch 231/300\n",
      "4/4 [==============================] - 0s 49ms/step - loss: 1.0224e-04 - accuracy: 1.0000 - true_positives: 23.0000 - true_negatives: 79.0000 - false_positives: 0.0000e+00 - false_negatives: 0.0000e+00 - precision: 1.0000 - recall: 1.0000 - val_loss: 0.1693 - val_accuracy: 0.9429 - val_true_positives: 9.0000 - val_true_negatives: 24.0000 - val_false_positives: 0.0000e+00 - val_false_negatives: 2.0000 - val_precision: 1.0000 - val_recall: 0.8182\n",
      "Epoch 232/300\n",
      "4/4 [==============================] - 0s 28ms/step - loss: 1.1783e-04 - accuracy: 1.0000 - true_positives: 23.0000 - true_negatives: 79.0000 - false_positives: 0.0000e+00 - false_negatives: 0.0000e+00 - precision: 1.0000 - recall: 1.0000 - val_loss: 0.1796 - val_accuracy: 0.9429 - val_true_positives: 9.0000 - val_true_negatives: 24.0000 - val_false_positives: 0.0000e+00 - val_false_negatives: 2.0000 - val_precision: 1.0000 - val_recall: 0.8182\n"
     ]
    },
    {
     "name": "stdout",
     "output_type": "stream",
     "text": [
      "Epoch 233/300\n",
      "4/4 [==============================] - 0s 55ms/step - loss: 1.1072e-04 - accuracy: 1.0000 - true_positives: 23.0000 - true_negatives: 79.0000 - false_positives: 0.0000e+00 - false_negatives: 0.0000e+00 - precision: 1.0000 - recall: 1.0000 - val_loss: 0.1892 - val_accuracy: 0.9429 - val_true_positives: 9.0000 - val_true_negatives: 24.0000 - val_false_positives: 0.0000e+00 - val_false_negatives: 2.0000 - val_precision: 1.0000 - val_recall: 0.8182\n",
      "Epoch 234/300\n",
      "4/4 [==============================] - 0s 22ms/step - loss: 8.3142e-05 - accuracy: 1.0000 - true_positives: 23.0000 - true_negatives: 79.0000 - false_positives: 0.0000e+00 - false_negatives: 0.0000e+00 - precision: 1.0000 - recall: 1.0000 - val_loss: 0.1966 - val_accuracy: 0.9429 - val_true_positives: 9.0000 - val_true_negatives: 24.0000 - val_false_positives: 0.0000e+00 - val_false_negatives: 2.0000 - val_precision: 1.0000 - val_recall: 0.8182\n",
      "Epoch 235/300\n",
      "4/4 [==============================] - 0s 53ms/step - loss: 1.7649e-04 - accuracy: 1.0000 - true_positives: 23.0000 - true_negatives: 79.0000 - false_positives: 0.0000e+00 - false_negatives: 0.0000e+00 - precision: 1.0000 - recall: 1.0000 - val_loss: 0.1963 - val_accuracy: 0.9429 - val_true_positives: 9.0000 - val_true_negatives: 24.0000 - val_false_positives: 0.0000e+00 - val_false_negatives: 2.0000 - val_precision: 1.0000 - val_recall: 0.8182\n",
      "Epoch 236/300\n",
      "4/4 [==============================] - 0s 23ms/step - loss: 1.0787e-04 - accuracy: 1.0000 - true_positives: 23.0000 - true_negatives: 79.0000 - false_positives: 0.0000e+00 - false_negatives: 0.0000e+00 - precision: 1.0000 - recall: 1.0000 - val_loss: 0.1934 - val_accuracy: 0.9429 - val_true_positives: 9.0000 - val_true_negatives: 24.0000 - val_false_positives: 0.0000e+00 - val_false_negatives: 2.0000 - val_precision: 1.0000 - val_recall: 0.8182\n",
      "Epoch 237/300\n",
      "4/4 [==============================] - 0s 52ms/step - loss: 1.0622e-04 - accuracy: 1.0000 - true_positives: 23.0000 - true_negatives: 79.0000 - false_positives: 0.0000e+00 - false_negatives: 0.0000e+00 - precision: 1.0000 - recall: 1.0000 - val_loss: 0.1887 - val_accuracy: 0.9429 - val_true_positives: 9.0000 - val_true_negatives: 24.0000 - val_false_positives: 0.0000e+00 - val_false_negatives: 2.0000 - val_precision: 1.0000 - val_recall: 0.8182\n",
      "Epoch 238/300\n",
      "4/4 [==============================] - 0s 23ms/step - loss: 1.3756e-04 - accuracy: 1.0000 - true_positives: 23.0000 - true_negatives: 79.0000 - false_positives: 0.0000e+00 - false_negatives: 0.0000e+00 - precision: 1.0000 - recall: 1.0000 - val_loss: 0.1869 - val_accuracy: 0.9429 - val_true_positives: 9.0000 - val_true_negatives: 24.0000 - val_false_positives: 0.0000e+00 - val_false_negatives: 2.0000 - val_precision: 1.0000 - val_recall: 0.8182\n",
      "Epoch 239/300\n",
      "4/4 [==============================] - 0s 52ms/step - loss: 1.1437e-04 - accuracy: 1.0000 - true_positives: 23.0000 - true_negatives: 79.0000 - false_positives: 0.0000e+00 - false_negatives: 0.0000e+00 - precision: 1.0000 - recall: 1.0000 - val_loss: 0.1856 - val_accuracy: 0.9429 - val_true_positives: 9.0000 - val_true_negatives: 24.0000 - val_false_positives: 0.0000e+00 - val_false_negatives: 2.0000 - val_precision: 1.0000 - val_recall: 0.8182\n",
      "Epoch 240/300\n",
      "4/4 [==============================] - 0s 22ms/step - loss: 9.2536e-05 - accuracy: 1.0000 - true_positives: 23.0000 - true_negatives: 79.0000 - false_positives: 0.0000e+00 - false_negatives: 0.0000e+00 - precision: 1.0000 - recall: 1.0000 - val_loss: 0.1810 - val_accuracy: 0.9429 - val_true_positives: 9.0000 - val_true_negatives: 24.0000 - val_false_positives: 0.0000e+00 - val_false_negatives: 2.0000 - val_precision: 1.0000 - val_recall: 0.8182\n",
      "Epoch 241/300\n",
      "4/4 [==============================] - 0s 47ms/step - loss: 1.0921e-04 - accuracy: 1.0000 - true_positives: 23.0000 - true_negatives: 79.0000 - false_positives: 0.0000e+00 - false_negatives: 0.0000e+00 - precision: 1.0000 - recall: 1.0000 - val_loss: 0.1749 - val_accuracy: 0.9429 - val_true_positives: 9.0000 - val_true_negatives: 24.0000 - val_false_positives: 0.0000e+00 - val_false_negatives: 2.0000 - val_precision: 1.0000 - val_recall: 0.8182\n",
      "Epoch 242/300\n",
      "4/4 [==============================] - 0s 23ms/step - loss: 7.7559e-05 - accuracy: 1.0000 - true_positives: 23.0000 - true_negatives: 79.0000 - false_positives: 0.0000e+00 - false_negatives: 0.0000e+00 - precision: 1.0000 - recall: 1.0000 - val_loss: 0.1700 - val_accuracy: 0.9429 - val_true_positives: 9.0000 - val_true_negatives: 24.0000 - val_false_positives: 0.0000e+00 - val_false_negatives: 2.0000 - val_precision: 1.0000 - val_recall: 0.8182\n",
      "Epoch 243/300\n",
      "4/4 [==============================] - 0s 50ms/step - loss: 1.2646e-04 - accuracy: 1.0000 - true_positives: 23.0000 - true_negatives: 79.0000 - false_positives: 0.0000e+00 - false_negatives: 0.0000e+00 - precision: 1.0000 - recall: 1.0000 - val_loss: 0.1751 - val_accuracy: 0.9429 - val_true_positives: 9.0000 - val_true_negatives: 24.0000 - val_false_positives: 0.0000e+00 - val_false_negatives: 2.0000 - val_precision: 1.0000 - val_recall: 0.8182\n",
      "Epoch 244/300\n",
      "4/4 [==============================] - 0s 21ms/step - loss: 8.7362e-05 - accuracy: 1.0000 - true_positives: 23.0000 - true_negatives: 79.0000 - false_positives: 0.0000e+00 - false_negatives: 0.0000e+00 - precision: 1.0000 - recall: 1.0000 - val_loss: 0.1881 - val_accuracy: 0.9429 - val_true_positives: 9.0000 - val_true_negatives: 24.0000 - val_false_positives: 0.0000e+00 - val_false_negatives: 2.0000 - val_precision: 1.0000 - val_recall: 0.8182\n",
      "Epoch 245/300\n",
      "4/4 [==============================] - 0s 47ms/step - loss: 8.3589e-05 - accuracy: 1.0000 - true_positives: 23.0000 - true_negatives: 79.0000 - false_positives: 0.0000e+00 - false_negatives: 0.0000e+00 - precision: 1.0000 - recall: 1.0000 - val_loss: 0.2003 - val_accuracy: 0.9429 - val_true_positives: 9.0000 - val_true_negatives: 24.0000 - val_false_positives: 0.0000e+00 - val_false_negatives: 2.0000 - val_precision: 1.0000 - val_recall: 0.8182\n",
      "Epoch 246/300\n",
      "4/4 [==============================] - 0s 24ms/step - loss: 1.1336e-04 - accuracy: 1.0000 - true_positives: 23.0000 - true_negatives: 79.0000 - false_positives: 0.0000e+00 - false_negatives: 0.0000e+00 - precision: 1.0000 - recall: 1.0000 - val_loss: 0.2119 - val_accuracy: 0.9429 - val_true_positives: 9.0000 - val_true_negatives: 24.0000 - val_false_positives: 0.0000e+00 - val_false_negatives: 2.0000 - val_precision: 1.0000 - val_recall: 0.8182\n",
      "Epoch 247/300\n",
      "4/4 [==============================] - 0s 51ms/step - loss: 2.7130e-04 - accuracy: 1.0000 - true_positives: 23.0000 - true_negatives: 79.0000 - false_positives: 0.0000e+00 - false_negatives: 0.0000e+00 - precision: 1.0000 - recall: 1.0000 - val_loss: 0.1937 - val_accuracy: 0.9429 - val_true_positives: 9.0000 - val_true_negatives: 24.0000 - val_false_positives: 0.0000e+00 - val_false_negatives: 2.0000 - val_precision: 1.0000 - val_recall: 0.8182\n",
      "Epoch 248/300\n",
      "4/4 [==============================] - 0s 24ms/step - loss: 9.8859e-05 - accuracy: 1.0000 - true_positives: 23.0000 - true_negatives: 79.0000 - false_positives: 0.0000e+00 - false_negatives: 0.0000e+00 - precision: 1.0000 - recall: 1.0000 - val_loss: 0.1772 - val_accuracy: 0.9429 - val_true_positives: 9.0000 - val_true_negatives: 24.0000 - val_false_positives: 0.0000e+00 - val_false_negatives: 2.0000 - val_precision: 1.0000 - val_recall: 0.8182\n",
      "Epoch 249/300\n",
      "4/4 [==============================] - 0s 57ms/step - loss: 1.2960e-04 - accuracy: 1.0000 - true_positives: 23.0000 - true_negatives: 79.0000 - false_positives: 0.0000e+00 - false_negatives: 0.0000e+00 - precision: 1.0000 - recall: 1.0000 - val_loss: 0.1672 - val_accuracy: 0.9429 - val_true_positives: 9.0000 - val_true_negatives: 24.0000 - val_false_positives: 0.0000e+00 - val_false_negatives: 2.0000 - val_precision: 1.0000 - val_recall: 0.8182\n",
      "Epoch 250/300\n",
      "4/4 [==============================] - 0s 25ms/step - loss: 1.1222e-04 - accuracy: 1.0000 - true_positives: 23.0000 - true_negatives: 79.0000 - false_positives: 0.0000e+00 - false_negatives: 0.0000e+00 - precision: 1.0000 - recall: 1.0000 - val_loss: 0.1668 - val_accuracy: 0.9429 - val_true_positives: 9.0000 - val_true_negatives: 24.0000 - val_false_positives: 0.0000e+00 - val_false_negatives: 2.0000 - val_precision: 1.0000 - val_recall: 0.8182\n"
     ]
    },
    {
     "name": "stdout",
     "output_type": "stream",
     "text": [
      "Epoch 251/300\n",
      "4/4 [==============================] - 0s 50ms/step - loss: 8.5716e-05 - accuracy: 1.0000 - true_positives: 23.0000 - true_negatives: 79.0000 - false_positives: 0.0000e+00 - false_negatives: 0.0000e+00 - precision: 1.0000 - recall: 1.0000 - val_loss: 0.1751 - val_accuracy: 0.9429 - val_true_positives: 9.0000 - val_true_negatives: 24.0000 - val_false_positives: 0.0000e+00 - val_false_negatives: 2.0000 - val_precision: 1.0000 - val_recall: 0.8182\n",
      "Epoch 252/300\n",
      "4/4 [==============================] - 0s 19ms/step - loss: 1.8227e-04 - accuracy: 1.0000 - true_positives: 23.0000 - true_negatives: 79.0000 - false_positives: 0.0000e+00 - false_negatives: 0.0000e+00 - precision: 1.0000 - recall: 1.0000 - val_loss: 0.1769 - val_accuracy: 0.9429 - val_true_positives: 9.0000 - val_true_negatives: 24.0000 - val_false_positives: 0.0000e+00 - val_false_negatives: 2.0000 - val_precision: 1.0000 - val_recall: 0.8182\n",
      "Epoch 253/300\n",
      "4/4 [==============================] - 0s 50ms/step - loss: 1.3060e-04 - accuracy: 1.0000 - true_positives: 23.0000 - true_negatives: 79.0000 - false_positives: 0.0000e+00 - false_negatives: 0.0000e+00 - precision: 1.0000 - recall: 1.0000 - val_loss: 0.1783 - val_accuracy: 0.9429 - val_true_positives: 9.0000 - val_true_negatives: 24.0000 - val_false_positives: 0.0000e+00 - val_false_negatives: 2.0000 - val_precision: 1.0000 - val_recall: 0.8182\n",
      "Epoch 254/300\n",
      "4/4 [==============================] - 0s 18ms/step - loss: 7.4996e-05 - accuracy: 1.0000 - true_positives: 23.0000 - true_negatives: 79.0000 - false_positives: 0.0000e+00 - false_negatives: 0.0000e+00 - precision: 1.0000 - recall: 1.0000 - val_loss: 0.1812 - val_accuracy: 0.9429 - val_true_positives: 9.0000 - val_true_negatives: 24.0000 - val_false_positives: 0.0000e+00 - val_false_negatives: 2.0000 - val_precision: 1.0000 - val_recall: 0.8182\n",
      "Epoch 255/300\n",
      "4/4 [==============================] - 0s 56ms/step - loss: 7.2014e-05 - accuracy: 1.0000 - true_positives: 23.0000 - true_negatives: 79.0000 - false_positives: 0.0000e+00 - false_negatives: 0.0000e+00 - precision: 1.0000 - recall: 1.0000 - val_loss: 0.1871 - val_accuracy: 0.9429 - val_true_positives: 9.0000 - val_true_negatives: 24.0000 - val_false_positives: 0.0000e+00 - val_false_negatives: 2.0000 - val_precision: 1.0000 - val_recall: 0.8182\n",
      "Epoch 256/300\n",
      "4/4 [==============================] - 0s 22ms/step - loss: 1.0011e-04 - accuracy: 1.0000 - true_positives: 23.0000 - true_negatives: 79.0000 - false_positives: 0.0000e+00 - false_negatives: 0.0000e+00 - precision: 1.0000 - recall: 1.0000 - val_loss: 0.1926 - val_accuracy: 0.9429 - val_true_positives: 9.0000 - val_true_negatives: 24.0000 - val_false_positives: 0.0000e+00 - val_false_negatives: 2.0000 - val_precision: 1.0000 - val_recall: 0.8182\n",
      "Epoch 257/300\n",
      "4/4 [==============================] - 0s 51ms/step - loss: 1.0502e-04 - accuracy: 1.0000 - true_positives: 23.0000 - true_negatives: 79.0000 - false_positives: 0.0000e+00 - false_negatives: 0.0000e+00 - precision: 1.0000 - recall: 1.0000 - val_loss: 0.1982 - val_accuracy: 0.9429 - val_true_positives: 9.0000 - val_true_negatives: 24.0000 - val_false_positives: 0.0000e+00 - val_false_negatives: 2.0000 - val_precision: 1.0000 - val_recall: 0.8182\n",
      "Epoch 258/300\n",
      "4/4 [==============================] - 0s 23ms/step - loss: 5.4528e-05 - accuracy: 1.0000 - true_positives: 23.0000 - true_negatives: 79.0000 - false_positives: 0.0000e+00 - false_negatives: 0.0000e+00 - precision: 1.0000 - recall: 1.0000 - val_loss: 0.2026 - val_accuracy: 0.9429 - val_true_positives: 9.0000 - val_true_negatives: 24.0000 - val_false_positives: 0.0000e+00 - val_false_negatives: 2.0000 - val_precision: 1.0000 - val_recall: 0.8182\n",
      "Epoch 259/300\n",
      "4/4 [==============================] - 0s 53ms/step - loss: 1.0107e-04 - accuracy: 1.0000 - true_positives: 23.0000 - true_negatives: 79.0000 - false_positives: 0.0000e+00 - false_negatives: 0.0000e+00 - precision: 1.0000 - recall: 1.0000 - val_loss: 0.2018 - val_accuracy: 0.9429 - val_true_positives: 9.0000 - val_true_negatives: 24.0000 - val_false_positives: 0.0000e+00 - val_false_negatives: 2.0000 - val_precision: 1.0000 - val_recall: 0.8182\n",
      "Epoch 260/300\n",
      "4/4 [==============================] - 0s 21ms/step - loss: 9.0199e-05 - accuracy: 1.0000 - true_positives: 23.0000 - true_negatives: 79.0000 - false_positives: 0.0000e+00 - false_negatives: 0.0000e+00 - precision: 1.0000 - recall: 1.0000 - val_loss: 0.1985 - val_accuracy: 0.9429 - val_true_positives: 9.0000 - val_true_negatives: 24.0000 - val_false_positives: 0.0000e+00 - val_false_negatives: 2.0000 - val_precision: 1.0000 - val_recall: 0.8182\n",
      "Epoch 261/300\n",
      "4/4 [==============================] - 0s 51ms/step - loss: 1.5184e-04 - accuracy: 1.0000 - true_positives: 23.0000 - true_negatives: 79.0000 - false_positives: 0.0000e+00 - false_negatives: 0.0000e+00 - precision: 1.0000 - recall: 1.0000 - val_loss: 0.1866 - val_accuracy: 0.9429 - val_true_positives: 9.0000 - val_true_negatives: 24.0000 - val_false_positives: 0.0000e+00 - val_false_negatives: 2.0000 - val_precision: 1.0000 - val_recall: 0.8182\n",
      "Epoch 262/300\n",
      "4/4 [==============================] - 0s 22ms/step - loss: 1.1198e-04 - accuracy: 1.0000 - true_positives: 23.0000 - true_negatives: 79.0000 - false_positives: 0.0000e+00 - false_negatives: 0.0000e+00 - precision: 1.0000 - recall: 1.0000 - val_loss: 0.1760 - val_accuracy: 0.9429 - val_true_positives: 9.0000 - val_true_negatives: 24.0000 - val_false_positives: 0.0000e+00 - val_false_negatives: 2.0000 - val_precision: 1.0000 - val_recall: 0.8182\n",
      "Epoch 263/300\n",
      "4/4 [==============================] - 0s 49ms/step - loss: 7.6578e-05 - accuracy: 1.0000 - true_positives: 23.0000 - true_negatives: 79.0000 - false_positives: 0.0000e+00 - false_negatives: 0.0000e+00 - precision: 1.0000 - recall: 1.0000 - val_loss: 0.1661 - val_accuracy: 0.9429 - val_true_positives: 9.0000 - val_true_negatives: 24.0000 - val_false_positives: 0.0000e+00 - val_false_negatives: 2.0000 - val_precision: 1.0000 - val_recall: 0.8182\n",
      "Epoch 264/300\n",
      "4/4 [==============================] - 0s 22ms/step - loss: 1.0754e-04 - accuracy: 1.0000 - true_positives: 23.0000 - true_negatives: 79.0000 - false_positives: 0.0000e+00 - false_negatives: 0.0000e+00 - precision: 1.0000 - recall: 1.0000 - val_loss: 0.1663 - val_accuracy: 0.9429 - val_true_positives: 9.0000 - val_true_negatives: 24.0000 - val_false_positives: 0.0000e+00 - val_false_negatives: 2.0000 - val_precision: 1.0000 - val_recall: 0.8182\n",
      "Epoch 265/300\n",
      "4/4 [==============================] - 0s 51ms/step - loss: 9.8620e-05 - accuracy: 1.0000 - true_positives: 23.0000 - true_negatives: 79.0000 - false_positives: 0.0000e+00 - false_negatives: 0.0000e+00 - precision: 1.0000 - recall: 1.0000 - val_loss: 0.1738 - val_accuracy: 0.9429 - val_true_positives: 9.0000 - val_true_negatives: 24.0000 - val_false_positives: 0.0000e+00 - val_false_negatives: 2.0000 - val_precision: 1.0000 - val_recall: 0.8182\n",
      "Epoch 266/300\n",
      "4/4 [==============================] - 0s 23ms/step - loss: 8.9574e-05 - accuracy: 1.0000 - true_positives: 23.0000 - true_negatives: 79.0000 - false_positives: 0.0000e+00 - false_negatives: 0.0000e+00 - precision: 1.0000 - recall: 1.0000 - val_loss: 0.1802 - val_accuracy: 0.9429 - val_true_positives: 9.0000 - val_true_negatives: 24.0000 - val_false_positives: 0.0000e+00 - val_false_negatives: 2.0000 - val_precision: 1.0000 - val_recall: 0.8182\n",
      "Epoch 267/300\n",
      "4/4 [==============================] - 0s 53ms/step - loss: 7.3492e-05 - accuracy: 1.0000 - true_positives: 23.0000 - true_negatives: 79.0000 - false_positives: 0.0000e+00 - false_negatives: 0.0000e+00 - precision: 1.0000 - recall: 1.0000 - val_loss: 0.1861 - val_accuracy: 0.9429 - val_true_positives: 9.0000 - val_true_negatives: 24.0000 - val_false_positives: 0.0000e+00 - val_false_negatives: 2.0000 - val_precision: 1.0000 - val_recall: 0.8182\n",
      "Epoch 268/300\n",
      "4/4 [==============================] - 0s 26ms/step - loss: 9.0741e-05 - accuracy: 1.0000 - true_positives: 23.0000 - true_negatives: 79.0000 - false_positives: 0.0000e+00 - false_negatives: 0.0000e+00 - precision: 1.0000 - recall: 1.0000 - val_loss: 0.1909 - val_accuracy: 0.9429 - val_true_positives: 9.0000 - val_true_negatives: 24.0000 - val_false_positives: 0.0000e+00 - val_false_negatives: 2.0000 - val_precision: 1.0000 - val_recall: 0.8182\n"
     ]
    },
    {
     "name": "stdout",
     "output_type": "stream",
     "text": [
      "Epoch 269/300\n",
      "4/4 [==============================] - 0s 51ms/step - loss: 1.0771e-04 - accuracy: 1.0000 - true_positives: 23.0000 - true_negatives: 79.0000 - false_positives: 0.0000e+00 - false_negatives: 0.0000e+00 - precision: 1.0000 - recall: 1.0000 - val_loss: 0.1966 - val_accuracy: 0.9429 - val_true_positives: 9.0000 - val_true_negatives: 24.0000 - val_false_positives: 0.0000e+00 - val_false_negatives: 2.0000 - val_precision: 1.0000 - val_recall: 0.8182\n",
      "Epoch 270/300\n",
      "4/4 [==============================] - 0s 23ms/step - loss: 1.1212e-04 - accuracy: 1.0000 - true_positives: 23.0000 - true_negatives: 79.0000 - false_positives: 0.0000e+00 - false_negatives: 0.0000e+00 - precision: 1.0000 - recall: 1.0000 - val_loss: 0.2032 - val_accuracy: 0.9429 - val_true_positives: 9.0000 - val_true_negatives: 24.0000 - val_false_positives: 0.0000e+00 - val_false_negatives: 2.0000 - val_precision: 1.0000 - val_recall: 0.8182\n",
      "Epoch 271/300\n",
      "4/4 [==============================] - 0s 53ms/step - loss: 1.0327e-04 - accuracy: 1.0000 - true_positives: 23.0000 - true_negatives: 79.0000 - false_positives: 0.0000e+00 - false_negatives: 0.0000e+00 - precision: 1.0000 - recall: 1.0000 - val_loss: 0.2083 - val_accuracy: 0.9429 - val_true_positives: 9.0000 - val_true_negatives: 24.0000 - val_false_positives: 0.0000e+00 - val_false_negatives: 2.0000 - val_precision: 1.0000 - val_recall: 0.8182\n",
      "Epoch 272/300\n",
      "4/4 [==============================] - 0s 22ms/step - loss: 8.5107e-05 - accuracy: 1.0000 - true_positives: 23.0000 - true_negatives: 79.0000 - false_positives: 0.0000e+00 - false_negatives: 0.0000e+00 - precision: 1.0000 - recall: 1.0000 - val_loss: 0.2096 - val_accuracy: 0.9429 - val_true_positives: 9.0000 - val_true_negatives: 24.0000 - val_false_positives: 0.0000e+00 - val_false_negatives: 2.0000 - val_precision: 1.0000 - val_recall: 0.8182\n",
      "Epoch 273/300\n",
      "4/4 [==============================] - 0s 47ms/step - loss: 1.4742e-04 - accuracy: 1.0000 - true_positives: 23.0000 - true_negatives: 79.0000 - false_positives: 0.0000e+00 - false_negatives: 0.0000e+00 - precision: 1.0000 - recall: 1.0000 - val_loss: 0.1942 - val_accuracy: 0.9429 - val_true_positives: 9.0000 - val_true_negatives: 24.0000 - val_false_positives: 0.0000e+00 - val_false_negatives: 2.0000 - val_precision: 1.0000 - val_recall: 0.8182\n",
      "Epoch 274/300\n",
      "4/4 [==============================] - 0s 22ms/step - loss: 7.3498e-05 - accuracy: 1.0000 - true_positives: 23.0000 - true_negatives: 79.0000 - false_positives: 0.0000e+00 - false_negatives: 0.0000e+00 - precision: 1.0000 - recall: 1.0000 - val_loss: 0.1688 - val_accuracy: 0.9429 - val_true_positives: 9.0000 - val_true_negatives: 24.0000 - val_false_positives: 0.0000e+00 - val_false_negatives: 2.0000 - val_precision: 1.0000 - val_recall: 0.8182\n",
      "Epoch 275/300\n",
      "4/4 [==============================] - 0s 48ms/step - loss: 9.8469e-05 - accuracy: 1.0000 - true_positives: 23.0000 - true_negatives: 79.0000 - false_positives: 0.0000e+00 - false_negatives: 0.0000e+00 - precision: 1.0000 - recall: 1.0000 - val_loss: 0.1575 - val_accuracy: 0.9429 - val_true_positives: 9.0000 - val_true_negatives: 24.0000 - val_false_positives: 0.0000e+00 - val_false_negatives: 2.0000 - val_precision: 1.0000 - val_recall: 0.8182\n",
      "Epoch 276/300\n",
      "4/4 [==============================] - 0s 18ms/step - loss: 1.1423e-04 - accuracy: 1.0000 - true_positives: 23.0000 - true_negatives: 79.0000 - false_positives: 0.0000e+00 - false_negatives: 0.0000e+00 - precision: 1.0000 - recall: 1.0000 - val_loss: 0.1550 - val_accuracy: 0.9429 - val_true_positives: 9.0000 - val_true_negatives: 24.0000 - val_false_positives: 0.0000e+00 - val_false_negatives: 2.0000 - val_precision: 1.0000 - val_recall: 0.8182\n",
      "Epoch 277/300\n",
      "4/4 [==============================] - 0s 46ms/step - loss: 1.8184e-04 - accuracy: 1.0000 - true_positives: 23.0000 - true_negatives: 79.0000 - false_positives: 0.0000e+00 - false_negatives: 0.0000e+00 - precision: 1.0000 - recall: 1.0000 - val_loss: 0.1601 - val_accuracy: 0.9429 - val_true_positives: 9.0000 - val_true_negatives: 24.0000 - val_false_positives: 0.0000e+00 - val_false_negatives: 2.0000 - val_precision: 1.0000 - val_recall: 0.8182\n",
      "Epoch 278/300\n",
      "4/4 [==============================] - 0s 20ms/step - loss: 9.1663e-05 - accuracy: 1.0000 - true_positives: 23.0000 - true_negatives: 79.0000 - false_positives: 0.0000e+00 - false_negatives: 0.0000e+00 - precision: 1.0000 - recall: 1.0000 - val_loss: 0.1633 - val_accuracy: 0.9429 - val_true_positives: 9.0000 - val_true_negatives: 24.0000 - val_false_positives: 0.0000e+00 - val_false_negatives: 2.0000 - val_precision: 1.0000 - val_recall: 0.8182\n",
      "Epoch 279/300\n",
      "4/4 [==============================] - 0s 49ms/step - loss: 1.2285e-04 - accuracy: 1.0000 - true_positives: 23.0000 - true_negatives: 79.0000 - false_positives: 0.0000e+00 - false_negatives: 0.0000e+00 - precision: 1.0000 - recall: 1.0000 - val_loss: 0.1694 - val_accuracy: 0.9429 - val_true_positives: 9.0000 - val_true_negatives: 24.0000 - val_false_positives: 0.0000e+00 - val_false_negatives: 2.0000 - val_precision: 1.0000 - val_recall: 0.8182\n",
      "Epoch 280/300\n",
      "4/4 [==============================] - 0s 26ms/step - loss: 6.6757e-05 - accuracy: 1.0000 - true_positives: 23.0000 - true_negatives: 79.0000 - false_positives: 0.0000e+00 - false_negatives: 0.0000e+00 - precision: 1.0000 - recall: 1.0000 - val_loss: 0.1801 - val_accuracy: 0.9429 - val_true_positives: 9.0000 - val_true_negatives: 24.0000 - val_false_positives: 0.0000e+00 - val_false_negatives: 2.0000 - val_precision: 1.0000 - val_recall: 0.8182\n",
      "Epoch 281/300\n",
      "4/4 [==============================] - 0s 49ms/step - loss: 8.7968e-05 - accuracy: 1.0000 - true_positives: 23.0000 - true_negatives: 79.0000 - false_positives: 0.0000e+00 - false_negatives: 0.0000e+00 - precision: 1.0000 - recall: 1.0000 - val_loss: 0.1869 - val_accuracy: 0.9429 - val_true_positives: 9.0000 - val_true_negatives: 24.0000 - val_false_positives: 0.0000e+00 - val_false_negatives: 2.0000 - val_precision: 1.0000 - val_recall: 0.8182\n",
      "Epoch 282/300\n",
      "4/4 [==============================] - 0s 24ms/step - loss: 5.7286e-05 - accuracy: 1.0000 - true_positives: 23.0000 - true_negatives: 79.0000 - false_positives: 0.0000e+00 - false_negatives: 0.0000e+00 - precision: 1.0000 - recall: 1.0000 - val_loss: 0.1857 - val_accuracy: 0.9429 - val_true_positives: 9.0000 - val_true_negatives: 24.0000 - val_false_positives: 0.0000e+00 - val_false_negatives: 2.0000 - val_precision: 1.0000 - val_recall: 0.8182\n",
      "Epoch 283/300\n",
      "4/4 [==============================] - 0s 55ms/step - loss: 7.8718e-05 - accuracy: 1.0000 - true_positives: 23.0000 - true_negatives: 79.0000 - false_positives: 0.0000e+00 - false_negatives: 0.0000e+00 - precision: 1.0000 - recall: 1.0000 - val_loss: 0.1837 - val_accuracy: 0.9429 - val_true_positives: 9.0000 - val_true_negatives: 24.0000 - val_false_positives: 0.0000e+00 - val_false_negatives: 2.0000 - val_precision: 1.0000 - val_recall: 0.8182\n",
      "Epoch 284/300\n",
      "4/4 [==============================] - 0s 26ms/step - loss: 9.0155e-05 - accuracy: 1.0000 - true_positives: 23.0000 - true_negatives: 79.0000 - false_positives: 0.0000e+00 - false_negatives: 0.0000e+00 - precision: 1.0000 - recall: 1.0000 - val_loss: 0.1825 - val_accuracy: 0.9429 - val_true_positives: 9.0000 - val_true_negatives: 24.0000 - val_false_positives: 0.0000e+00 - val_false_negatives: 2.0000 - val_precision: 1.0000 - val_recall: 0.8182\n",
      "Epoch 285/300\n",
      "4/4 [==============================] - 0s 56ms/step - loss: 6.7985e-05 - accuracy: 1.0000 - true_positives: 23.0000 - true_negatives: 79.0000 - false_positives: 0.0000e+00 - false_negatives: 0.0000e+00 - precision: 1.0000 - recall: 1.0000 - val_loss: 0.1759 - val_accuracy: 0.9429 - val_true_positives: 9.0000 - val_true_negatives: 24.0000 - val_false_positives: 0.0000e+00 - val_false_negatives: 2.0000 - val_precision: 1.0000 - val_recall: 0.8182\n",
      "Epoch 286/300\n",
      "4/4 [==============================] - 0s 25ms/step - loss: 4.8490e-05 - accuracy: 1.0000 - true_positives: 23.0000 - true_negatives: 79.0000 - false_positives: 0.0000e+00 - false_negatives: 0.0000e+00 - precision: 1.0000 - recall: 1.0000 - val_loss: 0.1722 - val_accuracy: 0.9429 - val_true_positives: 9.0000 - val_true_negatives: 24.0000 - val_false_positives: 0.0000e+00 - val_false_negatives: 2.0000 - val_precision: 1.0000 - val_recall: 0.8182\n"
     ]
    },
    {
     "name": "stdout",
     "output_type": "stream",
     "text": [
      "Epoch 287/300\n",
      "4/4 [==============================] - 0s 54ms/step - loss: 8.8955e-05 - accuracy: 1.0000 - true_positives: 23.0000 - true_negatives: 79.0000 - false_positives: 0.0000e+00 - false_negatives: 0.0000e+00 - precision: 1.0000 - recall: 1.0000 - val_loss: 0.1735 - val_accuracy: 0.9429 - val_true_positives: 9.0000 - val_true_negatives: 24.0000 - val_false_positives: 0.0000e+00 - val_false_negatives: 2.0000 - val_precision: 1.0000 - val_recall: 0.8182\n",
      "Epoch 288/300\n",
      "4/4 [==============================] - 0s 24ms/step - loss: 9.2660e-05 - accuracy: 1.0000 - true_positives: 23.0000 - true_negatives: 79.0000 - false_positives: 0.0000e+00 - false_negatives: 0.0000e+00 - precision: 1.0000 - recall: 1.0000 - val_loss: 0.1751 - val_accuracy: 0.9429 - val_true_positives: 9.0000 - val_true_negatives: 24.0000 - val_false_positives: 0.0000e+00 - val_false_negatives: 2.0000 - val_precision: 1.0000 - val_recall: 0.8182\n",
      "Epoch 289/300\n",
      "4/4 [==============================] - 0s 50ms/step - loss: 5.3265e-05 - accuracy: 1.0000 - true_positives: 23.0000 - true_negatives: 79.0000 - false_positives: 0.0000e+00 - false_negatives: 0.0000e+00 - precision: 1.0000 - recall: 1.0000 - val_loss: 0.1807 - val_accuracy: 0.9429 - val_true_positives: 9.0000 - val_true_negatives: 24.0000 - val_false_positives: 0.0000e+00 - val_false_negatives: 2.0000 - val_precision: 1.0000 - val_recall: 0.8182\n",
      "Epoch 290/300\n",
      "4/4 [==============================] - 0s 23ms/step - loss: 6.2812e-05 - accuracy: 1.0000 - true_positives: 23.0000 - true_negatives: 79.0000 - false_positives: 0.0000e+00 - false_negatives: 0.0000e+00 - precision: 1.0000 - recall: 1.0000 - val_loss: 0.1892 - val_accuracy: 0.9429 - val_true_positives: 9.0000 - val_true_negatives: 24.0000 - val_false_positives: 0.0000e+00 - val_false_negatives: 2.0000 - val_precision: 1.0000 - val_recall: 0.8182\n",
      "Epoch 291/300\n",
      "4/4 [==============================] - 0s 52ms/step - loss: 6.5297e-05 - accuracy: 1.0000 - true_positives: 23.0000 - true_negatives: 79.0000 - false_positives: 0.0000e+00 - false_negatives: 0.0000e+00 - precision: 1.0000 - recall: 1.0000 - val_loss: 0.1947 - val_accuracy: 0.9429 - val_true_positives: 9.0000 - val_true_negatives: 24.0000 - val_false_positives: 0.0000e+00 - val_false_negatives: 2.0000 - val_precision: 1.0000 - val_recall: 0.8182\n",
      "Epoch 292/300\n",
      "4/4 [==============================] - 0s 21ms/step - loss: 8.3457e-05 - accuracy: 1.0000 - true_positives: 23.0000 - true_negatives: 79.0000 - false_positives: 0.0000e+00 - false_negatives: 0.0000e+00 - precision: 1.0000 - recall: 1.0000 - val_loss: 0.1952 - val_accuracy: 0.9429 - val_true_positives: 9.0000 - val_true_negatives: 24.0000 - val_false_positives: 0.0000e+00 - val_false_negatives: 2.0000 - val_precision: 1.0000 - val_recall: 0.8182\n",
      "Epoch 293/300\n",
      "4/4 [==============================] - 0s 50ms/step - loss: 1.1748e-04 - accuracy: 1.0000 - true_positives: 23.0000 - true_negatives: 79.0000 - false_positives: 0.0000e+00 - false_negatives: 0.0000e+00 - precision: 1.0000 - recall: 1.0000 - val_loss: 0.1904 - val_accuracy: 0.9429 - val_true_positives: 9.0000 - val_true_negatives: 24.0000 - val_false_positives: 0.0000e+00 - val_false_negatives: 2.0000 - val_precision: 1.0000 - val_recall: 0.8182\n",
      "Epoch 294/300\n",
      "4/4 [==============================] - 0s 22ms/step - loss: 5.5315e-05 - accuracy: 1.0000 - true_positives: 23.0000 - true_negatives: 79.0000 - false_positives: 0.0000e+00 - false_negatives: 0.0000e+00 - precision: 1.0000 - recall: 1.0000 - val_loss: 0.1888 - val_accuracy: 0.9429 - val_true_positives: 9.0000 - val_true_negatives: 24.0000 - val_false_positives: 0.0000e+00 - val_false_negatives: 2.0000 - val_precision: 1.0000 - val_recall: 0.8182\n",
      "Epoch 295/300\n",
      "4/4 [==============================] - 0s 53ms/step - loss: 9.1155e-05 - accuracy: 1.0000 - true_positives: 23.0000 - true_negatives: 79.0000 - false_positives: 0.0000e+00 - false_negatives: 0.0000e+00 - precision: 1.0000 - recall: 1.0000 - val_loss: 0.1826 - val_accuracy: 0.9429 - val_true_positives: 9.0000 - val_true_negatives: 24.0000 - val_false_positives: 0.0000e+00 - val_false_negatives: 2.0000 - val_precision: 1.0000 - val_recall: 0.8182\n",
      "Epoch 296/300\n",
      "4/4 [==============================] - 0s 21ms/step - loss: 4.0933e-05 - accuracy: 1.0000 - true_positives: 23.0000 - true_negatives: 79.0000 - false_positives: 0.0000e+00 - false_negatives: 0.0000e+00 - precision: 1.0000 - recall: 1.0000 - val_loss: 0.1833 - val_accuracy: 0.9429 - val_true_positives: 9.0000 - val_true_negatives: 24.0000 - val_false_positives: 0.0000e+00 - val_false_negatives: 2.0000 - val_precision: 1.0000 - val_recall: 0.8182\n",
      "Epoch 297/300\n",
      "4/4 [==============================] - 0s 50ms/step - loss: 4.2864e-05 - accuracy: 1.0000 - true_positives: 23.0000 - true_negatives: 79.0000 - false_positives: 0.0000e+00 - false_negatives: 0.0000e+00 - precision: 1.0000 - recall: 1.0000 - val_loss: 0.1817 - val_accuracy: 0.9429 - val_true_positives: 9.0000 - val_true_negatives: 24.0000 - val_false_positives: 0.0000e+00 - val_false_negatives: 2.0000 - val_precision: 1.0000 - val_recall: 0.8182\n",
      "Epoch 298/300\n",
      "4/4 [==============================] - 0s 23ms/step - loss: 9.6418e-05 - accuracy: 1.0000 - true_positives: 23.0000 - true_negatives: 79.0000 - false_positives: 0.0000e+00 - false_negatives: 0.0000e+00 - precision: 1.0000 - recall: 1.0000 - val_loss: 0.1760 - val_accuracy: 0.9429 - val_true_positives: 9.0000 - val_true_negatives: 24.0000 - val_false_positives: 0.0000e+00 - val_false_negatives: 2.0000 - val_precision: 1.0000 - val_recall: 0.8182\n",
      "Epoch 299/300\n",
      "4/4 [==============================] - 0s 52ms/step - loss: 7.4462e-05 - accuracy: 1.0000 - true_positives: 23.0000 - true_negatives: 79.0000 - false_positives: 0.0000e+00 - false_negatives: 0.0000e+00 - precision: 1.0000 - recall: 1.0000 - val_loss: 0.1713 - val_accuracy: 0.9429 - val_true_positives: 9.0000 - val_true_negatives: 24.0000 - val_false_positives: 0.0000e+00 - val_false_negatives: 2.0000 - val_precision: 1.0000 - val_recall: 0.8182\n",
      "Epoch 300/300\n",
      "4/4 [==============================] - 0s 21ms/step - loss: 1.0985e-04 - accuracy: 1.0000 - true_positives: 23.0000 - true_negatives: 79.0000 - false_positives: 0.0000e+00 - false_negatives: 0.0000e+00 - precision: 1.0000 - recall: 1.0000 - val_loss: 0.1726 - val_accuracy: 0.9429 - val_true_positives: 9.0000 - val_true_negatives: 24.0000 - val_false_positives: 0.0000e+00 - val_false_negatives: 2.0000 - val_precision: 1.0000 - val_recall: 0.8182\n"
     ]
    }
   ],
   "source": [
    "tensorboard = TensorBoard(log_dir='./logs3', histogram_freq=2, batch_size=batch_size, write_graph=True, write_grads=True, write_images=True)\n",
    "model1_hist = model1.fit(X_train_rho, y_train_rho, batch_size=batch_size, epochs=300, \n",
    "          validation_data = (X_vali_rho,y_vali_rho), callbacks = [tensorboard])"
   ]
  },
  {
   "cell_type": "markdown",
   "metadata": {},
   "source": [
    "What proportion of actual positives was identified correctly?  RECALL"
   ]
  },
  {
   "cell_type": "code",
   "execution_count": 168,
   "metadata": {},
   "outputs": [],
   "source": [
    "def lr_plot(history_obj,model_name):\n",
    "    ''' input : model , model_name : tf model, str'''\n",
    "    history = history_obj.history\n",
    "    x_arr = np.arange(len(history['loss']))+1\n",
    "    fig = plt.figure(figsize=(12,4))\n",
    "    ax= fig.add_subplot(1,2,1)\n",
    "    ax.plot(x_arr,history['loss'],'-',label='train')\n",
    "    ax.plot(x_arr,history['val_loss'],'-',label='validation')\n",
    "    ax.legend()\n",
    "    ax.set_xlabel('Epoch',size=15)\n",
    "    ax.set_ylabel('Loss',size=15)\n",
    "\n",
    "    ax = fig.add_subplot(1,2,2)\n",
    "    ax.plot(x_arr,history['recall'],'-',label='train')\n",
    "    ax.plot(x_arr,history['val_recall'],'-',label='val')\n",
    "    ax.legend()\n",
    "    ax.set_xlabel('Epochs',size=15)\n",
    "    ax.set_ylabel('Recall',size=15)\n",
    "    fig.suptitle(model_name,fontsize='16')\n",
    "    #plt.savefig('../images/lr_plot_model1_100epochs.png')\n",
    "  "
   ]
  },
  {
   "cell_type": "code",
   "execution_count": 169,
   "metadata": {
    "scrolled": true
   },
   "outputs": [
    {
     "data": {
      "image/png": "[encoded data removed]",
      "text/plain": [
       "<Figure size 864x288 with 2 Axes>"
      ]
     },
     "metadata": {
      "needs_background": "light"
     },
     "output_type": "display_data"
    }
   ],
   "source": [
    "lr_plot(model1_hist,'Model 1: 100 epochs')"
   ]
  },
  {
   "cell_type": "markdown",
   "metadata": {},
   "source": [
    "what to do next:\n",
    "\n",
    "find that paper that did this and compair there architecture see iof i should deepen or something<br>\n",
    "confusion matrix<br>\n",
    "fix up slides and read me to find story flow?<br>\n",
    "should i do a featurinzed clustering?<br>\n"
   ]
  },
  {
   "cell_type": "code",
   "execution_count": null,
   "metadata": {},
   "outputs": [],
   "source": []
  }
 ],
 "metadata": {
  "kernelspec": {
   "display_name": "Python 3",
   "language": "python",
   "name": "python3"
  },
  "language_info": {
   "codemirror_mode": {
    "name": "ipython",
    "version": 3
   },
   "file_extension": ".py",
   "mimetype": "text/x-python",
   "name": "python",
   "nbconvert_exporter": "python",
   "pygments_lexer": "ipython3",
   "version": "3.7.6"
  }
 },
 "nbformat": 4,
 "nbformat_minor": 4
}
